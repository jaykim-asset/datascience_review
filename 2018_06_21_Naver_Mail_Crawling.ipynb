{
 "cells": [
  {
   "cell_type": "markdown",
   "metadata": {},
   "source": [
    "#### Naver Crawling\n",
    "- Move to naver.com\n",
    "- ID and Password Insert\n",
    "- Login button Click\n",
    "- Move to Mail Page\n",
    "- Mail Crawling Start!"
   ]
  },
  {
   "cell_type": "code",
   "execution_count": 5,
   "metadata": {},
   "outputs": [],
   "source": [
    "from selenium import webdriver"
   ]
  },
  {
   "cell_type": "code",
   "execution_count": 6,
   "metadata": {},
   "outputs": [],
   "source": [
    "main_url = 'http://naver.com'\n",
    "mail_url = 'https://mail.naver.com'"
   ]
  },
  {
   "cell_type": "code",
   "execution_count": 7,
   "metadata": {},
   "outputs": [],
   "source": [
    "# 네이버 페이지로 이동\n",
    "driver = webdriver.Chrome()\n",
    "driver.get(main_url)"
   ]
  },
  {
   "cell_type": "code",
   "execution_count": 8,
   "metadata": {},
   "outputs": [],
   "source": [
    "# 아이디 패스워드 입력\n",
    "driver.find_element_by_css_selector('#id').send_keys('rlawhdwo051')\n",
    "driver.find_element_by_css_selector('#pw').send_keys('FAker888')"
   ]
  },
  {
   "cell_type": "code",
   "execution_count": 9,
   "metadata": {},
   "outputs": [],
   "source": [
    "# 로그인 버튼 클릭\n",
    "driver.find_element_by_css_selector('.btn_login > input[type=submit]').click()"
   ]
  },
  {
   "cell_type": "code",
   "execution_count": 10,
   "metadata": {},
   "outputs": [],
   "source": [
    "# 메일 페이지로 이동\n",
    "driver.get(mail_url)"
   ]
  },
  {
   "cell_type": "code",
   "execution_count": 11,
   "metadata": {},
   "outputs": [
    {
     "data": {
      "text/plain": [
       "15"
      ]
     },
     "execution_count": 11,
     "metadata": {},
     "output_type": "execute_result"
    }
   ],
   "source": [
    "# 메일 데이터 수집\n",
    "mails = driver.find_elements_by_css_selector('.mailList > li')\n",
    "len(mails) # 15"
   ]
  },
  {
   "cell_type": "code",
   "execution_count": 16,
   "metadata": {},
   "outputs": [
    {
     "name": "stdout",
     "output_type": "stream",
     "text": [
      "BC카드 백정희님의 부산은행 BC카드 2018년 07월 01일 이용대금명세서입니다.\n",
      "쇼킹딜 (광고)지오다노 본사 반팔티/린넨팬츠외 바캉스 특가 + 20%쿠폰\n",
      "위메프 (광고) 양말 20켤레 --> 4,900원\n",
      "강성희 (광고) 38기 마감임박! 데이터 사이언스 입문반\n",
      "라이나암보험 (광고) 최대3만원 상품권(가입), 암보험료 즉시확인, 맞춤설계\n",
      "위메프 (광고) 끼니 거르지마~ 볶음밥\n",
      "이벤트메일 (광고) 신개념 남성수술 5S복합수술 지원자를 모집합니다~\n",
      "건강보험료안내 (광고) #내보험료 즉시조회 #간편심사로 가입되는 건강보험\n",
      "코웨이 [코웨이] 김척수고객님~ 지난 1년간 코웨이를 잊으셨나요?\n",
      "강성희 (광고) 38기 마감임박! 데이터 사이언스 입문반\n",
      "Steam Support Your Steam account: Access from new web or mobile device\n",
      "위메프 (광고) 설레는 오늘의 쿠폰소식, 확인해보세요!\n",
      "일지희망편지 지금 이 순간\n",
      "Steam 客服 您的 Steam 帐户：来自新电脑的访问\n",
      "[global21] [광고] global21 “Daily Chinese Service” 중국어\n"
     ]
    }
   ],
   "source": [
    "for mail in mails:\n",
    "    name = mail.find_element_by_css_selector('.name > a').text\n",
    "    title = mail.find_element_by_css_selector('.mail_title').text\n",
    "    print(name, title)"
   ]
  },
  {
   "cell_type": "code",
   "execution_count": 17,
   "metadata": {},
   "outputs": [],
   "source": [
    "url2 = 'https://mail.naver.com/?n=1529567792284&v=f#{\"fClass\":\"list\",\"oParameter\":{\"page\":\"2\",\"sortField\":\"1\",\"sortType\":\"0\",\"folderSN\":\"0\",\"type\":\"\",\"isUnread\":false}}'\n",
    "driver.get(url2)\n",
    "### https://meyerweb.com/eric/tools/dencoder/"
   ]
  },
  {
   "cell_type": "code",
   "execution_count": 19,
   "metadata": {},
   "outputs": [
    {
     "data": {
      "text/plain": [
       "15"
      ]
     },
     "execution_count": 19,
     "metadata": {},
     "output_type": "execute_result"
    }
   ],
   "source": [
    "mails2 = driver.find_elements_by_css_selector('.mailList > li')\n",
    "len(mails2)"
   ]
  },
  {
   "cell_type": "code",
   "execution_count": 20,
   "metadata": {},
   "outputs": [
    {
     "name": "stdout",
     "output_type": "stream",
     "text": [
      "[global21] [광고] global21 “Daily Japanese Service” 일본어\n",
      "[global21] [광고] global21 “Daily English Service” 영어\n",
      "Rohan Mathews [WEBINAR] Know how EPAT can help you as a Trader!\n",
      "리본즈 코리아 (광고) [Reebonz] 18SS 시즌 오프, 남성 리본즈 딜!\n",
      "11번가 쿠폰메일 (광고) 해외항공권 3만원 할인!\n",
      "위메프 (광고) 르카프/케이스위스 --> 2,900원\n",
      "암보험료안내 (광고) 24시간 보험료계산OK! 암보험 진단금 확인(최대100세까지보장, 갱신시)\n",
      "빗썸 bithumb [빗썸] 입출금 서비스 전면 중단 안내\n",
      "쇼킹딜 (광고)나이키코리아 공식 정기세일-> 최대 44% 할인 + 10% 쿠폰\n",
      "HotelLotteCoLtd [롯데호텔앤리조트] 롯데호텔서울 페닌슐라 영업 종료 안내문\n",
      "암보험료안내 (광고) 24시간 보험료계산OK! 암보험 진단금 확인(최대100세까지보장, 갱신시)\n",
      "위메프 (광고) 양말 20켤레 초특가!\n",
      "금융권 취업정보 (광고)[금융권 취업 정보] 금융권 취준생을 위한 금융멘토 맹재원의 금융권 박살내기\n",
      "일지희망편지 공손함\n",
      "[global21] [광고] global21 “Daily Chinese Service” 중국어\n"
     ]
    }
   ],
   "source": [
    "for mail in mails2:\n",
    "    name = mail.find_element_by_css_selector('.name > a').text\n",
    "    title = mail.find_element_by_css_selector('.mail_title').text\n",
    "    print(name, title)"
   ]
  },
  {
   "cell_type": "code",
   "execution_count": null,
   "metadata": {},
   "outputs": [],
   "source": []
  }
 ],
 "metadata": {
  "kernelspec": {
   "display_name": "Python 3",
   "language": "python",
   "name": "python3"
  },
  "language_info": {
   "codemirror_mode": {
    "name": "ipython",
    "version": 3
   },
   "file_extension": ".py",
   "mimetype": "text/x-python",
   "name": "python",
   "nbconvert_exporter": "python",
   "pygments_lexer": "ipython3",
   "version": "3.6.4"
  }
 },
 "nbformat": 4,
 "nbformat_minor": 2
}
