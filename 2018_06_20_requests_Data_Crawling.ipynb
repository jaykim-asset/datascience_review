{
 "cells": [
  {
   "cell_type": "code",
   "execution_count": 2,
   "metadata": {},
   "outputs": [],
   "source": [
    "import requests\n",
    "import time\n",
    "from bs4 import BeautifulSoup\n",
    "import forecastio"
   ]
  },
  {
   "cell_type": "markdown",
   "metadata": {},
   "source": [
    "### Naver 주식 데이터 가져오기\n",
    "- api 사용: json 파싱을 한다.\n",
    "- 네이버 주식 페이지에서 주식 데이터를 가져와 데이터 프레임으로 만들기\n"
   ]
  },
  {
   "cell_type": "code",
   "execution_count": 5,
   "metadata": {},
   "outputs": [],
   "source": [
    "def make_url(pageSize=10, page=1):\n",
    "    return \"http://m.stock.naver.com/sise/siseList.nhn?menu=market_sum&sosok=0\"\n",
    "\n",
    "def get_data(url):\n",
    "    response = requests.get(url)\n",
    "    json_info = response.json()\n",
    "    companys = json_info['result']['itemList']\n",
    "    df = pd.DataFrame(columns = ['종목', '시세', '전일비', '등락율', '시가총액', '거래량'])\n",
    "    for company in companys:\n",
    "        df.loc[len(df)] = {\n",
    "            '종목': company['nm'],\n",
    "            '시세': company['nv'],\n",
    "            '전일비': company['cv'],\n",
    "            '등락율': company['cr'],\n",
    "            '시가총액': company['mks'],\n",
    "            '거래량': company['aq'],\n",
    "        }\n",
    "    return df"
   ]
  },
  {
   "cell_type": "code",
   "execution_count": null,
   "metadata": {},
   "outputs": [],
   "source": [
    "url = make_url(1406,1)\n",
    "df = get_data(url)"
   ]
  },
  {
   "cell_type": "markdown",
   "metadata": {},
   "source": [
    "#### Dark Sky API\n",
    "- 날씨 정보를 알려주는 API"
   ]
  },
  {
   "cell_type": "code",
   "execution_count": null,
   "metadata": {},
   "outputs": [],
   "source": [
    "def forecast(lat, lng):\n",
    "    url = ''\n",
    "    response = requests.get(url)\n",
    "    json_inf = response.json()\n",
    "    return json_info['hourly']['summary'], json_info['timezone']\n",
    "lat = 37.1234\n",
    "lng = 126.90123\n",
    "forcast(lat, lng)"
   ]
  },
  {
   "cell_type": "code",
   "execution_count": null,
   "metadata": {},
   "outputs": [],
   "source": [
    "def forecast(lat, lng):\n",
    "    forecast = forcastio.load_forcast(Forcast_token, lat, lng)\n",
    "    byHour = forecast.hourly()\n",
    "    return byHour.summary"
   ]
  },
  {
   "cell_type": "code",
   "execution_count": null,
   "metadata": {},
   "outputs": [],
   "source": [
    "lat = 37.12312456\n",
    "lng = 126.123123\n",
    "forcast(lat, lng)"
   ]
  },
  {
   "cell_type": "markdown",
   "metadata": {},
   "source": [
    "#### BeautifulSoup"
   ]
  },
  {
   "cell_type": "code",
   "execution_count": null,
   "metadata": {},
   "outputs": [],
   "source": [
    "def naver_top20():\n",
    "    df = pd.DataFrame(columns = ['rank', 'keyword'])\n",
    "    response = requests.get('http://naver.com')\n",
    "    dom = BeautifulSoup(response.content, 'html.parser')\n",
    "    keywords = dom.select('.ah_roll .ah_l .ah_item')\n",
    "    for keyword in keywords:\n",
    "        df.loc[len(df)] = {\n",
    "            'rank': keyword.select_one('.ah_r').text,\n",
    "            'keyword': keyword.select_one('.ah_k').text,\n",
    "        }\n",
    "    return df"
   ]
  },
  {
   "cell_type": "code",
   "execution_count": null,
   "metadata": {},
   "outputs": [],
   "source": [
    "def daum_top10():\n",
    "    df = pd.DataFrame(columns=['rank', 'keyword'])\n",
    "    response = requests.get('http://daum.net')\n",
    "    dom = BeautifulSoup(response.content, 'html.parser')\n",
    "    keywords = dom.select(\"#mArticle ol.list_hotissue.issue_row.list_mini > li\")\n",
    "    for keyword in keywords:\n",
    "        df.loc[len(df)] = {\n",
    "            'rank': keyword.select_one('.ir_wa').text.replace('위', ''),\n",
    "            'keyword': keyword.select_one('.link_issue').text,\n",
    "        }\n",
    "    return df"
   ]
  },
  {
   "cell_type": "markdown",
   "metadata": {},
   "source": [
    "#### 중복된 키워드 찾아서 출력하기"
   ]
  },
  {
   "cell_type": "code",
   "execution_count": null,
   "metadata": {},
   "outputs": [],
   "source": [
    "result = [keyword for keyword in daum_df['keyword'] if naver_df['keyword'].str.contain]\n",
    "result"
   ]
  },
  {
   "cell_type": "code",
   "execution_count": null,
   "metadata": {},
   "outputs": [],
   "source": [
    "def download()"
   ]
  }
 ],
 "metadata": {
  "kernelspec": {
   "display_name": "Python 3",
   "language": "python",
   "name": "python3"
  },
  "language_info": {
   "codemirror_mode": {
    "name": "ipython",
    "version": 3
   },
   "file_extension": ".py",
   "mimetype": "text/x-python",
   "name": "python",
   "nbconvert_exporter": "python",
   "pygments_lexer": "ipython3",
   "version": "3.6.4"
  }
 },
 "nbformat": 4,
 "nbformat_minor": 2
}
