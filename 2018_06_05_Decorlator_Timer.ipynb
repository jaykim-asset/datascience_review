{
 "cells": [
  {
   "cell_type": "markdown",
   "metadata": {},
   "source": [
    "### Decorlator를 사용해 함수의 실행시간을 알려주는 timer 함수"
   ]
  },
  {
   "cell_type": "code",
   "execution_count": 3,
   "metadata": {},
   "outputs": [],
   "source": [
    "import time\n",
    "def timer(func):\n",
    "    def wrapper(*args, **kwargs): # 함수 정의부 packing\n",
    "        start_time = time.time()\n",
    "        result = func(*args, **kwargs)  # 함수 호출부 unpacking\n",
    "        end_time = time.time()\n",
    "        print('time: {time}'.format(time = end_time - start_time))\n",
    "        return result\n",
    "    return wrapper  # 새로운 함수를 만들고, 그 함수를 return 하는 함수 -> dec 함수"
   ]
  },
  {
   "cell_type": "markdown",
   "metadata": {},
   "source": [
    "#### Timer 예제 \n",
    "- 위에서 만든 timer 데코레이터로 사용할 함수를 이용하여\n",
    "- 세가지 방법의 리스트의 숫자를 더하는 함수가 실행되는데 \n",
    "- 걸리는 시간을 확인하는 코드 입니다. \n",
    "\n",
    "#### 윈도우에서 실행시 time 값이 0 으로 나오지만, 다른 os에서는 제대로 된 값이 나옴"
   ]
  },
  {
   "cell_type": "code",
   "execution_count": 4,
   "metadata": {},
   "outputs": [],
   "source": [
    "@timer \n",
    "def sum_func_1(start_number, last_number):\n",
    "    data = range(start_number, last_number + 1)\n",
    "    return sum(data)\n",
    "\n",
    "@timer\n",
    "def sum_func_2(start_number, last_number):\n",
    "    result = 0\n",
    "    for num in range(start_number, last_number +1):\n",
    "        result += num\n",
    "    return result\n",
    "\n",
    "@timer\n",
    "def sum_func_3(start_number, last_number):\n",
    "    number_list = [num for num in range(start_number, last_number +1)]\n",
    "    return sum(number_list)\n",
    "\n",
    "    "
   ]
  },
  {
   "cell_type": "code",
   "execution_count": 5,
   "metadata": {},
   "outputs": [
    {
     "name": "stdout",
     "output_type": "stream",
     "text": [
      "time: 0.0\n",
      "time: 0.0\n",
      "time: 0.0010020732879638672\n"
     ]
    },
    {
     "data": {
      "text/plain": [
       "(50005000, 50005000, 50005000)"
      ]
     },
     "execution_count": 5,
     "metadata": {},
     "output_type": "execute_result"
    }
   ],
   "source": [
    "sum_func_1(1,10000), sum_func_2(1,10000), sum_func_3(1,10000)"
   ]
  },
  {
   "cell_type": "code",
   "execution_count": null,
   "metadata": {},
   "outputs": [],
   "source": []
  }
 ],
 "metadata": {
  "kernelspec": {
   "display_name": "Python 3",
   "language": "python",
   "name": "python3"
  },
  "language_info": {
   "codemirror_mode": {
    "name": "ipython",
    "version": 3
   },
   "file_extension": ".py",
   "mimetype": "text/x-python",
   "name": "python",
   "nbconvert_exporter": "python",
   "pygments_lexer": "ipython3",
   "version": "3.6.4"
  }
 },
 "nbformat": 4,
 "nbformat_minor": 2
}
