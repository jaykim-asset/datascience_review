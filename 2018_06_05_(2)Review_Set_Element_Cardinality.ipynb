{
 "cells": [
  {
   "cell_type": "markdown",
   "metadata": {},
   "source": [
    "## 집합"
   ]
  },
  {
   "cell_type": "markdown",
   "metadata": {},
   "source": [
    "- 확률을 수학적으로 정의하기 위해서는 집합론을 알아야 하므로 여기에서는 집합론의 기초를 간단히 복습한다."
   ]
  },
  {
   "cell_type": "markdown",
   "metadata": {},
   "source": [
    "## 집합과 원소\n",
    "- 집합(set): 구별 가능한 객체의 모임\n",
    "- 원소(element): 집합에 포함된 객체\n",
    "- 집합을 이루는 객체는 반드시 숫자일 필요가 없다. \n",
    "- 집합은 보통 알파벳 대문자를 사용하여 표시하고, 원소는 알파벳 소문자로 표시한다.\n",
    "- 파이썬에서는 set과 frozenset 자료형으로 집합을 나타낸다. **set**은 내용을 변경 할 수 있는 뮤터블(mutable)자료형이고 frozenset은 내용을 변경 할 수 없는 임뮤터브(immutable) 자료형이다. (리스트 자료형과 튜플 자료형의 관계와 같다). 뮤터블 자료형은 dictionary 자료형의 key나 혹은 set 자료형의 원소가 될 수 없다. Immutable 자료형만 딕셔너리 자료형의 키나 set자료형의 원소가 될 수 있다."
   ]
  },
  {
   "cell_type": "code",
   "execution_count": 20,
   "metadata": {},
   "outputs": [
    {
     "data": {
      "text/plain": [
       "{1, 2, 3}"
      ]
     },
     "execution_count": 20,
     "metadata": {},
     "output_type": "execute_result"
    }
   ],
   "source": [
    "import numpy as np\n",
    "import pandas as pd\n",
    "import matplotlib.pyplot as plt\n",
    "%matplotlib inline\n",
    "A = set([1,2,3,3,2]) # 중복된 자료는 없어진다.\n",
    "A"
   ]
  },
  {
   "cell_type": "code",
   "execution_count": 2,
   "metadata": {},
   "outputs": [
    {
     "data": {
      "text/plain": [
       "frozenset({'H', 'T'})"
      ]
     },
     "execution_count": 2,
     "metadata": {},
     "output_type": "execute_result"
    }
   ],
   "source": [
    "B = frozenset(['H', 'T'])\n",
    "B"
   ]
  },
  {
   "cell_type": "code",
   "execution_count": 3,
   "metadata": {},
   "outputs": [
    {
     "data": {
      "text/plain": [
       "{'♠', '♣', '♥', '♦'}"
      ]
     },
     "execution_count": 3,
     "metadata": {},
     "output_type": "execute_result"
    }
   ],
   "source": [
    "C = set(['\\u2660', '\\u2663', '\\u2665', '\\u2666'])\n",
    "C"
   ]
  },
  {
   "cell_type": "markdown",
   "metadata": {},
   "source": [
    "### 집합의 크기\n",
    "- 집합의 크기 **(cardinality, 카디널리티)는 집합이 가지는 원소의 갯수**를 말한다. ll 기호나 card 기호를 사용해서 나타낸다. 만약 A={1,2,3}이면,\n",
    "- lAl = Card(A) = 3\n",
    "- 파이썬에서는 Len 명령어로 구한다."
   ]
  },
  {
   "cell_type": "code",
   "execution_count": 14,
   "metadata": {},
   "outputs": [
    {
     "data": {
      "text/plain": [
       "(3, 2, 4)"
      ]
     },
     "execution_count": 14,
     "metadata": {},
     "output_type": "execute_result"
    }
   ],
   "source": [
    "len(A), len(B), len(C)"
   ]
  },
  {
   "cell_type": "markdown",
   "metadata": {},
   "source": [
    "- 두 실수 사이에는 항상 다른 실수가 존재하므로, 다음과 같은 실수 구간 집합은 무한개의 원소를 가진 집합이다.\n",
    "- A = {x: 0 < x < 1}"
   ]
  },
  {
   "cell_type": "markdown",
   "metadata": {},
   "source": [
    "- 파이썬에서는 union, intersection 메서드나 |, & 연산자를 이용해서 합집합과 교집합을 구할 수 있다."
   ]
  },
  {
   "cell_type": "code",
   "execution_count": 15,
   "metadata": {},
   "outputs": [],
   "source": [
    "A1 = set([1,2,3,4,])\n",
    "A2 = set([2,4,6])\n",
    "A3 = set([1,2,3])\n",
    "A4 = set([2,3,4,5,6])"
   ]
  },
  {
   "cell_type": "code",
   "execution_count": 16,
   "metadata": {},
   "outputs": [
    {
     "data": {
      "text/plain": [
       "{1, 2, 3, 4, 6}"
      ]
     },
     "execution_count": 16,
     "metadata": {},
     "output_type": "execute_result"
    }
   ],
   "source": [
    "A1.union(A2)"
   ]
  },
  {
   "cell_type": "code",
   "execution_count": 17,
   "metadata": {},
   "outputs": [
    {
     "data": {
      "text/plain": [
       "{1, 2, 3, 4, 6}"
      ]
     },
     "execution_count": 17,
     "metadata": {},
     "output_type": "execute_result"
    }
   ],
   "source": [
    "A2 | A1"
   ]
  },
  {
   "cell_type": "code",
   "execution_count": 18,
   "metadata": {},
   "outputs": [
    {
     "data": {
      "text/plain": [
       "{2, 3}"
      ]
     },
     "execution_count": 18,
     "metadata": {},
     "output_type": "execute_result"
    }
   ],
   "source": [
    "A3.intersection(A4)"
   ]
  },
  {
   "cell_type": "code",
   "execution_count": 19,
   "metadata": {},
   "outputs": [
    {
     "data": {
      "text/plain": [
       "{2, 3}"
      ]
     },
     "execution_count": 19,
     "metadata": {},
     "output_type": "execute_result"
    }
   ],
   "source": [
    "A3 & A4"
   ]
  },
  {
   "cell_type": "markdown",
   "metadata": {},
   "source": [
    "### 전체집합, 부분집합, 여집합"
   ]
  },
  {
   "cell_type": "markdown",
   "metadata": {},
   "source": [
    "- **부분집합(subset)**: 어떤 집합의 원소 중 일부만을 포함하는 집합.\n",
    "- **전체집합**: 원래의 집합\n",
    "- 집합A가 집합 $\\omega$의 부분집합이면, 다음처럼 표시한다.\n",
    "- A $\\in$ $\\omega$"
   ]
  },
  {
   "cell_type": "markdown",
   "metadata": {},
   "source": [
    "- 모든 집합은 자기 자신의 부분집합이다. \n",
    "- **진부분집합(proper subset)**: 원소의 크기가 더 작은 부분 집합"
   ]
  },
  {
   "cell_type": "markdown",
   "metadata": {},
   "source": [
    "- 파이썬에서는 두 집합의 부분집합인지를 알아보는 issubset 메서드가 있다. 객체가 인수의 부분집합이면 True를 반환한다. 등호를 포함하는 부등식 연산자로도 같은 결과를 구할 수 있다. 더 작은 쪽이 부분집합이다.등호가 없는 부등식 연산자는 진부분집합 관계를 구한다."
   ]
  },
  {
   "cell_type": "code",
   "execution_count": 21,
   "metadata": {},
   "outputs": [
    {
     "data": {
      "text/plain": [
       "True"
      ]
     },
     "execution_count": 21,
     "metadata": {},
     "output_type": "execute_result"
    }
   ],
   "source": [
    "A3.issubset(A1)"
   ]
  },
  {
   "cell_type": "code",
   "execution_count": 22,
   "metadata": {},
   "outputs": [
    {
     "data": {
      "text/plain": [
       "{1, 2, 3}"
      ]
     },
     "execution_count": 22,
     "metadata": {},
     "output_type": "execute_result"
    }
   ],
   "source": [
    "A3"
   ]
  },
  {
   "cell_type": "code",
   "execution_count": 23,
   "metadata": {},
   "outputs": [
    {
     "data": {
      "text/plain": [
       "{1, 2, 3, 4}"
      ]
     },
     "execution_count": 23,
     "metadata": {},
     "output_type": "execute_result"
    }
   ],
   "source": [
    "A1"
   ]
  },
  {
   "cell_type": "code",
   "execution_count": 24,
   "metadata": {},
   "outputs": [
    {
     "data": {
      "text/plain": [
       "True"
      ]
     },
     "execution_count": 24,
     "metadata": {},
     "output_type": "execute_result"
    }
   ],
   "source": [
    "A3 <= A1"
   ]
  },
  {
   "cell_type": "code",
   "execution_count": 25,
   "metadata": {},
   "outputs": [
    {
     "data": {
      "text/plain": [
       "{2, 4, 6}"
      ]
     },
     "execution_count": 25,
     "metadata": {},
     "output_type": "execute_result"
    }
   ],
   "source": [
    "A2"
   ]
  },
  {
   "cell_type": "code",
   "execution_count": 26,
   "metadata": {},
   "outputs": [
    {
     "data": {
      "text/plain": [
       "False"
      ]
     },
     "execution_count": 26,
     "metadata": {},
     "output_type": "execute_result"
    }
   ],
   "source": [
    "A3.issubset(A2)"
   ]
  },
  {
   "cell_type": "code",
   "execution_count": 27,
   "metadata": {},
   "outputs": [
    {
     "data": {
      "text/plain": [
       "False"
      ]
     },
     "execution_count": 27,
     "metadata": {},
     "output_type": "execute_result"
    }
   ],
   "source": [
    "A3 <= A2"
   ]
  },
  {
   "cell_type": "code",
   "execution_count": 28,
   "metadata": {},
   "outputs": [
    {
     "data": {
      "text/plain": [
       "True"
      ]
     },
     "execution_count": 28,
     "metadata": {},
     "output_type": "execute_result"
    }
   ],
   "source": [
    "A3 <= A3 # 모든 집합은 자기 자신의 부분집합니다."
   ]
  },
  {
   "cell_type": "code",
   "execution_count": 29,
   "metadata": {},
   "outputs": [
    {
     "data": {
      "text/plain": [
       "False"
      ]
     },
     "execution_count": 29,
     "metadata": {},
     "output_type": "execute_result"
    }
   ],
   "source": [
    "A3 < A3 # 모든 집합은 자기 자신의 진부분집합이 아니다."
   ]
  },
  {
   "cell_type": "markdown",
   "metadata": {},
   "source": [
    "### 차집합과 여집합\n",
    "- **차집합(difference)**: 어떤 집합 A에 속하면서 다른 집합 B에 속하지 않는 원소로 이루어진 A의 부분 집합을 A에서 B를 뺀 차집합이라고 하며,\n",
    "- A - B 로 나타낸다\n",
    "- **여집합(Complement)**: 전체집합중에서 부분집합 A에 속하지 않는 원소로만 이루어진 부분집합.\n",
    "- A$\\complement$"
   ]
  },
  {
   "cell_type": "markdown",
   "metadata": {},
   "source": [
    "- 여집합은 전체집합에서 집합A를 뺀 차집합과 같다\n",
    "- 여집합 = $\\Omega$ - A\n",
    "- 파이썬에서는 difference 메서드 혹은 - 연산자로 차집합을 구한다."
   ]
  },
  {
   "cell_type": "code",
   "execution_count": 30,
   "metadata": {},
   "outputs": [
    {
     "data": {
      "text/plain": [
       "{1, 3}"
      ]
     },
     "execution_count": 30,
     "metadata": {},
     "output_type": "execute_result"
    }
   ],
   "source": [
    "A1.difference(A2)"
   ]
  },
  {
   "cell_type": "code",
   "execution_count": 31,
   "metadata": {},
   "outputs": [
    {
     "data": {
      "text/plain": [
       "{1, 3}"
      ]
     },
     "execution_count": 31,
     "metadata": {},
     "output_type": "execute_result"
    }
   ],
   "source": [
    "A1 - A2"
   ]
  },
  {
   "cell_type": "markdown",
   "metadata": {},
   "source": [
    "### 공집합\n",
    "- 아무런 원소도 포함하지 않는 집합을 공집합(null set)이라고 하며, 0기호로 나타낸다.\n",
    "- 공집합은 모든 집합의 부분집합이 된다.\n",
    "- 또한 임의의 집합과 공집합의 교집합은 공집합이, 임의의 집합과 공집합의 합집합은 그 집합 자신이 된다.\n",
    "- 여집합과 원래의 집합의 교집합은 공집합이다."
   ]
  },
  {
   "cell_type": "code",
   "execution_count": 33,
   "metadata": {},
   "outputs": [
    {
     "data": {
      "text/plain": [
       "set()"
      ]
     },
     "execution_count": 33,
     "metadata": {},
     "output_type": "execute_result"
    }
   ],
   "source": [
    "nullset = set([])\n",
    "nullset"
   ]
  },
  {
   "cell_type": "code",
   "execution_count": 34,
   "metadata": {},
   "outputs": [
    {
     "data": {
      "text/plain": [
       "{1, 2, 3, 4}"
      ]
     },
     "execution_count": 34,
     "metadata": {},
     "output_type": "execute_result"
    }
   ],
   "source": [
    "A1\n"
   ]
  },
  {
   "cell_type": "code",
   "execution_count": 35,
   "metadata": {},
   "outputs": [
    {
     "data": {
      "text/plain": [
       "True"
      ]
     },
     "execution_count": 35,
     "metadata": {},
     "output_type": "execute_result"
    }
   ],
   "source": [
    "nullset <= A1"
   ]
  },
  {
   "cell_type": "code",
   "execution_count": 36,
   "metadata": {},
   "outputs": [
    {
     "data": {
      "text/plain": [
       "set()"
      ]
     },
     "execution_count": 36,
     "metadata": {},
     "output_type": "execute_result"
    }
   ],
   "source": [
    "nullset.intersection(A1)"
   ]
  },
  {
   "cell_type": "code",
   "execution_count": 37,
   "metadata": {},
   "outputs": [
    {
     "data": {
      "text/plain": [
       "{1, 2, 3, 4}"
      ]
     },
     "execution_count": 37,
     "metadata": {},
     "output_type": "execute_result"
    }
   ],
   "source": [
    "nullset.union(A1)"
   ]
  },
  {
   "cell_type": "markdown",
   "metadata": {},
   "source": [
    "### 부분집합의 수\n",
    "- 집합 A = {1,2}는 다음과 같은 4개의 부분집합을 가진다.\n",
    "- A1 = 0\n",
    "- A2 = {1}\n",
    "- A3 = {2}\n",
    "- A4 = {1,2}\n",
    "- 일반적으로 원소의 개수가 N개인 집합 2^N개의 부분집합을 가진다. \n",
    "- 부분 집합을 만들 때, 우리가 결정할 수 있는 것은 어떤 원소가 만들고자 하는 부분집합에 포함시키느냐 포함시키지 않느냐이다. N개의 원소 모두에 대해 이러한 의사 결정을 하면 우리가 할 수 있는 결정의 가짓수 즉, 부분집합의 종류는 2^N개가 된다."
   ]
  },
  {
   "cell_type": "markdown",
   "metadata": {},
   "source": [
    "#### 연습문제1\n",
    "- 다음 집합의 부분집합을 생각한다.\n",
    "- A = {HH, HT, TH, TT}\n",
    "- 1. 부분 집합의 개수는? \n",
    "- 2. 이 집합의 모든 부분집합을 frozenset 자료형 객체로 만들고 이를 원소로 가지는 set객체를 만든다."
   ]
  },
  {
   "cell_type": "code",
   "execution_count": 45,
   "metadata": {},
   "outputs": [],
   "source": [
    "# 1. 부분집합의 개수 ->  2 ^ 4 = 16개\n",
    "# 2. 이 집합의 모든 부분집합을 frozenset자료형 만들고,\n",
    "# 이를 원소로 가지는 set객체를 만들어라.\n",
    "A0 = frozenset([])\n",
    "A1 = frozenset(['HH'])\n",
    "A2 = frozenset(['HT'])\n",
    "A3 = frozenset(['TH'])\n",
    "A4 = frozenset(['TT'])\n",
    "A5 = frozenset(['HH', 'HT'])\n",
    "A6 = frozenset(['HH', 'TH'])\n",
    "A7 = frozenset(['HH', 'TT'])\n",
    "A8 = frozenset(['HT', 'TH'])\n",
    "A9 = frozenset(['HT', 'TT'])\n",
    "A10 = frozenset(['TH', 'TT'])\n",
    "A11 = frozenset(['HH', 'HT', 'TH'])\n",
    "A12 = frozenset(['HH', 'HT', 'TT'])\n",
    "A13 = frozenset(['HH', 'TH', 'TT'])\n",
    "A14 = frozenset(['HT', 'TH', 'TT'])\n",
    "A15 = frozenset(['HH', 'HT', 'TH', 'TT'])"
   ]
  },
  {
   "cell_type": "code",
   "execution_count": 47,
   "metadata": {},
   "outputs": [
    {
     "data": {
      "text/plain": [
       "{frozenset(),\n",
       " frozenset({'TH'}),\n",
       " frozenset({'HH', 'TT'}),\n",
       " frozenset({'HT', 'TT'}),\n",
       " frozenset({'HH'}),\n",
       " frozenset({'HT'}),\n",
       " frozenset({'HH', 'HT'}),\n",
       " frozenset({'HH', 'HT', 'TH'}),\n",
       " frozenset({'HH', 'HT', 'TT'}),\n",
       " frozenset({'HH', 'TH'}),\n",
       " frozenset({'HT', 'TH'}),\n",
       " frozenset({'TT'}),\n",
       " frozenset({'TH', 'TT'}),\n",
       " frozenset({'HH', 'TH', 'TT'}),\n",
       " frozenset({'HT', 'TH', 'TT'}),\n",
       " frozenset({'HH', 'HT', 'TH', 'TT'})}"
      ]
     },
     "execution_count": 47,
     "metadata": {},
     "output_type": "execute_result"
    }
   ],
   "source": [
    "A_set = set([A0, A1, A2, A3, A4, A5, A6, A7, A8, A9, A10, A11, A12, A13, A14, A15])\n",
    "A_set"
   ]
  },
  {
   "cell_type": "markdown",
   "metadata": {},
   "source": [
    "### 합집합과 교집합의 분배 법칙\n",
    "- 곱셈과 덧셈의 분배 법칙은 다음과 같다.\n",
    "- a x (b + c) = (a x b) + (a x c)\n",
    "- 곱셈과 덧셈의 분배 법칙처럼 교집합과 합집합도 괄호를 풀어내는 분배법칙이 성립한다."
   ]
  },
  {
   "cell_type": "code",
   "execution_count": null,
   "metadata": {},
   "outputs": [],
   "source": []
  }
 ],
 "metadata": {
  "kernelspec": {
   "display_name": "Python 3",
   "language": "python",
   "name": "python3"
  },
  "language_info": {
   "codemirror_mode": {
    "name": "ipython",
    "version": 3
   },
   "file_extension": ".py",
   "mimetype": "text/x-python",
   "name": "python",
   "nbconvert_exporter": "python",
   "pygments_lexer": "ipython3",
   "version": "3.6.4"
  }
 },
 "nbformat": 4,
 "nbformat_minor": 2
}
