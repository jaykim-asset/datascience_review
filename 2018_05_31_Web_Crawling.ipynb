{
 "cells": [
  {
   "cell_type": "markdown",
   "metadata": {},
   "source": [
    "# Index\n",
    "- Server & Client Architecture\n",
    "- URL\n",
    "- Get & Post\n",
    "- Internet\n",
    "- OSI 7 Layer\n",
    "- cookie & session & cache\n",
    "- Web Status Code\n",
    "- Web Language & Framework\n",
    "- Spider & Bot & Scraping & Crawling"
   ]
  },
  {
   "cell_type": "markdown",
   "metadata": {},
   "source": [
    "#### Server & Client Architecture\n",
    "- Client\n",
    "    - 브라우져를 통해 서버에 데이터를 요청\n",
    "- Server\n",
    "    - Client가 데이터를 요청하면 요청에 따라 데이터를 전송 (HTML, CSS ,JS로 읽음)"
   ]
  },
  {
   "cell_type": "markdown",
   "metadata": {},
   "source": [
    "#### URL\n",
    "- Unifor Resource Lacator\n",
    "- Example)\n",
    "- http://news.naver.com:80/main/read.nhn?mode=LSD&mid=shm&sid1=105&oid=001&aid=0009847211#da_727145\n",
    "    - https:// - Protocol\n",
    "    - news - Sub Domain\n",
    "    - naver.com - Domain\n",
    "    - 80 - Port\n",
    "    - /main/ - path\n",
    "    - read.nhn - page\n",
    "    - ?mode=LSD&mid=shm&sid1=105&oid=001&aid=0009847211#da_727145 - query\n",
    "    - #da_727145 - fragment"
   ]
  },
  {
   "cell_type": "markdown",
   "metadata": {},
   "source": [
    "#### Get & Post\n",
    "- Get\n",
    "    - URL에 데이터가 포함된다 -> 데이터가 노출\n",
    "    - 길이 제한이 있음\n",
    "- Post\n",
    "    - Body에 데이터가 포함된다 -> 데이터가 숨겨짐"
   ]
  },
  {
   "cell_type": "markdown",
   "metadata": {},
   "source": [
    "#### Internet\n",
    "- 인터넷이란? \n",
    "    - 인터넷은 컴퓨터로 연결하여 TCP/IP (Transmission Control Protocol/Internet Protocol)라는 통신 프로토콜을 이용해 정보를 주고받는 컴퓨터 네트워크\n",
    "- 우리는 인터넷을 어떻게 사용하고 있을까?\n",
    "    - 헤저케이블을 이용하여 전세계 서버에 접속하여 인터넷을 사용하고 있다.\n",
    "- 무선 인터넷\n",
    "    - 선이 아니라 주파수를 매체로 사용한다.\n",
    "    - 우리가 사용하는 단말기만 무선이다.\n",
    "    \n",
    "- 한국의 해저케이블은 부산에 연결됨. "
   ]
  },
  {
   "cell_type": "markdown",
   "metadata": {},
   "source": [
    "#### OSI 7 Layer\n",
    "- Open Systems Interconnection Reference Model\n",
    "    - 국제표준화기구(ISO)에서 개발한 모델로, 컴퓨터 네트워크 프로토콜 디자인과 통신을 계층으로 나누어 설명한 것이다.\n",
    "- 하위 계층으로 갈수록 페이로드 증가\n",
    "\n",
    "- Layer1 : Application: Network Process to Aplication (Data) \n",
    "- Layer2 : Presentation:Data representation and Encryption (Data)\n",
    "- Layer3 : Session: Interhost communication (Data)\n",
    "- Layer4 : Transport: End-To-End connections and Reliability (Segements)\n",
    "- Layer5 : Network: Path Determination and IP (Logical addressing) (Packets)\n",
    "- Layer6 : Data Link: Mac and LLC (Physical Addressing) (Frames)\n",
    "- Layer7 : Physical: Media, Signal, and Binary Transmission (Bits)"
   ]
  },
  {
   "cell_type": "markdown",
   "metadata": {},
   "source": [
    "#### Cookie & Session & Cache\n",
    "- Cookie\n",
    "    - Client에 저장하는 문자열 데이터로 도메인 별로 따로 저장\n",
    "    - 로그인 정보, 내가 봤던 상품 정보, 팝업 다시보지 않음\n",
    "    - 하나의 클라이언트에 300개, 도메인당 20개, 쿠키 하나당 4kbyte\n",
    "- Session\n",
    "    - Server에 저장하는 객체 데이터, 브라우져와 연결시 Session ID 생성\n",
    "    - Session ID를 Cookie에 저장함으로 로그인 연결 유지\n",
    "    - 같은 브라우져로 같은 서버에 접속하면 Session ID가 같음\n",
    "    - 로그인 연결 정보, 원하는 객체 데이터\n",
    "- Cache\n",
    "    - Client나 Server의 메모리에 저장하여 빠르게 데이터를 가져오는 목적의 저장소\n",
    "    - RAM 영역에 데이터를 담고 있고 그 저장 공간을 Cache라고 합니다.\n",
    "    - HTTP code 300 (Redirection)의 경우에는 Brower Cache를 이용."
   ]
  },
  {
   "cell_type": "markdown",
   "metadata": {},
   "source": [
    "#### HTTP Status Code\n",
    "- Server와 Client가 데이터를 주고 받으면 주고 받은 결과로 상태 코드를 확인할 수 있다. \n",
    "    - 2xx - success\n",
    "    - 3xx - redirection (browser cache)\n",
    "    - 4xx - request error\n",
    "    - 5xx - server error\n",
    "    - http://bit.ly/2nlZM8L (HTTP상태 코드)"
   ]
  },
  {
   "cell_type": "markdown",
   "metadata": {},
   "source": [
    "#### Web Language & Framework\n",
    "- Client\n",
    "    - HTML\n",
    "    - CSS - less, sass\n",
    "    - Javascript - vue.js, react.js, angelar.js, backborn.js\n",
    "    \n",
    "- Server\n",
    "    - Python - Django, Flask\n",
    "        - Django - Packages 가 많은 대신, 느리다\n",
    "        - Flask - 빠른 대신, Deep하게 개발하려면, Library가 부족하기에, 개발이 힘듦\n",
    "    - Java - Spring\n",
    "    - Ruby - Rails\n",
    "    - Javascript - Nodejs (Express)\n",
    "    - Scala - Play"
   ]
  },
  {
   "cell_type": "markdown",
   "metadata": {},
   "source": [
    "#### Scraping & Crawling & Spider & Bot\n",
    "- Scraping\n",
    "    - Data를 수집하는 작업\n",
    "- Crawling (Scraping의 상위 개념이라고 보면됨)\n",
    "    - 여러페이지의 특정 데이터들을 수집하고 분류하는 작업\n",
    "- Spider or Web Crawler\n",
    "    - Web data를 수집하는 소프트웨어\n",
    "- Bot\n",
    "    - 인터넷 상에서 자동화된 작업을 실행하는 소프트웨어"
   ]
  },
  {
   "cell_type": "code",
   "execution_count": null,
   "metadata": {},
   "outputs": [],
   "source": []
  }
 ],
 "metadata": {
  "kernelspec": {
   "display_name": "Python 3",
   "language": "python",
   "name": "python3"
  },
  "language_info": {
   "codemirror_mode": {
    "name": "ipython",
    "version": 3
   },
   "file_extension": ".py",
   "mimetype": "text/x-python",
   "name": "python",
   "nbconvert_exporter": "python",
   "pygments_lexer": "ipython3",
   "version": "3.6.4"
  }
 },
 "nbformat": 4,
 "nbformat_minor": 2
}
