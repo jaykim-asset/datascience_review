{
 "cells": [
  {
   "cell_type": "markdown",
   "metadata": {},
   "source": [
    "#### About Atom\n",
    "- A Hackable text editor\n",
    "    - IDE: Integrated Development Environment\n",
    "- with by GitHub\n",
    "- Open Source\n",
    "- macOS, Linux, Windows\n",
    "- Chromium 기반의 coffee script"
   ]
  },
  {
   "cell_type": "markdown",
   "metadata": {},
   "source": [
    "#### Feature 1\n",
    "- Atom Package Library\n",
    "    - has great package manager\n",
    "- Git-Aware\n",
    "    - add, rese,t commit, pull, push\n",
    "- Command Palette\n",
    "    - cmd + shift + p"
   ]
  },
  {
   "cell_type": "markdown",
   "metadata": {},
   "source": [
    "#### Feature 2\n",
    "- Multi Line Cursors\n",
    "    - cmd + left-click: 커서 여러개\n",
    "    - option or cmd + 방향키 : 단어별 이동\n",
    "    - 블럭 설정후 cmd + shift + L\n",
    "- Fuzzy File Finder\n",
    "    - 모호하게 검색해도 검색이 가능\n",
    "    - cmd + t, cmd + p: open file finder\n",
    "    - cmd + b: currently opened file browse "
   ]
  },
  {
   "cell_type": "markdown",
   "metadata": {},
   "source": [
    "#### Feature 3\n",
    "- Application Style Sheet\n",
    "    - CSS를 \n",
    "   "
   ]
  },
  {
   "cell_type": "code",
   "execution_count": null,
   "metadata": {},
   "outputs": [],
   "source": []
  }
 ],
 "metadata": {
  "kernelspec": {
   "display_name": "Python 3",
   "language": "python",
   "name": "python3"
  },
  "language_info": {
   "codemirror_mode": {
    "name": "ipython",
    "version": 3
   },
   "file_extension": ".py",
   "mimetype": "text/x-python",
   "name": "python",
   "nbconvert_exporter": "python",
   "pygments_lexer": "ipython3",
   "version": "3.6.4"
  }
 },
 "nbformat": 4,
 "nbformat_minor": 2
}
