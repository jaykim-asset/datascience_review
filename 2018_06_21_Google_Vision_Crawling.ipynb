{
 "cells": [
  {
   "cell_type": "code",
   "execution_count": 16,
   "metadata": {},
   "outputs": [],
   "source": [
    "from selenium import webdriver"
   ]
  },
  {
   "cell_type": "code",
   "execution_count": 17,
   "metadata": {},
   "outputs": [],
   "source": [
    "# google vision api 페이지로 이동\n",
    "url = 'https://cloud.google.com/vision/'\n",
    "driver = webdriver.Chrome()\n",
    "driver.get(url)"
   ]
  },
  {
   "cell_type": "code",
   "execution_count": 18,
   "metadata": {},
   "outputs": [],
   "source": [
    "# iframe 영역으로 frame 변경 해보자\n",
    "iframe = driver.find_element_by_css_selector\\\n",
    "('#vision_demo_section > iframe')\n",
    "driver.switch_to_frame(iframe)"
   ]
  },
  {
   "cell_type": "code",
   "execution_count": 4,
   "metadata": {},
   "outputs": [],
   "source": [
    "# 메인프레임으로 변경\n",
    "# driver.switch_to_default_content()"
   ]
  },
  {
   "cell_type": "code",
   "execution_count": 19,
   "metadata": {},
   "outputs": [],
   "source": [
    "# 파일 업로드\n",
    "file_path = 'C:\\\\Users\\\\JongJae\\\\Downloads\\\\dog.png'"
   ]
  },
  {
   "cell_type": "code",
   "execution_count": 20,
   "metadata": {},
   "outputs": [],
   "source": [
    "driver.find_element_by_css_selector('#input')\\\n",
    ".send_keys(file_path)"
   ]
  },
  {
   "cell_type": "code",
   "execution_count": 21,
   "metadata": {},
   "outputs": [],
   "source": [
    "# 웹데이터 가져오기( Not Label)\n",
    "driver.find_element_by_css_selector('#webDetection')\\\n",
    ".click()"
   ]
  },
  {
   "cell_type": "code",
   "execution_count": 15,
   "metadata": {},
   "outputs": [
    {
     "name": "stdout",
     "output_type": "stream",
     "text": [
      "French Bulldog 1.29047\n",
      "Boston Terrier 1.28066\n",
      "Bulldog 1.27885\n",
      "Bull Terrier 1.07139\n",
      "Soft-coated Wheaten Terrier 0.98682\n",
      "Puppy 0.8898\n",
      "Border Collie 0.78608\n",
      "Terrier 0.6546\n",
      "Pet 0.6301\n",
      "Brindle 0.5639\n",
      "Dog breed 0.4977\n",
      "Breed 0.4297\n",
      "Veterinarian 0.4175\n",
      "Black Brindle 0.4112\n",
      "Dog 0\n"
     ]
    }
   ],
   "source": [
    "results = driver.find_elements_by_css_selector\\\n",
    "('#card .container > .row')[:15]\n",
    "\n",
    "for result in results:\n",
    "    print(\n",
    "    result.find_element_by_css_selector('.name').text,\n",
    "    result.find_element_by_css_selector('.score').text\n",
    "    )\n",
    "    # 스크래핑 # 여러개를 가져올 것이기에 element's' s 붙음\n"
   ]
  },
  {
   "cell_type": "code",
   "execution_count": 22,
   "metadata": {},
   "outputs": [],
   "source": [
    "# 문자열 데이터 가져오기\n",
    "driver.find_element_by_css_selector('#fullTextAnnotation').click()"
   ]
  },
  {
   "cell_type": "code",
   "execution_count": 26,
   "metadata": {},
   "outputs": [],
   "source": [
    "fieldsets = driver.find_elements_by_css_selector('.page > .container.style-scope.vs-document > fieldset')"
   ]
  },
  {
   "cell_type": "code",
   "execution_count": 31,
   "metadata": {},
   "outputs": [
    {
     "data": {
      "text/plain": [
       "['In the dog house', ' 인기를 잃다 , 면목을 잃다']"
      ]
     },
     "execution_count": 31,
     "metadata": {},
     "output_type": "execute_result"
    }
   ],
   "source": [
    "documents = []\n",
    "\n",
    "for fieldset in fieldsets:\n",
    "    words = fieldset.find_elements_by_css_selector\\\n",
    "    ('.container .word')\n",
    "    word_list = []\n",
    "    for word in words:\n",
    "        word = word.text.replace(\" \", \"\").replace(\"'\",\"\")\n",
    "        word_list.append(word)\n",
    "    documents.append(' '.join(word_list))\n",
    "documents"
   ]
  },
  {
   "cell_type": "code",
   "execution_count": 32,
   "metadata": {},
   "outputs": [],
   "source": [
    "driver.quit()"
   ]
  },
  {
   "cell_type": "code",
   "execution_count": null,
   "metadata": {},
   "outputs": [],
   "source": []
  }
 ],
 "metadata": {
  "kernelspec": {
   "display_name": "Python 3",
   "language": "python",
   "name": "python3"
  },
  "language_info": {
   "codemirror_mode": {
    "name": "ipython",
    "version": 3
   },
   "file_extension": ".py",
   "mimetype": "text/x-python",
   "name": "python",
   "nbconvert_exporter": "python",
   "pygments_lexer": "ipython3",
   "version": "3.6.4"
  }
 },
 "nbformat": 4,
 "nbformat_minor": 2
}
