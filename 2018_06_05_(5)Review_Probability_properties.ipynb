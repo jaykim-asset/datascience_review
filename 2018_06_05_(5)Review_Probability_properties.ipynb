{
 "cells": [
  {
   "cell_type": "markdown",
   "metadata": {},
   "source": [
    "## 확률의 성질\n",
    "- 확률은 여러가지 성질을 가진다. 이 중에서 앞으로 많이 사용될 몇 가지 성질을 생각해 보도록 하자. 이 성질들은 확률의 정의 자체가 아니라 정의로부터 유도된 것들이라는 것에 주의해야 한다."
   ]
  },
  {
   "cell_type": "markdown",
   "metadata": {},
   "source": [
    "### 성질 1. 공집합의 확률\n",
    "- 공집합인 사건의 확률은 0이다.\n",
    "- <증명>\n",
    "- 사건 A와 사건 B가 공통 원소가 없다고 할 때,\n",
    "- P(A U B) = P(A) + P(B)이다.\n",
    "- If B = 0, 사건 A와 사건 B의 공통 원소가 없으며, P(A U 0) = P(A) + P(0)이고, P(A U 0) = P(A)라는 성질을 이용하면, P(0) = 0이 증명된다."
   ]
  },
  {
   "cell_type": "markdown",
   "metadata": {},
   "source": [
    "#### 성질 2. 여집합의 확률\n",
    "- 어떤 사건의 여집합인 사건의 확률은 => (1 - 원래 사건의 확률)과 같다.\n",
    "- P(Ac) = 1 - P(A)\n",
    "- <증명>\n",
    "- 사건 A와 사건 B가 공통 원소가 없을 때, P(A U B) = P(A) + P(B)\n",
    "- If) B = B가 A의 여집합일 경우에, 공통 원소가 없으며, \n",
    "- P(A U A의 여집합) = P(A) + P(A의 여집합) \n",
    "- P(A U Ac) = 1이라는 것을 이용하면, P(A의 여집합) = 1- P(A) 증명된다."
   ]
  },
  {
   "cell_type": "markdown",
   "metadata": {},
   "source": [
    "#### 성질 3. 포함 -배제 원리\n",
    "- P(A U B) = P(A) + P(B) - P(A,B)"
   ]
  },
  {
   "cell_type": "markdown",
   "metadata": {},
   "source": [
    "#### 전체 확률의 법칙\n",
    "- 복수의 사건 Ci가 다음을 만족하는 사건들인 경우,\n",
    "    - 서로 교집합이 없고\n",
    "    - Ci = Cj = 0 (i is not = j)\n",
    "    - 모두 합쳤을 때, 전체표본 공간이면,\n",
    "    - C1 U C2 U C ... Cn = 1인 경우\n",
    "- 모든 사건 A에대해 다음의 등식이 성립한다.\n",
    "- P(A) = Sum of P(A, Ci)"
   ]
  },
  {
   "cell_type": "code",
   "execution_count": null,
   "metadata": {},
   "outputs": [],
   "source": []
  }
 ],
 "metadata": {
  "kernelspec": {
   "display_name": "Python 3",
   "language": "python",
   "name": "python3"
  },
  "language_info": {
   "codemirror_mode": {
    "name": "ipython",
    "version": 3
   },
   "file_extension": ".py",
   "mimetype": "text/x-python",
   "name": "python",
   "nbconvert_exporter": "python",
   "pygments_lexer": "ipython3",
   "version": "3.6.4"
  }
 },
 "nbformat": 4,
 "nbformat_minor": 2
}
