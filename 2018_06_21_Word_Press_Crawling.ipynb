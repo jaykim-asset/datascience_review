{
 "cells": [
  {
   "cell_type": "code",
   "execution_count": null,
   "metadata": {},
   "outputs": [],
   "source": []
  },
  {
   "cell_type": "markdown",
   "metadata": {},
   "source": [
    "#### 자동화 \n",
    "- https://radajin661456067.wordpress.com/\n",
    "- 2개의 계정, 2개의 메시지, 2개의 게시글에 총 8개의 댓글을 자동으로 작성\n",
    "- 게시물의 링크를 크롤링\n",
    "- 각 게시물로 가서 댓글을 작성\n",
    "    - 댓글 작성 레이어를 클릭\n",
    "    - 댓글 작성\n",
    "    - 이메일, 이름 추가\n",
    "    - 댓글 작성 버튼 클릭"
   ]
  },
  {
   "cell_type": "code",
   "execution_count": 3,
   "metadata": {},
   "outputs": [],
   "source": [
    "from selenium import webdriver"
   ]
  },
  {
   "cell_type": "code",
   "execution_count": 4,
   "metadata": {},
   "outputs": [],
   "source": [
    "url = 'https://radajin661456067.wordpress.com/'\n",
    "driver = webdriver.Chrome()\n",
    "driver.get(url)"
   ]
  },
  {
   "cell_type": "code",
   "execution_count": 5,
   "metadata": {},
   "outputs": [],
   "source": [
    "links = []\n",
    "articles = driver.find_elements_by_css_selector('#main > article')\n",
    "\n",
    "for article in articles:\n",
    "    links.append(article.find_element_by_css_selector('.entry-title > a').get_attribute('href'))"
   ]
  },
  {
   "cell_type": "code",
   "execution_count": 6,
   "metadata": {},
   "outputs": [
    {
     "data": {
      "text/plain": [
       "['https://radajin661456067.wordpress.com/2018/06/21/%ed%85%8c%ec%8a%a4%ed%8a%b8/',\n",
       " 'https://radajin661456067.wordpress.com/2018/06/21/%ec%b2%ab-%eb%b2%88%ec%a7%b8-%eb%b8%94%eb%a1%9c%ea%b7%b8-%ea%b8%80/']"
      ]
     },
     "execution_count": 6,
     "metadata": {},
     "output_type": "execute_result"
    }
   ],
   "source": [
    "links"
   ]
  },
  {
   "cell_type": "code",
   "execution_count": 8,
   "metadata": {},
   "outputs": [],
   "source": [
    "# 링크 이동\n",
    "driver.get(links[0])"
   ]
  },
  {
   "cell_type": "code",
   "execution_count": 11,
   "metadata": {},
   "outputs": [],
   "source": [
    "# 스크롤 아래로 내리기\n",
    "script = 'window.scrollTo(0,10000);'\n",
    "driver.execute_script(script)"
   ]
  },
  {
   "cell_type": "code",
   "execution_count": 13,
   "metadata": {},
   "outputs": [],
   "source": [
    "# 댓글 영역 클릭\n",
    "driver.find_element_by_css_selector('#comment-form-comment').click() # id 일 경우 #"
   ]
  },
  {
   "cell_type": "code",
   "execution_count": 14,
   "metadata": {},
   "outputs": [],
   "source": [
    "# 댓글 작성\n",
    "driver.find_element_by_css_selector('#comment').send_keys('박두진 강사님, 매니저님 짱짱')"
   ]
  },
  {
   "cell_type": "code",
   "execution_count": 15,
   "metadata": {},
   "outputs": [],
   "source": [
    "# 스크롤 한번 더 내리기\n",
    "script = 'window.scrollTo(0,10000)'\n",
    "driver.execute_script(script)"
   ]
  },
  {
   "cell_type": "code",
   "execution_count": 17,
   "metadata": {},
   "outputs": [],
   "source": [
    "# Clear 하기\n",
    "driver.find_element_by_css_selector('#email').clear()\n",
    "driver.find_element_by_css_selector('#email').send_keys('짱짱짱맨')\n",
    "driver.find_element_by_css_selector('#author').clear()\n",
    "driver.find_element_by_css_selector('#author').send_keys('짱짱맨맨맨맨')\n"
   ]
  },
  {
   "cell_type": "code",
   "execution_count": 18,
   "metadata": {},
   "outputs": [],
   "source": [
    "# 작성버튼 클릭\n",
    "driver.find_element_by_css_selector('#comment-submit').click()"
   ]
  },
  {
   "cell_type": "markdown",
   "metadata": {},
   "source": [
    "#### 계정 2개로 댓글 2개 다는거 만들기"
   ]
  },
  {
   "cell_type": "code",
   "execution_count": 19,
   "metadata": {},
   "outputs": [],
   "source": [
    "import time\n",
    "def write_comment(driver, link, message, email, name):\n",
    "    driver.get(link)\n",
    "    script = 'window.scrollTo(0,10000);'\n",
    "    driver.execute_script(script)\n",
    "    time.sleep(1)\n",
    "    driver.find_element_by_css_selector('#comment-form-comment').click()\n",
    "    time.sleep(1)\n",
    "    driver.find_element_by_css_selector('#comment').send_keys(msg)\n",
    "    script = 'window.scrollTo(0,10000);'\n",
    "    driver.execute_script(script)\n",
    "    time.sleep(1)\n",
    "    driver.find_element_by_css_selector('#email').clear()\n",
    "    driver.find_element_by_css_selector('#email').send_keys(email)\n",
    "    time.sleep(1)\n",
    "    driver.find_element_by_css_selector('#author').clear()\n",
    "    driver.find_element_by_css_selector('#author').send_keys(name)\n",
    "    time.sleep(1)\n",
    "    driver.find_element_by_css_selector('#comment-submit').click()"
   ]
  },
  {
   "cell_type": "code",
   "execution_count": 24,
   "metadata": {},
   "outputs": [
    {
     "name": "stdout",
     "output_type": "stream",
     "text": [
      "nadajin 나는박두진강사님임 박두진강사님짱 - 성공\n",
      "nadajin 나는박두진강사님임 박두진강사님짱 - 성공\n",
      "nadajin 나는박두진강사님임 매니저님짱 - 성공\n",
      "nadajin 나는박두진강사님임 매니저님짱 - 성공\n",
      "minus31 나는매니저님임 박두진강사님짱 - 성공\n",
      "minus31 나는매니저님임 박두진강사님짱 - 성공\n",
      "minus31 나는매니저님임 매니저님짱 - 성공\n",
      "minus31 나는매니저님임 매니저님짱 - 성공\n"
     ]
    }
   ],
   "source": [
    "users = [\n",
    "    {'name': '나는박두진강사님임', 'email': 'nadajin'},\n",
    "    {'name': '나는매니저님임', 'email': 'minus31'}\n",
    "]\n",
    "msgs = ['박두진강사님짱', '매니저님짱']\n",
    "\n",
    "for user in users:\n",
    "    for msg in msgs:\n",
    "        for link in links:\n",
    "            print(user['email'], user['name'], msg, end=' - ')\n",
    "            try:\n",
    "                write_comment(driver, link, msg, user['email'], user['name'])\n",
    "                print('성공')\n",
    "            except:\n",
    "                print('실패')"
   ]
  },
  {
   "cell_type": "code",
   "execution_count": 22,
   "metadata": {},
   "outputs": [
    {
     "data": {
      "text/plain": [
       "['https://radajin661456067.wordpress.com/2018/06/21/%ed%85%8c%ec%8a%a4%ed%8a%b8/',\n",
       " 'https://radajin661456067.wordpress.com/2018/06/21/%ec%b2%ab-%eb%b2%88%ec%a7%b8-%eb%b8%94%eb%a1%9c%ea%b7%b8-%ea%b8%80/']"
      ]
     },
     "execution_count": 22,
     "metadata": {},
     "output_type": "execute_result"
    }
   ],
   "source": [
    "links"
   ]
  },
  {
   "cell_type": "markdown",
   "metadata": {},
   "source": []
  }
 ],
 "metadata": {
  "kernelspec": {
   "display_name": "Python 3",
   "language": "python",
   "name": "python3"
  },
  "language_info": {
   "codemirror_mode": {
    "name": "ipython",
    "version": 3
   },
   "file_extension": ".py",
   "mimetype": "text/x-python",
   "name": "python",
   "nbconvert_exporter": "python",
   "pygments_lexer": "ipython3",
   "version": "3.6.4"
  }
 },
 "nbformat": 4,
 "nbformat_minor": 2
}
