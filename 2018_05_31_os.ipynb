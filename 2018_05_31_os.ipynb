{
 "cells": [
  {
   "cell_type": "markdown",
   "metadata": {},
   "source": [
    "#### OS"
   ]
  },
  {
   "cell_type": "code",
   "execution_count": 1,
   "metadata": {},
   "outputs": [],
   "source": [
    "import os"
   ]
  },
  {
   "cell_type": "code",
   "execution_count": 4,
   "metadata": {},
   "outputs": [],
   "source": [
    "# directory 만들기"
   ]
  },
  {
   "cell_type": "code",
   "execution_count": 5,
   "metadata": {},
   "outputs": [
    {
     "name": "stderr",
     "output_type": "stream",
     "text": [
      "'ls'은(는) 내부 또는 외부 명령, 실행할 수 있는 프로그램, 또는\n",
      "배치 파일이 아닙니다.\n"
     ]
    }
   ],
   "source": [
    "!ls"
   ]
  },
  {
   "cell_type": "code",
   "execution_count": 6,
   "metadata": {},
   "outputs": [
    {
     "name": "stdout",
     "output_type": "stream",
     "text": [
      " C 드라이브의 볼륨에는 이름이 없습니다.\n",
      " 볼륨 일련 번호: 4400-3734\n",
      "\n",
      " C:\\Users\\JongJae 디렉터리\n",
      "\n",
      "2018-05-31  오후 03:29    <DIR>          .\n",
      "2018-05-31  오후 03:29    <DIR>          ..\n",
      "2018-04-24  오전 10:35    <DIR>          .anaconda\n",
      "2018-01-20  오후 02:35    <DIR>          .astropy\n",
      "2018-04-23  오후 03:52    <DIR>          .atom\n",
      "2018-05-30  오후 06:14             7,090 .bash_history\n",
      "2018-05-15  오후 09:24    <DIR>          .conda\n",
      "2018-04-24  오전 10:37                43 .condarc\n",
      "2018-05-16  오후 04:48                81 .gitconfig\n",
      "2018-05-31  오후 02:10    <DIR>          .idea\n",
      "2018-05-31  오후 03:27    <DIR>          .ipynb_checkpoints\n",
      "2018-04-24  오전 10:03    <DIR>          .ipython\n",
      "2018-05-25  오후 05:53    <DIR>          .jupyter\n",
      "2018-05-14  오후 06:18    <DIR>          .matplotlib\n",
      "2018-01-20  오후 01:39    <DIR>          .PyCharmCE2017.1\n",
      "2018-05-19  오후 07:49    <DIR>          .spyder-py3\n",
      "2018-05-30  오후 06:14            16,983 .viminfo\n",
      "2018-05-17  오후 04:32    <DIR>          __pycache__\n",
      "2018-05-14  오후 06:12                 0 00.py\n",
      "2018-05-12  오후 04:09    <DIR>          2018_04_27\n",
      "2018-04-30  오전 09:26    <DIR>          2018_04_30\n",
      "2018-05-30  오후 01:22            25,122 2018_05_29_KTB10_MarketData_Practice(readline_pandas)_2018_05_20.ipynb\n",
      "2018-05-30  오후 09:20            99,169 2018_05_30_SciPy_Optimization.ipynb\n",
      "2018-05-30  오후 08:25           172,802 2018_05_30_행열미분_예습.ipynb\n",
      "2018-05-31  오후 03:29             1,128 2018_05_31_os.ipynb\n",
      "2018-05-31  오후 03:25            37,551 2018_05_31_regex(정규표현식).ipynb\n",
      "2018-05-04  오후 08:21    <DIR>          B_김종재_lvl1\n",
      "2018-05-04  오후 08:24    <DIR>          B_김종재_lvl2\n",
      "2018-05-28  오후 12:03            58,661 cctv.csv\n",
      "2017-06-24  오전 03:30    <DIR>          Contacts\n",
      "2018-05-30  오후 06:13    <DIR>          datascience_review\n",
      "2018-05-30  오후 08:51    <DIR>          Desktop\n",
      "2018-05-15  오후 02:23    <DIR>          Documents\n",
      "2018-05-30  오후 02:53    <DIR>          Downloads\n",
      "2018-04-24  오전 09:24    <DIR>          Favorites\n",
      "2017-06-20  오후 04:19    <DIR>          Intel\n",
      "2017-06-24  오전 03:30    <DIR>          Links\n",
      "2017-06-24  오전 03:30    <DIR>          Music\n",
      "2017-06-24  오전 03:30    <DIR>          Pictures\n",
      "2018-05-22  오전 11:55    <DIR>          Python For Finance\n",
      "2018-05-23  오후 09:51            11,423 quiz_numpy (2).ipynb\n",
      "2018-05-28  오후 07:35             4,528 quiz_pandas_1.ipynb\n",
      "2018-05-28  오후 01:47           228,765 quiz_pandas_2.ipynb\n",
      "2018-05-23  오후 09:59            13,998 quiz_김종재.ipynb\n",
      "2015-09-14  오후 04:25    <DIR>          Roaming\n",
      "2017-06-24  오전 03:30    <DIR>          Saved Games\n",
      "2018-05-17  오후 04:39    <DIR>          school\n",
      "2018-05-15  오후 02:10    <DIR>          scikit_learn_data\n",
      "2018-05-28  오전 11:29    <DIR>          seaborn-data\n",
      "2017-09-09  오후 10:25    <DIR>          Searches\n",
      "2018-05-26  오후 08:54    <DIR>          sise_practice\n",
      "2018-05-23  오전 09:59           141,697 test\n",
      "2018-05-25  오후 02:15            61,194 train.csv\n",
      "2018-05-23  오후 06:01            47,053 Untitled.ipynb\n",
      "2018-05-23  오후 10:00            27,989 Untitled1.ipynb\n",
      "2018-05-23  오후 07:51                72 Untitled2.ipynb\n",
      "2018-05-23  오후 07:52               555 Untitled3.ipynb\n",
      "2018-05-25  오후 12:07             5,667 Untitled4.ipynb\n",
      "2018-05-26  오후 12:22             7,448 Untitled5.ipynb\n",
      "2018-05-28  오후 02:55             4,764 Untitled6.ipynb\n",
      "2018-05-30  오후 03:51            30,215 Untitled7.ipynb\n",
      "2017-06-24  오전 03:30    <DIR>          Videos\n",
      "2018-05-23  오후 12:00             1,435 매니저님.ipynb\n",
      "2018-05-26  오전 10:42            11,661 위치경도.ipynb\n",
      "              27개 파일           1,017,094 바이트\n",
      "              37개 디렉터리  161,477,144,576 바이트 남음\n"
     ]
    }
   ],
   "source": [
    "%ls"
   ]
  },
  {
   "cell_type": "code",
   "execution_count": 29,
   "metadata": {},
   "outputs": [],
   "source": [
    "os.makedirs('jay')"
   ]
  },
  {
   "cell_type": "code",
   "execution_count": 8,
   "metadata": {},
   "outputs": [
    {
     "name": "stdout",
     "output_type": "stream",
     "text": [
      " C 드라이브의 볼륨에는 이름이 없습니다.\n",
      " 볼륨 일련 번호: 4400-3734\n",
      "\n",
      " C:\\Users\\JongJae 디렉터리\n",
      "\n",
      "2018-05-31  오후 03:30    <DIR>          .\n",
      "2018-05-31  오후 03:30    <DIR>          ..\n",
      "2018-04-24  오전 10:35    <DIR>          .anaconda\n",
      "2018-01-20  오후 02:35    <DIR>          .astropy\n",
      "2018-04-23  오후 03:52    <DIR>          .atom\n",
      "2018-05-30  오후 06:14             7,090 .bash_history\n",
      "2018-05-15  오후 09:24    <DIR>          .conda\n",
      "2018-04-24  오전 10:37                43 .condarc\n",
      "2018-05-16  오후 04:48                81 .gitconfig\n",
      "2018-05-31  오후 02:10    <DIR>          .idea\n",
      "2018-05-31  오후 03:27    <DIR>          .ipynb_checkpoints\n",
      "2018-04-24  오전 10:03    <DIR>          .ipython\n",
      "2018-05-25  오후 05:53    <DIR>          .jupyter\n",
      "2018-05-14  오후 06:18    <DIR>          .matplotlib\n",
      "2018-01-20  오후 01:39    <DIR>          .PyCharmCE2017.1\n",
      "2018-05-19  오후 07:49    <DIR>          .spyder-py3\n",
      "2018-05-30  오후 06:14            16,983 .viminfo\n",
      "2018-05-17  오후 04:32    <DIR>          __pycache__\n",
      "2018-05-14  오후 06:12                 0 00.py\n",
      "2018-05-12  오후 04:09    <DIR>          2018_04_27\n",
      "2018-04-30  오전 09:26    <DIR>          2018_04_30\n",
      "2018-05-30  오후 01:22            25,122 2018_05_29_KTB10_MarketData_Practice(readline_pandas)_2018_05_20.ipynb\n",
      "2018-05-30  오후 09:20            99,169 2018_05_30_SciPy_Optimization.ipynb\n",
      "2018-05-30  오후 08:25           172,802 2018_05_30_행열미분_예습.ipynb\n",
      "2018-05-31  오후 03:29             1,128 2018_05_31_os.ipynb\n",
      "2018-05-31  오후 03:25            37,551 2018_05_31_regex(정규표현식).ipynb\n",
      "2018-05-04  오후 08:21    <DIR>          B_김종재_lvl1\n",
      "2018-05-04  오후 08:24    <DIR>          B_김종재_lvl2\n",
      "2018-05-28  오후 12:03            58,661 cctv.csv\n",
      "2017-06-24  오전 03:30    <DIR>          Contacts\n",
      "2018-05-30  오후 06:13    <DIR>          datascience_review\n",
      "2018-05-30  오후 08:51    <DIR>          Desktop\n",
      "2018-05-15  오후 02:23    <DIR>          Documents\n",
      "2018-05-30  오후 02:53    <DIR>          Downloads\n",
      "2018-04-24  오전 09:24    <DIR>          Favorites\n",
      "2017-06-20  오후 04:19    <DIR>          Intel\n",
      "2018-05-31  오후 03:30    <DIR>          jay\n",
      "2017-06-24  오전 03:30    <DIR>          Links\n",
      "2017-06-24  오전 03:30    <DIR>          Music\n",
      "2017-06-24  오전 03:30    <DIR>          Pictures\n",
      "2018-05-22  오전 11:55    <DIR>          Python For Finance\n",
      "2018-05-23  오후 09:51            11,423 quiz_numpy (2).ipynb\n",
      "2018-05-28  오후 07:35             4,528 quiz_pandas_1.ipynb\n",
      "2018-05-28  오후 01:47           228,765 quiz_pandas_2.ipynb\n",
      "2018-05-23  오후 09:59            13,998 quiz_김종재.ipynb\n",
      "2015-09-14  오후 04:25    <DIR>          Roaming\n",
      "2017-06-24  오전 03:30    <DIR>          Saved Games\n",
      "2018-05-17  오후 04:39    <DIR>          school\n",
      "2018-05-15  오후 02:10    <DIR>          scikit_learn_data\n",
      "2018-05-28  오전 11:29    <DIR>          seaborn-data\n",
      "2017-09-09  오후 10:25    <DIR>          Searches\n",
      "2018-05-26  오후 08:54    <DIR>          sise_practice\n",
      "2018-05-23  오전 09:59           141,697 test\n",
      "2018-05-25  오후 02:15            61,194 train.csv\n",
      "2018-05-23  오후 06:01            47,053 Untitled.ipynb\n",
      "2018-05-23  오후 10:00            27,989 Untitled1.ipynb\n",
      "2018-05-23  오후 07:51                72 Untitled2.ipynb\n",
      "2018-05-23  오후 07:52               555 Untitled3.ipynb\n",
      "2018-05-25  오후 12:07             5,667 Untitled4.ipynb\n",
      "2018-05-26  오후 12:22             7,448 Untitled5.ipynb\n",
      "2018-05-28  오후 02:55             4,764 Untitled6.ipynb\n",
      "2018-05-30  오후 03:51            30,215 Untitled7.ipynb\n",
      "2017-06-24  오전 03:30    <DIR>          Videos\n",
      "2018-05-23  오후 12:00             1,435 매니저님.ipynb\n",
      "2018-05-26  오전 10:42            11,661 위치경도.ipynb\n",
      "              27개 파일           1,017,094 바이트\n",
      "              38개 디렉터리  161,477,132,288 바이트 남음\n"
     ]
    }
   ],
   "source": [
    "%ls"
   ]
  },
  {
   "cell_type": "code",
   "execution_count": 30,
   "metadata": {},
   "outputs": [],
   "source": [
    "s = 'data science'\n",
    "with open('jay/test1.txt', 'wt') as f:\n",
    "    f.write(s)\n",
    "\n",
    "s1 = 'data science1'\n",
    "with open('jay/test2.txt', 'wt') as f:\n",
    "    f.write(s)\n",
    "    \n",
    "s2 = 'data science2'\n",
    "with open('jay/test3.txt', 'wt') as f:\n",
    "    f.write(s)    "
   ]
  },
  {
   "cell_type": "code",
   "execution_count": 15,
   "metadata": {},
   "outputs": [
    {
     "name": "stdout",
     "output_type": "stream",
     "text": [
      " C 드라이브의 볼륨에는 이름이 없습니다.\n",
      " 볼륨 일련 번호: 4400-3734\n",
      "\n",
      " C:\\Users\\JongJae\\jay 디렉터리\n",
      "\n",
      "2018-05-31  오후 03:32    <DIR>          .\n",
      "2018-05-31  오후 03:32    <DIR>          ..\n",
      "2018-05-31  오후 03:32                12 test.txt\n",
      "2018-05-31  오후 03:32                12 test1.txt\n",
      "2018-05-31  오후 03:32                12 test2.txt\n",
      "2018-05-31  오후 03:32                12 test3.txt\n",
      "               4개 파일                  48 바이트\n",
      "               2개 디렉터리  161,476,411,392 바이트 남음\n"
     ]
    }
   ],
   "source": [
    "%ls jay"
   ]
  },
  {
   "cell_type": "code",
   "execution_count": 16,
   "metadata": {},
   "outputs": [
    {
     "data": {
      "text/plain": [
       "['test.txt', 'test1.txt', 'test2.txt', 'test3.txt']"
      ]
     },
     "execution_count": 16,
     "metadata": {},
     "output_type": "execute_result"
    }
   ],
   "source": [
    "# 파일 리스트 읽기\n",
    "os.listdir('jay')"
   ]
  },
  {
   "cell_type": "code",
   "execution_count": 17,
   "metadata": {},
   "outputs": [],
   "source": [
    "# 파일 삭제\n",
    "os.remove('jay/test3.txt')"
   ]
  },
  {
   "cell_type": "code",
   "execution_count": 18,
   "metadata": {},
   "outputs": [
    {
     "ename": "OSError",
     "evalue": "[WinError 145] 디렉터리가 비어 있지 않습니다: 'jay'",
     "output_type": "error",
     "traceback": [
      "\u001b[1;31m---------------------------------------------------------------------------\u001b[0m",
      "\u001b[1;31mOSError\u001b[0m                                   Traceback (most recent call last)",
      "\u001b[1;32m<ipython-input-18-53a94da2ef63>\u001b[0m in \u001b[0;36m<module>\u001b[1;34m()\u001b[0m\n\u001b[0;32m      1\u001b[0m \u001b[1;31m# 디렉토리 삭제\u001b[0m\u001b[1;33m\u001b[0m\u001b[1;33m\u001b[0m\u001b[0m\n\u001b[1;32m----> 2\u001b[1;33m \u001b[0mos\u001b[0m\u001b[1;33m.\u001b[0m\u001b[0mremovedirs\u001b[0m\u001b[1;33m(\u001b[0m\u001b[1;34m'jay'\u001b[0m\u001b[1;33m)\u001b[0m \u001b[1;31m# Directory를 삭제하기 위해서는 하위 파일들 모두가 삭제되어야만 실행됨\u001b[0m\u001b[1;33m\u001b[0m\u001b[0m\n\u001b[0m",
      "\u001b[1;32mC:\\ProgramData\\Anaconda3\\lib\\os.py\u001b[0m in \u001b[0;36mremovedirs\u001b[1;34m(name)\u001b[0m\n\u001b[0;32m    236\u001b[0m \u001b[1;33m\u001b[0m\u001b[0m\n\u001b[0;32m    237\u001b[0m     \"\"\"\n\u001b[1;32m--> 238\u001b[1;33m     \u001b[0mrmdir\u001b[0m\u001b[1;33m(\u001b[0m\u001b[0mname\u001b[0m\u001b[1;33m)\u001b[0m\u001b[1;33m\u001b[0m\u001b[0m\n\u001b[0m\u001b[0;32m    239\u001b[0m     \u001b[0mhead\u001b[0m\u001b[1;33m,\u001b[0m \u001b[0mtail\u001b[0m \u001b[1;33m=\u001b[0m \u001b[0mpath\u001b[0m\u001b[1;33m.\u001b[0m\u001b[0msplit\u001b[0m\u001b[1;33m(\u001b[0m\u001b[0mname\u001b[0m\u001b[1;33m)\u001b[0m\u001b[1;33m\u001b[0m\u001b[0m\n\u001b[0;32m    240\u001b[0m     \u001b[1;32mif\u001b[0m \u001b[1;32mnot\u001b[0m \u001b[0mtail\u001b[0m\u001b[1;33m:\u001b[0m\u001b[1;33m\u001b[0m\u001b[0m\n",
      "\u001b[1;31mOSError\u001b[0m: [WinError 145] 디렉터리가 비어 있지 않습니다: 'jay'"
     ]
    }
   ],
   "source": [
    "# 디렉토리 삭제\n",
    "os.removedirs('jay') # Directory를 삭제하기 위해서는 하위 파일들 모두가 삭제되어야만 실행됨"
   ]
  },
  {
   "cell_type": "code",
   "execution_count": 22,
   "metadata": {},
   "outputs": [
    {
     "name": "stdout",
     "output_type": "stream",
     "text": [
      "test.txt\n",
      "test1.txt\n",
      "test2.txt\n"
     ]
    }
   ],
   "source": [
    "path = 'jay'\n",
    "files = os.listdir(path)\n",
    "files\n",
    "\n",
    "for file in files:\n",
    "    print(file)\n",
    "    os.remove(path + '/' + file)\n",
    "os.removedirs(path)"
   ]
  },
  {
   "cell_type": "code",
   "execution_count": 23,
   "metadata": {},
   "outputs": [
    {
     "name": "stdout",
     "output_type": "stream",
     "text": [
      " C 드라이브의 볼륨에는 이름이 없습니다.\n",
      " 볼륨 일련 번호: 4400-3734\n",
      "\n",
      " C:\\Users\\JongJae 디렉터리\n",
      "\n",
      "2018-05-31  오후 03:34    <DIR>          .\n",
      "2018-05-31  오후 03:34    <DIR>          ..\n",
      "2018-04-24  오전 10:35    <DIR>          .anaconda\n",
      "2018-01-20  오후 02:35    <DIR>          .astropy\n",
      "2018-04-23  오후 03:52    <DIR>          .atom\n",
      "2018-05-30  오후 06:14             7,090 .bash_history\n",
      "2018-05-15  오후 09:24    <DIR>          .conda\n",
      "2018-04-24  오전 10:37                43 .condarc\n",
      "2018-05-16  오후 04:48                81 .gitconfig\n",
      "2018-05-31  오후 02:10    <DIR>          .idea\n",
      "2018-05-31  오후 03:27    <DIR>          .ipynb_checkpoints\n",
      "2018-04-24  오전 10:03    <DIR>          .ipython\n",
      "2018-05-25  오후 05:53    <DIR>          .jupyter\n",
      "2018-05-14  오후 06:18    <DIR>          .matplotlib\n",
      "2018-01-20  오후 01:39    <DIR>          .PyCharmCE2017.1\n",
      "2018-05-19  오후 07:49    <DIR>          .spyder-py3\n",
      "2018-05-30  오후 06:14            16,983 .viminfo\n",
      "2018-05-17  오후 04:32    <DIR>          __pycache__\n",
      "2018-05-14  오후 06:12                 0 00.py\n",
      "2018-05-12  오후 04:09    <DIR>          2018_04_27\n",
      "2018-04-30  오전 09:26    <DIR>          2018_04_30\n",
      "2018-05-30  오후 01:22            25,122 2018_05_29_KTB10_MarketData_Practice(readline_pandas)_2018_05_20.ipynb\n",
      "2018-05-30  오후 09:20            99,169 2018_05_30_SciPy_Optimization.ipynb\n",
      "2018-05-30  오후 08:25           172,802 2018_05_30_행열미분_예습.ipynb\n",
      "2018-05-31  오후 03:33            15,421 2018_05_31_os.ipynb\n",
      "2018-05-31  오후 03:25            37,551 2018_05_31_regex(정규표현식).ipynb\n",
      "2018-05-04  오후 08:21    <DIR>          B_김종재_lvl1\n",
      "2018-05-04  오후 08:24    <DIR>          B_김종재_lvl2\n",
      "2018-05-28  오후 12:03            58,661 cctv.csv\n",
      "2017-06-24  오전 03:30    <DIR>          Contacts\n",
      "2018-05-30  오후 06:13    <DIR>          datascience_review\n",
      "2018-05-30  오후 08:51    <DIR>          Desktop\n",
      "2018-05-15  오후 02:23    <DIR>          Documents\n",
      "2018-05-30  오후 02:53    <DIR>          Downloads\n",
      "2018-04-24  오전 09:24    <DIR>          Favorites\n",
      "2017-06-20  오후 04:19    <DIR>          Intel\n",
      "2017-06-24  오전 03:30    <DIR>          Links\n",
      "2017-06-24  오전 03:30    <DIR>          Music\n",
      "2017-06-24  오전 03:30    <DIR>          Pictures\n",
      "2018-05-22  오전 11:55    <DIR>          Python For Finance\n",
      "2018-05-23  오후 09:51            11,423 quiz_numpy (2).ipynb\n",
      "2018-05-28  오후 07:35             4,528 quiz_pandas_1.ipynb\n",
      "2018-05-28  오후 01:47           228,765 quiz_pandas_2.ipynb\n",
      "2018-05-23  오후 09:59            13,998 quiz_김종재.ipynb\n",
      "2015-09-14  오후 04:25    <DIR>          Roaming\n",
      "2017-06-24  오전 03:30    <DIR>          Saved Games\n",
      "2018-05-17  오후 04:39    <DIR>          school\n",
      "2018-05-15  오후 02:10    <DIR>          scikit_learn_data\n",
      "2018-05-28  오전 11:29    <DIR>          seaborn-data\n",
      "2017-09-09  오후 10:25    <DIR>          Searches\n",
      "2018-05-26  오후 08:54    <DIR>          sise_practice\n",
      "2018-05-23  오전 09:59           141,697 test\n",
      "2018-05-25  오후 02:15            61,194 train.csv\n",
      "2018-05-23  오후 06:01            47,053 Untitled.ipynb\n",
      "2018-05-23  오후 10:00            27,989 Untitled1.ipynb\n",
      "2018-05-23  오후 07:51                72 Untitled2.ipynb\n",
      "2018-05-23  오후 07:52               555 Untitled3.ipynb\n",
      "2018-05-25  오후 12:07             5,667 Untitled4.ipynb\n",
      "2018-05-26  오후 12:22             7,448 Untitled5.ipynb\n",
      "2018-05-28  오후 02:55             4,764 Untitled6.ipynb\n",
      "2018-05-30  오후 03:51            30,215 Untitled7.ipynb\n",
      "2017-06-24  오전 03:30    <DIR>          Videos\n",
      "2018-05-23  오후 12:00             1,435 매니저님.ipynb\n",
      "2018-05-26  오전 10:42            11,661 위치경도.ipynb\n",
      "              27개 파일           1,031,387 바이트\n",
      "              37개 디렉터리  161,476,280,320 바이트 남음\n"
     ]
    }
   ],
   "source": [
    "%ls"
   ]
  },
  {
   "cell_type": "code",
   "execution_count": 26,
   "metadata": {},
   "outputs": [
    {
     "name": "stdout",
     "output_type": "stream",
     "text": [
      " C 드라이브의 볼륨에는 이름이 없습니다.\n",
      " 볼륨 일련 번호: 4400-3734\n",
      "\n",
      " C:\\Users\\JongJae\\jay 디렉터리\n",
      "\n",
      "2018-05-31  오후 03:35    <DIR>          .\n",
      "2018-05-31  오후 03:35    <DIR>          ..\n",
      "2018-05-31  오후 03:35                12 test1.txt\n",
      "2018-05-31  오후 03:35                12 test2.txt\n",
      "2018-05-31  오후 03:35                12 test3.txt\n",
      "               3개 파일                  36 바이트\n",
      "               2개 디렉터리  161,476,239,360 바이트 남음\n"
     ]
    }
   ],
   "source": [
    "%ls jay"
   ]
  },
  {
   "cell_type": "code",
   "execution_count": 27,
   "metadata": {},
   "outputs": [],
   "source": [
    "# 파일과 디렉토리를 모두 삭제 하는 방법 - rmtree # os package에 있는 것은 아님 # shutil에 있음\n",
    "import shutil\n",
    "shutil.rmtree('jay')"
   ]
  },
  {
   "cell_type": "code",
   "execution_count": 28,
   "metadata": {},
   "outputs": [
    {
     "name": "stdout",
     "output_type": "stream",
     "text": [
      " C 드라이브의 볼륨에는 이름이 없습니다.\n",
      " 볼륨 일련 번호: 4400-3734\n",
      "\n",
      " C:\\Users\\JongJae 디렉터리\n",
      "\n",
      "2018-05-31  오후 03:36    <DIR>          .\n",
      "2018-05-31  오후 03:36    <DIR>          ..\n",
      "2018-04-24  오전 10:35    <DIR>          .anaconda\n",
      "2018-01-20  오후 02:35    <DIR>          .astropy\n",
      "2018-04-23  오후 03:52    <DIR>          .atom\n",
      "2018-05-30  오후 06:14             7,090 .bash_history\n",
      "2018-05-15  오후 09:24    <DIR>          .conda\n",
      "2018-04-24  오전 10:37                43 .condarc\n",
      "2018-05-16  오후 04:48                81 .gitconfig\n",
      "2018-05-31  오후 02:10    <DIR>          .idea\n",
      "2018-05-31  오후 03:27    <DIR>          .ipynb_checkpoints\n",
      "2018-04-24  오전 10:03    <DIR>          .ipython\n",
      "2018-05-25  오후 05:53    <DIR>          .jupyter\n",
      "2018-05-14  오후 06:18    <DIR>          .matplotlib\n",
      "2018-01-20  오후 01:39    <DIR>          .PyCharmCE2017.1\n",
      "2018-05-19  오후 07:49    <DIR>          .spyder-py3\n",
      "2018-05-30  오후 06:14            16,983 .viminfo\n",
      "2018-05-17  오후 04:32    <DIR>          __pycache__\n",
      "2018-05-14  오후 06:12                 0 00.py\n",
      "2018-05-12  오후 04:09    <DIR>          2018_04_27\n",
      "2018-04-30  오전 09:26    <DIR>          2018_04_30\n",
      "2018-05-30  오후 01:22            25,122 2018_05_29_KTB10_MarketData_Practice(readline_pandas)_2018_05_20.ipynb\n",
      "2018-05-30  오후 09:20            99,169 2018_05_30_SciPy_Optimization.ipynb\n",
      "2018-05-30  오후 08:25           172,802 2018_05_30_행열미분_예습.ipynb\n",
      "2018-05-31  오후 03:35            21,641 2018_05_31_os.ipynb\n",
      "2018-05-31  오후 03:25            37,551 2018_05_31_regex(정규표현식).ipynb\n",
      "2018-05-04  오후 08:21    <DIR>          B_김종재_lvl1\n",
      "2018-05-04  오후 08:24    <DIR>          B_김종재_lvl2\n",
      "2018-05-28  오후 12:03            58,661 cctv.csv\n",
      "2017-06-24  오전 03:30    <DIR>          Contacts\n",
      "2018-05-30  오후 06:13    <DIR>          datascience_review\n",
      "2018-05-30  오후 08:51    <DIR>          Desktop\n",
      "2018-05-15  오후 02:23    <DIR>          Documents\n",
      "2018-05-30  오후 02:53    <DIR>          Downloads\n",
      "2018-04-24  오전 09:24    <DIR>          Favorites\n",
      "2017-06-20  오후 04:19    <DIR>          Intel\n",
      "2017-06-24  오전 03:30    <DIR>          Links\n",
      "2017-06-24  오전 03:30    <DIR>          Music\n",
      "2017-06-24  오전 03:30    <DIR>          Pictures\n",
      "2018-05-22  오전 11:55    <DIR>          Python For Finance\n",
      "2018-05-23  오후 09:51            11,423 quiz_numpy (2).ipynb\n",
      "2018-05-28  오후 07:35             4,528 quiz_pandas_1.ipynb\n",
      "2018-05-28  오후 01:47           228,765 quiz_pandas_2.ipynb\n",
      "2018-05-23  오후 09:59            13,998 quiz_김종재.ipynb\n",
      "2015-09-14  오후 04:25    <DIR>          Roaming\n",
      "2017-06-24  오전 03:30    <DIR>          Saved Games\n",
      "2018-05-17  오후 04:39    <DIR>          school\n",
      "2018-05-15  오후 02:10    <DIR>          scikit_learn_data\n",
      "2018-05-28  오전 11:29    <DIR>          seaborn-data\n",
      "2017-09-09  오후 10:25    <DIR>          Searches\n",
      "2018-05-26  오후 08:54    <DIR>          sise_practice\n",
      "2018-05-23  오전 09:59           141,697 test\n",
      "2018-05-25  오후 02:15            61,194 train.csv\n",
      "2018-05-23  오후 06:01            47,053 Untitled.ipynb\n",
      "2018-05-23  오후 10:00            27,989 Untitled1.ipynb\n",
      "2018-05-23  오후 07:51                72 Untitled2.ipynb\n",
      "2018-05-23  오후 07:52               555 Untitled3.ipynb\n",
      "2018-05-25  오후 12:07             5,667 Untitled4.ipynb\n",
      "2018-05-26  오후 12:22             7,448 Untitled5.ipynb\n",
      "2018-05-28  오후 02:55             4,764 Untitled6.ipynb\n",
      "2018-05-30  오후 03:51            30,215 Untitled7.ipynb\n",
      "2017-06-24  오전 03:30    <DIR>          Videos\n",
      "2018-05-23  오후 12:00             1,435 매니저님.ipynb\n",
      "2018-05-26  오전 10:42            11,661 위치경도.ipynb\n",
      "              27개 파일           1,037,607 바이트\n",
      "              37개 디렉터리  161,476,145,152 바이트 남음\n"
     ]
    }
   ],
   "source": [
    "%ls"
   ]
  },
  {
   "cell_type": "code",
   "execution_count": 35,
   "metadata": {},
   "outputs": [
    {
     "data": {
      "text/plain": [
       "False"
      ]
     },
     "execution_count": 35,
     "metadata": {},
     "output_type": "execute_result"
    }
   ],
   "source": [
    "# 파일의 존재 여부 확인 - exists\n",
    "os.path.exists('jay/test.txt')"
   ]
  },
  {
   "cell_type": "code",
   "execution_count": 36,
   "metadata": {},
   "outputs": [
    {
     "data": {
      "text/plain": [
       "True"
      ]
     },
     "execution_count": 36,
     "metadata": {},
     "output_type": "execute_result"
    }
   ],
   "source": [
    "os.path.exists('jay/test1.txt')"
   ]
  },
  {
   "cell_type": "code",
   "execution_count": 37,
   "metadata": {},
   "outputs": [
    {
     "data": {
      "text/plain": [
       "True"
      ]
     },
     "execution_count": 37,
     "metadata": {},
     "output_type": "execute_result"
    }
   ],
   "source": [
    "# 파일 타입을 확인 - isdir\n",
    "os.path.isdir('jay') # directory인 경우"
   ]
  },
  {
   "cell_type": "code",
   "execution_count": 38,
   "metadata": {},
   "outputs": [
    {
     "data": {
      "text/plain": [
       "False"
      ]
     },
     "execution_count": 38,
     "metadata": {},
     "output_type": "execute_result"
    }
   ],
   "source": [
    "os.path.isdir('jay/test2.txt') #directory인지 아닌지를 판별"
   ]
  },
  {
   "cell_type": "code",
   "execution_count": 40,
   "metadata": {},
   "outputs": [
    {
     "name": "stdout",
     "output_type": "stream",
     "text": [
      " C 드라이브의 볼륨에는 이름이 없습니다.\n",
      " 볼륨 일련 번호: 4400-3734\n",
      "\n",
      " C:\\Users\\JongJae\\jay 디렉터리\n",
      "\n",
      "2018-05-31  오후 03:37    <DIR>          .\n",
      "2018-05-31  오후 03:37    <DIR>          ..\n",
      "2018-05-31  오후 03:37                12 test1.txt\n",
      "2018-05-31  오후 03:37                12 test2.txt\n",
      "2018-05-31  오후 03:37                12 test3.txt\n",
      "               3개 파일                  36 바이트\n",
      "               2개 디렉터리  161,475,932,160 바이트 남음\n"
     ]
    }
   ],
   "source": [
    "# 파일 복사하기\n",
    "%ls jay"
   ]
  },
  {
   "cell_type": "code",
   "execution_count": 41,
   "metadata": {},
   "outputs": [
    {
     "data": {
      "text/plain": [
       "'jay/copy.txt'"
      ]
     },
     "execution_count": 41,
     "metadata": {},
     "output_type": "execute_result"
    }
   ],
   "source": [
    "shutil.copy('jay/test1.txt', 'jay/copy.txt')"
   ]
  },
  {
   "cell_type": "code",
   "execution_count": 42,
   "metadata": {},
   "outputs": [
    {
     "name": "stdout",
     "output_type": "stream",
     "text": [
      " C 드라이브의 볼륨에는 이름이 없습니다.\n",
      " 볼륨 일련 번호: 4400-3734\n",
      "\n",
      " C:\\Users\\JongJae\\jay 디렉터리\n",
      "\n",
      "2018-05-31  오후 03:40    <DIR>          .\n",
      "2018-05-31  오후 03:40    <DIR>          ..\n",
      "2018-05-31  오후 03:40                12 copy.txt\n",
      "2018-05-31  오후 03:37                12 test1.txt\n",
      "2018-05-31  오후 03:37                12 test2.txt\n",
      "2018-05-31  오후 03:37                12 test3.txt\n",
      "               4개 파일                  48 바이트\n",
      "               2개 디렉터리  161,475,784,704 바이트 남음\n"
     ]
    }
   ],
   "source": [
    "%ls jay"
   ]
  },
  {
   "cell_type": "code",
   "execution_count": 43,
   "metadata": {},
   "outputs": [],
   "source": [
    "# 이름 바꾸기\n",
    "os.rename('jay/copy.txt', 'jay/rename.txt.')"
   ]
  },
  {
   "cell_type": "code",
   "execution_count": 44,
   "metadata": {},
   "outputs": [
    {
     "name": "stdout",
     "output_type": "stream",
     "text": [
      " C 드라이브의 볼륨에는 이름이 없습니다.\n",
      " 볼륨 일련 번호: 4400-3734\n",
      "\n",
      " C:\\Users\\JongJae\\jay 디렉터리\n",
      "\n",
      "2018-05-31  오후 03:40    <DIR>          .\n",
      "2018-05-31  오후 03:40    <DIR>          ..\n",
      "2018-05-31  오후 03:40                12 rename.txt\n",
      "2018-05-31  오후 03:37                12 test1.txt\n",
      "2018-05-31  오후 03:37                12 test2.txt\n",
      "2018-05-31  오후 03:37                12 test3.txt\n",
      "               4개 파일                  48 바이트\n",
      "               2개 디렉터리  161,475,776,512 바이트 남음\n"
     ]
    }
   ],
   "source": [
    "%ls jay"
   ]
  },
  {
   "cell_type": "markdown",
   "metadata": {},
   "source": [
    "#### 권한설정\n",
    "- `-rw-r--r--`: 10개의 문자로 이루어진 권한에 관련된 정보\n",
    "        - `[:1]` : 타입\n",
    "        - `[1:4]` : 소유자에 대한 파일의 권한\n",
    "        - `[4:7]` : 그룹에 대한 파일의 권한\n",
    "        - `[7:]` : 모든 사용자에 대한 파일의 권한\n",
    "- 권한\n",
    "    - rwx : r(읽기), w(쓰기), x(실행)\n",
    "- 권한 설정 방법(2진수, 8진수)\n",
    "    - chmod 731 os _dir/test.txt \n",
    "    - 7(8진수 0 ~ 7) - 111 - rwx\n",
    "    - 5 - 101 - r-x"
   ]
  },
  {
   "cell_type": "code",
   "execution_count": 49,
   "metadata": {},
   "outputs": [],
   "source": [
    "os.chmod('jay/test1.txt', 0o737) # 0o 팔진수 권한"
   ]
  },
  {
   "cell_type": "code",
   "execution_count": 47,
   "metadata": {},
   "outputs": [
    {
     "name": "stderr",
     "output_type": "stream",
     "text": [
      "UsageError: Line magic function `%ll` not found.\n"
     ]
    }
   ],
   "source": [
    "%ll jay"
   ]
  },
  {
   "cell_type": "code",
   "execution_count": 48,
   "metadata": {},
   "outputs": [
    {
     "name": "stdout",
     "output_type": "stream",
     "text": [
      " C 드라이브의 볼륨에는 이름이 없습니다.\n",
      " 볼륨 일련 번호: 4400-3734\n",
      "\n",
      " C:\\Users\\JongJae\\jay 디렉터리\n",
      "\n",
      "2018-05-31  오후 03:40    <DIR>          .\n",
      "2018-05-31  오후 03:40    <DIR>          ..\n",
      "2018-05-31  오후 03:40                12 rename.txt\n",
      "2018-05-31  오후 03:37                12 test1.txt\n",
      "2018-05-31  오후 03:37                12 test2.txt\n",
      "2018-05-31  오후 03:37                12 test3.txt\n",
      "               4개 파일                  48 바이트\n",
      "               2개 디렉터리  161,475,764,224 바이트 남음\n"
     ]
    }
   ],
   "source": [
    "%ls jay"
   ]
  },
  {
   "cell_type": "code",
   "execution_count": null,
   "metadata": {},
   "outputs": [],
   "source": []
  }
 ],
 "metadata": {
  "kernelspec": {
   "display_name": "Python 3",
   "language": "python",
   "name": "python3"
  },
  "language_info": {
   "codemirror_mode": {
    "name": "ipython",
    "version": 3
   },
   "file_extension": ".py",
   "mimetype": "text/x-python",
   "name": "python",
   "nbconvert_exporter": "python",
   "pygments_lexer": "ipython3",
   "version": "3.6.4"
  }
 },
 "nbformat": 4,
 "nbformat_minor": 2
}
