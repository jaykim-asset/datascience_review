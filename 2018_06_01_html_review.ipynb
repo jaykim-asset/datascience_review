{
 "cells": [
  {
   "cell_type": "markdown",
   "metadata": {},
   "source": [
    "#### HTML\n",
    "- 0. 구성"
   ]
  },
  {
   "cell_type": "markdown",
   "metadata": {},
   "source": [
    "(1) 요소 - Element\n",
    "시작 태그와 종료태그로 이루어진 모든 코드를 의미한다.\n",
    "\n",
    "(2) 태그 - Tag\n",
    "요소의 일부로 `<div>, <a>, <span>, <p>`와 같은 것을 태그라고 한다.\n",
    "    \n",
    "(3) 속성 - Attribute\n",
    "요소의 일부로 태그 안의 코드를 속성이라고 한다.\n",
    "`id - Element`를 나타내는 고유한 값. 중복이 되면 안된다.\n",
    "`class - Element`를 그룹으로 묶어 줄 수 있는 값, 같은 값이면 같이 묶어서 style을 정해줄 수 있다.\n",
    "attribute - id 와 class를 제외한 Element의 속성 값을 나타낸다."
   ]
  },
  {
   "cell_type": "markdown",
   "metadata": {},
   "source": []
  }
 ],
 "metadata": {
  "kernelspec": {
   "display_name": "Python 3",
   "language": "python",
   "name": "python3"
  },
  "language_info": {
   "codemirror_mode": {
    "name": "ipython",
    "version": 3
   },
   "file_extension": ".py",
   "mimetype": "text/x-python",
   "name": "python",
   "nbconvert_exporter": "python",
   "pygments_lexer": "ipython3",
   "version": "3.6.4"
  }
 },
 "nbformat": 4,
 "nbformat_minor": 2
}
