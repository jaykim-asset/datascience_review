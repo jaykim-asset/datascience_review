{
 "cells": [
  {
   "cell_type": "code",
   "execution_count": 20,
   "metadata": {},
   "outputs": [],
   "source": [
    "import smtplib, os, pickle\n",
    "from email import encoders\n",
    "from email.mime.text import MIMEText\n",
    "from email.mime.multipart import MIMEMultipart\n",
    "from email.mime.base import MIMEBase"
   ]
  },
  {
   "cell_type": "code",
   "execution_count": 21,
   "metadata": {},
   "outputs": [],
   "source": [
    "toAddr = ['jaykim.asset@gmail.com']"
   ]
  },
  {
   "cell_type": "code",
   "execution_count": 22,
   "metadata": {},
   "outputs": [],
   "source": [
    "# 비밀번호 저장\n",
    "pw = 'Jong910218!'"
   ]
  },
  {
   "cell_type": "code",
   "execution_count": 46,
   "metadata": {},
   "outputs": [],
   "source": [
    "pickle.dump(pw, open('pw.pickle', 'wb'))"
   ]
  },
  {
   "cell_type": "code",
   "execution_count": 24,
   "metadata": {},
   "outputs": [
    {
     "data": {
      "text/plain": [
       "(235, b'2.7.0 Accepted')"
      ]
     },
     "execution_count": 24,
     "metadata": {},
     "output_type": "execute_result"
    }
   ],
   "source": [
    "# Access smtp server\n",
    "smtp = smtplib.SMTP('smtp.gmail.com', 587)\n",
    "smtp.ehlo()\n",
    "smtp.starttls()\n",
    "smtp.login('jaykim.asset@gmail.com', pickle.load(open('pw.pickle', 'rb')))"
   ]
  },
  {
   "cell_type": "code",
   "execution_count": 25,
   "metadata": {},
   "outputs": [],
   "source": [
    "# make msg\n",
    "msg = MIMEMultipart()\n",
    "msg['subject'] = 'SMTP 전송 테스트(제목)'"
   ]
  },
  {
   "cell_type": "code",
   "execution_count": 26,
   "metadata": {},
   "outputs": [],
   "source": [
    "part = MIMEText(\"SMTP TEXT 메시지 보내기\")\n",
    "msg.attach(part)"
   ]
  },
  {
   "cell_type": "code",
   "execution_count": 27,
   "metadata": {},
   "outputs": [
    {
     "data": {
      "text/plain": [
       "<email.mime.multipart.MIMEMultipart at 0xbd0e9b0>"
      ]
     },
     "execution_count": 27,
     "metadata": {},
     "output_type": "execute_result"
    }
   ],
   "source": [
    "msg # message에는 제목, 본문이 추가됨"
   ]
  },
  {
   "cell_type": "code",
   "execution_count": 28,
   "metadata": {},
   "outputs": [],
   "source": [
    "for addr in toAddr:\n",
    "    msg['To'] = addr\n",
    "    # (보내는 사람 메일, 받는 사람 메일, 메세지)\n",
    "    smtp.sendmail('jaykim.asset@gmail.com', addr, msg.as_string())"
   ]
  },
  {
   "cell_type": "code",
   "execution_count": 29,
   "metadata": {},
   "outputs": [
    {
     "data": {
      "text/plain": [
       "(221, b'2.0.0 closing connection z74-v6sm6485959pff.54 - gsmtp')"
      ]
     },
     "execution_count": 29,
     "metadata": {},
     "output_type": "execute_result"
    }
   ],
   "source": [
    "# close smtp object\n",
    "smtp.quit()"
   ]
  },
  {
   "cell_type": "code",
   "execution_count": null,
   "metadata": {},
   "outputs": [],
   "source": []
  },
  {
   "cell_type": "markdown",
   "metadata": {},
   "source": [
    "#### send html"
   ]
  },
  {
   "cell_type": "code",
   "execution_count": 57,
   "metadata": {},
   "outputs": [],
   "source": [
    "def get_smtp():\n",
    "    smtp = smtplib.SMTP('smtp.gmail.com', 587)\n",
    "    smtp.ehlo()\n",
    "    smtp.starttls()\n",
    "    smtp.login('jaykim.asset@gmail.com', pickle.load( open('pw.pickle', 'rb')))\n",
    "    return smtp"
   ]
  },
  {
   "cell_type": "code",
   "execution_count": 58,
   "metadata": {},
   "outputs": [
    {
     "data": {
      "text/plain": [
       "<smtplib.SMTP at 0xbd41588>"
      ]
     },
     "execution_count": 58,
     "metadata": {},
     "output_type": "execute_result"
    }
   ],
   "source": [
    "smtp = get_smtp()\n",
    "smtp"
   ]
  },
  {
   "cell_type": "code",
   "execution_count": 59,
   "metadata": {},
   "outputs": [
    {
     "data": {
      "text/plain": [
       "<email.mime.multipart.MIMEMultipart at 0xbd38cf8>"
      ]
     },
     "execution_count": 59,
     "metadata": {},
     "output_type": "execute_result"
    }
   ],
   "source": [
    "msg = MIMEMultipart()\n",
    "\n",
    "#제목\n",
    "msg['subject'] = 'HTML 전송 테스트'\n",
    "\n",
    "# 내용\n",
    "part = MIMEText(\"Html 코드 보내기\")\n",
    "msg.attach(part)\n",
    "\n",
    "# HTML\n",
    "part_html = MIMEText('<br><a href=\"http://www.fastcampus.co.kr/\">\\\n",
    "패스트캠퍼스</a>', 'html')\n",
    "msg.attach(part_html)\n",
    "\n",
    "msg  # 제목, 내용, html"
   ]
  },
  {
   "cell_type": "code",
   "execution_count": 60,
   "metadata": {},
   "outputs": [],
   "source": [
    "# 전송\n",
    "def send_mails(smtp, toAddr, msg):\n",
    "    for addr in toAddr:\n",
    "        msg['To'] = addr\n",
    "        smtp.sendmail('jaykim.asset@gmail.com', addr, msg.as_string())\n",
    "    smtp.quit()"
   ]
  },
  {
   "cell_type": "code",
   "execution_count": 61,
   "metadata": {},
   "outputs": [
    {
     "data": {
      "text/plain": [
       "(<smtplib.SMTP at 0xbd41588>,\n",
       " ['jaykim.asset@gmail.com'],\n",
       " <email.mime.multipart.MIMEMultipart at 0xbd38cf8>)"
      ]
     },
     "execution_count": 61,
     "metadata": {},
     "output_type": "execute_result"
    }
   ],
   "source": [
    "smtp, toAddr, msg"
   ]
  },
  {
   "cell_type": "code",
   "execution_count": 62,
   "metadata": {},
   "outputs": [],
   "source": [
    "send_mails(smtp, toAddr, msg)"
   ]
  },
  {
   "cell_type": "code",
   "execution_count": null,
   "metadata": {},
   "outputs": [],
   "source": []
  },
  {
   "cell_type": "code",
   "execution_count": null,
   "metadata": {},
   "outputs": [],
   "source": []
  },
  {
   "cell_type": "markdown",
   "metadata": {},
   "source": [
    "#### Send File"
   ]
  },
  {
   "cell_type": "code",
   "execution_count": 67,
   "metadata": {},
   "outputs": [],
   "source": [
    "smtp = get_smtp()\n",
    "msg = MIMEMultipart()\n",
    "msg['subject'] = 'Send file test'\n",
    "part = MIMEText('파일 전송 테스트')\n",
    "msg.attach(part)"
   ]
  },
  {
   "cell_type": "code",
   "execution_count": 76,
   "metadata": {},
   "outputs": [],
   "source": [
    "# file attach - pdf\n",
    "file_name = 'asdv.png'\n",
    "maintype, subtype = 'application', 'octet-steam'\n",
    "\n",
    "with open(file_name, 'rb') as fp:\n",
    "    part = MIMEBase(maintype, subtype)\n",
    "    part.set_payload(fp.read()) # part에 mp4 파일이 들어감\n",
    "    encoders.encode_base64(part) # base64 encoding\n",
    "    \n",
    "part.add_header('Content-Disposition', 'attachment', filename = file_name)\n",
    "msg.attach(part)"
   ]
  },
  {
   "cell_type": "code",
   "execution_count": 77,
   "metadata": {},
   "outputs": [
    {
     "data": {
      "text/plain": [
       "<email.mime.multipart.MIMEMultipart at 0xc064780>"
      ]
     },
     "execution_count": 77,
     "metadata": {},
     "output_type": "execute_result"
    }
   ],
   "source": [
    "msg # 본문, 패일"
   ]
  },
  {
   "cell_type": "code",
   "execution_count": null,
   "metadata": {},
   "outputs": [],
   "source": [
    "send_mails(smtp, toAddr, msg)"
   ]
  }
 ],
 "metadata": {
  "kernelspec": {
   "display_name": "Python 3",
   "language": "python",
   "name": "python3"
  },
  "language_info": {
   "codemirror_mode": {
    "name": "ipython",
    "version": 3
   },
   "file_extension": ".py",
   "mimetype": "text/x-python",
   "name": "python",
   "nbconvert_exporter": "python",
   "pygments_lexer": "ipython3",
   "version": "3.6.4"
  }
 },
 "nbformat": 4,
 "nbformat_minor": 2
}
