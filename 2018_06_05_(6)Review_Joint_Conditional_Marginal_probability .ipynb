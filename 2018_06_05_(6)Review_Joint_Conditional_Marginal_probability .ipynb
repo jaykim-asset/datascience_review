{
 "cells": [
  {
   "cell_type": "markdown",
   "metadata": {},
   "source": [
    "## 결합 확률과 조건부 확률"
   ]
  },
  {
   "cell_type": "markdown",
   "metadata": {},
   "source": [
    "- 베이지안 확률론은 두 사건 A와 B의 관계를 알고 있다면 사건 B가 발생하였다는 사실로부터 기존에 알고 있는 사건 A에 대한 확률 P(A)를 좀 더 정확한 확률로 바꿀 수 있는 방법을 알려준다. 이를 위해서는 결합 확률과 조건부 확률이라는 두 가지 개념을 정의해야 한다."
   ]
  },
  {
   "cell_type": "markdown",
   "metadata": {},
   "source": [
    "- **결합확률(Joint Probability)**: 사건 A와 사건 B가 동시에 발생할 확률.\n",
    "- 즉 사건 A도 진실이고 사건 B도 진실이므로, 사건 A와 B의 교집합의 확률을 계산하는 것과 같다.\n",
    "    - P(A,B)\n",
    "- **주변확률(Marginal Probability)**: 결합 확률과 대비되는 개념으로 결합되지 않는 개별 사건의 확률 \n",
    "    - P(A) or P(B)\n",
    "- **조건부확률(Conditional probability)**: B가 사실인 경우의 사건 A에 대한 확률\n",
    "    - P(AlB)\n",
    "    - P(AlB) = P(A,B) / P(B)\n",
    "    - 조건부 확률이 위와 같이 정의된 근거는 다음과 같다.\n",
    "        - 사건 B가 사실이므로 모든 가능한 표본은 사건 B에 포함되어야 한다. 즉, 표본 공간이 Omega에서 B로 변경된다.\n",
    "        - 사건 A의 원소는 모두 사건 B의 원소도 되므로 사실상 사건 A,B의 원소가 된다. 즉 P(A) = P(A,B)가 된다.\n",
    "        - 따라서, 사건 A의 확률 즉, 신뢰도는 원래의 신뢰도를 새로운 표본 공간의 신뢰도로 정규화 한 값."
   ]
  },
  {
   "cell_type": "markdown",
   "metadata": {},
   "source": [
    "- 조건부 확률 P(AlB)\n",
    "    - 사건 B가 발생한 경우의 사건 A의 확률\n",
    "    - 표본이 사건 B에 속한다는 새로운 사실을 알게 되었을 때,\n",
    "    - 이 표본이 사건 A에 속한다는 사실의 정확성이 어떻게 변하는지 알려준다. \n",
    "- 예를 들어, 범인 찾기 문제에서\n",
    "    - P(A): 범인이 남자일 확률\n",
    "    - P(B): 범이이 머리가 길 확률\n",
    "    - P(AlB): 범인이 머리가 길다는 사실을 알게 되었을 때, 달라진 \"범인이 남자일 확률\"\n",
    "- 조건부 확률의 값:\n",
    "    - P(AlB) = P(A,B) / P(B)\n",
    "    - 이 조건을 변형 시키면,\n",
    "    - P(A,B) = P(AlB) * P(B)가 된다."
   ]
  },
  {
   "cell_type": "markdown",
   "metadata": {},
   "source": [
    "#### 독립\n",
    "- 수학적으로는 사건 A와 사건 B의 결합 확률의 값이 다음과 같은 관계가 성립하면 두 사건 A와 B는 서로 독립이라고 정의한다\n",
    "- P(A,B) = P(A) * P(B)"
   ]
  },
  {
   "cell_type": "markdown",
   "metadata": {},
   "source": [
    "- 독립인 경우 조건부 확률과 원래의 확률이 같아짐을 알 수 있다. 즉, B라는 사건이 발생하든 말든 사건 A에는 전혀 영향을 주지 않는 다는 것이다.\n",
    "- P(AlB) = P(A,B) / P(B) = P(A)*P(B) / P(B) = P(A)"
   ]
  },
  {
   "cell_type": "markdown",
   "metadata": {},
   "source": [
    "- P(A,B) = P(AlB) * P(B)\n",
    "- 이 식은 다음과 같은 관점에서 볼 수 있다.\n",
    "- A,B가 모두 발생할 확율은 B라는 사건이 발생할 확률과 그 사건이 발생한 경우 다시 A가 발생할 경우의 곱과 같다"
   ]
  },
  {
   "cell_type": "code",
   "execution_count": null,
   "metadata": {},
   "outputs": [],
   "source": []
  }
 ],
 "metadata": {
  "kernelspec": {
   "display_name": "Python 3",
   "language": "python",
   "name": "python3"
  },
  "language_info": {
   "codemirror_mode": {
    "name": "ipython",
    "version": 3
   },
   "file_extension": ".py",
   "mimetype": "text/x-python",
   "name": "python",
   "nbconvert_exporter": "python",
   "pygments_lexer": "ipython3",
   "version": "3.6.4"
  }
 },
 "nbformat": 4,
 "nbformat_minor": 2
}
