{
 "cells": [
  {
   "cell_type": "code",
   "execution_count": 1,
   "metadata": {},
   "outputs": [],
   "source": [
    "from patsy import dmatrix"
   ]
  },
  {
   "cell_type": "code",
   "execution_count": 2,
   "metadata": {},
   "outputs": [
    {
     "data": {
      "text/html": [
       "<div>\n",
       "<style scoped>\n",
       "    .dataframe tbody tr th:only-of-type {\n",
       "        vertical-align: middle;\n",
       "    }\n",
       "\n",
       "    .dataframe tbody tr th {\n",
       "        vertical-align: top;\n",
       "    }\n",
       "\n",
       "    .dataframe thead th {\n",
       "        text-align: right;\n",
       "    }\n",
       "</style>\n",
       "<table border=\"1\" class=\"dataframe\">\n",
       "  <thead>\n",
       "    <tr style=\"text-align: right;\">\n",
       "      <th></th>\n",
       "      <th>x1</th>\n",
       "      <th>x2</th>\n",
       "      <th>x3</th>\n",
       "    </tr>\n",
       "  </thead>\n",
       "  <tbody>\n",
       "    <tr>\n",
       "      <th>0</th>\n",
       "      <td>10.548814</td>\n",
       "      <td>6.458941</td>\n",
       "      <td>24.258421</td>\n",
       "    </tr>\n",
       "    <tr>\n",
       "      <th>1</th>\n",
       "      <td>10.715189</td>\n",
       "      <td>4.375872</td>\n",
       "      <td>19.995829</td>\n",
       "    </tr>\n",
       "    <tr>\n",
       "      <th>2</th>\n",
       "      <td>10.602763</td>\n",
       "      <td>8.917730</td>\n",
       "      <td>29.006268</td>\n",
       "    </tr>\n",
       "    <tr>\n",
       "      <th>3</th>\n",
       "      <td>10.544883</td>\n",
       "      <td>9.636628</td>\n",
       "      <td>30.743735</td>\n",
       "    </tr>\n",
       "    <tr>\n",
       "      <th>4</th>\n",
       "      <td>10.423655</td>\n",
       "      <td>3.834415</td>\n",
       "      <td>18.163521</td>\n",
       "    </tr>\n",
       "  </tbody>\n",
       "</table>\n",
       "</div>"
      ],
      "text/plain": [
       "          x1        x2         x3\n",
       "0  10.548814  6.458941  24.258421\n",
       "1  10.715189  4.375872  19.995829\n",
       "2  10.602763  8.917730  29.006268\n",
       "3  10.544883  9.636628  30.743735\n",
       "4  10.423655  3.834415  18.163521"
      ]
     },
     "execution_count": 2,
     "metadata": {},
     "output_type": "execute_result"
    }
   ],
   "source": [
    "np.random.seed(0)\n",
    "x1 = np.random.rand(5) + 10\n",
    "x2 = np.random.rand(5) * 10\n",
    "y = x1 + 2 * x2 + np.random.rand(5)\n",
    "df = pd.DataFrame(np.array([x1, x2, y]).T, columns = ['x1', 'x2', 'x3'])\n",
    "df.tail()"
   ]
  },
  {
   "cell_type": "code",
   "execution_count": 4,
   "metadata": {},
   "outputs": [
    {
     "data": {
      "text/plain": [
       "DesignMatrix with shape (5, 2)\n",
       "  Intercept        x1\n",
       "          1  10.54881\n",
       "          1  10.71519\n",
       "          1  10.60276\n",
       "          1  10.54488\n",
       "          1  10.42365\n",
       "  Terms:\n",
       "    'Intercept' (column 0)\n",
       "    'x1' (column 1)"
      ]
     },
     "execution_count": 4,
     "metadata": {},
     "output_type": "execute_result"
    }
   ],
   "source": [
    "dmatrix('x1', df) # Augmentated"
   ]
  },
  {
   "cell_type": "markdown",
   "metadata": {},
   "source": [
    "#### R-Style Formula 연산자"
   ]
  },
  {
   "cell_type": "code",
   "execution_count": 5,
   "metadata": {},
   "outputs": [
    {
     "data": {
      "text/plain": [
       "DesignMatrix with shape (5, 1)\n",
       "        x1\n",
       "  10.54881\n",
       "  10.71519\n",
       "  10.60276\n",
       "  10.54488\n",
       "  10.42365\n",
       "  Terms:\n",
       "    'x1' (column 0)"
      ]
     },
     "execution_count": 5,
     "metadata": {},
     "output_type": "execute_result"
    }
   ],
   "source": [
    "# 상수항을 제외하고자 하는 경우에는 -1 or +0을 써주어야 한다.\n",
    "dmatrix('x1 -1', df)"
   ]
  },
  {
   "cell_type": "code",
   "execution_count": 9,
   "metadata": {},
   "outputs": [
    {
     "data": {
      "text/plain": [
       "DesignMatrix with shape (5, 1)\n",
       "        x1\n",
       "  10.54881\n",
       "  10.71519\n",
       "  10.60276\n",
       "  10.54488\n",
       "  10.42365\n",
       "  Terms:\n",
       "    'x1' (column 0)"
      ]
     },
     "execution_count": 9,
     "metadata": {},
     "output_type": "execute_result"
    }
   ],
   "source": [
    "dmatrix('x1 + 0', df)"
   ]
  },
  {
   "cell_type": "code",
   "execution_count": 10,
   "metadata": {},
   "outputs": [
    {
     "data": {
      "text/plain": [
       "DesignMatrix with shape (5, 3)\n",
       "  Intercept        x1       x2\n",
       "          1  10.54881  6.45894\n",
       "          1  10.71519  4.37587\n",
       "          1  10.60276  8.91773\n",
       "          1  10.54488  9.63663\n",
       "          1  10.42365  3.83442\n",
       "  Terms:\n",
       "    'Intercept' (column 0)\n",
       "    'x1' (column 1)\n",
       "    'x2' (column 2)"
      ]
     },
     "execution_count": 10,
     "metadata": {},
     "output_type": "execute_result"
    }
   ],
   "source": [
    "# 두 개 이상의 데이터를 포함하는 경우에는 + 연산자를 사용한다.\n",
    "dmatrix('x1 + x2', df)"
   ]
  },
  {
   "cell_type": "code",
   "execution_count": 11,
   "metadata": {},
   "outputs": [
    {
     "data": {
      "text/plain": [
       "DesignMatrix with shape (5, 2)\n",
       "        x1       x2\n",
       "  10.54881  6.45894\n",
       "  10.71519  4.37587\n",
       "  10.60276  8.91773\n",
       "  10.54488  9.63663\n",
       "  10.42365  3.83442\n",
       "  Terms:\n",
       "    'x1' (column 0)\n",
       "    'x2' (column 1)"
      ]
     },
     "execution_count": 11,
     "metadata": {},
     "output_type": "execute_result"
    }
   ],
   "source": [
    "dmatrix('x1 + x2 - 1', df)"
   ]
  },
  {
   "cell_type": "code",
   "execution_count": 13,
   "metadata": {},
   "outputs": [
    {
     "data": {
      "text/plain": [
       "DesignMatrix with shape (5, 3)\n",
       "        x1       x2      x1:x2\n",
       "  10.54881  6.45894   68.13417\n",
       "  10.71519  4.37587   46.88830\n",
       "  10.60276  8.91773   94.55258\n",
       "  10.54488  9.63663  101.61711\n",
       "  10.42365  3.83442   39.96862\n",
       "  Terms:\n",
       "    'x1' (column 0)\n",
       "    'x2' (column 1)\n",
       "    'x1:x2' (column 2)"
      ]
     },
     "execution_count": 13,
     "metadata": {},
     "output_type": "execute_result"
    }
   ],
   "source": [
    "# 두 변수의 곱을 새로운 변수로 추가하려면 : 연산자를 사용한다.\n",
    "dmatrix('x1 + x2 + x1:x2 - 1', df)"
   ]
  },
  {
   "cell_type": "code",
   "execution_count": 14,
   "metadata": {},
   "outputs": [
    {
     "data": {
      "text/plain": [
       "DesignMatrix with shape (5, 3)\n",
       "        x1       x2      x1:x2\n",
       "  10.54881  6.45894   68.13417\n",
       "  10.71519  4.37587   46.88830\n",
       "  10.60276  8.91773   94.55258\n",
       "  10.54488  9.63663  101.61711\n",
       "  10.42365  3.83442   39.96862\n",
       "  Terms:\n",
       "    'x1' (column 0)\n",
       "    'x2' (column 1)\n",
       "    'x1:x2' (column 2)"
      ]
     },
     "execution_count": 14,
     "metadata": {},
     "output_type": "execute_result"
    }
   ],
   "source": [
    "# 위의 식을, *로 간단히 표현이 가능함.\n",
    "dmatrix('x1 * x2 - 1', df)"
   ]
  },
  {
   "cell_type": "code",
   "execution_count": 21,
   "metadata": {},
   "outputs": [
    {
     "data": {
      "text/plain": [
       "DesignMatrix with shape (5, 2)\n",
       "        x1      x1:x2\n",
       "  10.54881   68.13417\n",
       "  10.71519   46.88830\n",
       "  10.60276   94.55258\n",
       "  10.54488  101.61711\n",
       "  10.42365   39.96862\n",
       "  Terms:\n",
       "    'x1' (column 0)\n",
       "    'x1:x2' (column 1)"
      ]
     },
     "execution_count": 21,
     "metadata": {},
     "output_type": "execute_result"
    }
   ],
   "source": [
    "# / 연산자는 다음과 같은 출력을 낸다.\n",
    "dmatrix('x1 / x2 - 1', df)"
   ]
  },
  {
   "cell_type": "markdown",
   "metadata": {},
   "source": [
    "### 변환\n",
    "- dmatrix에서 일반적인 수학 변환도 가능하다.\n",
    "- numpy 뿐아니라, patsy전용 함수도 사용 할 수 있다.\n",
    "- center(x): 평균 제거\n",
    "- standardize(x): 평균 제거 및 표준편차로 스케일링\n",
    "- scale(x): standardize(x)과 같음"
   ]
  },
  {
   "cell_type": "code",
   "execution_count": 22,
   "metadata": {},
   "outputs": [
    {
     "data": {
      "text/plain": [
       "DesignMatrix with shape (5, 3)\n",
       "  Intercept        x1  np.log(np.abs(x2))\n",
       "          1  10.54881             1.86547\n",
       "          1  10.71519             1.47611\n",
       "          1  10.60276             2.18804\n",
       "          1  10.54488             2.26557\n",
       "          1  10.42365             1.34402\n",
       "  Terms:\n",
       "    'Intercept' (column 0)\n",
       "    'x1' (column 1)\n",
       "    'np.log(np.abs(x2))' (column 2)"
      ]
     },
     "execution_count": 22,
     "metadata": {},
     "output_type": "execute_result"
    }
   ],
   "source": [
    "dmatrix('x1 + np.log(np.abs(x2))', df)"
   ]
  },
  {
   "cell_type": "code",
   "execution_count": 23,
   "metadata": {},
   "outputs": [
    {
     "data": {
      "text/plain": [
       "DesignMatrix with shape (5, 2)\n",
       "  Intercept  doubleit(x1)\n",
       "          1      21.09763\n",
       "          1      21.43038\n",
       "          1      21.20553\n",
       "          1      21.08977\n",
       "          1      20.84731\n",
       "  Terms:\n",
       "    'Intercept' (column 0)\n",
       "    'doubleit(x1)' (column 1)"
      ]
     },
     "execution_count": 23,
     "metadata": {},
     "output_type": "execute_result"
    }
   ],
   "source": [
    "def doubleit(x):\n",
    "    return 2 * x\n",
    "\n",
    "dmatrix('doubleit(x1)', df)"
   ]
  },
  {
   "cell_type": "code",
   "execution_count": 26,
   "metadata": {},
   "outputs": [
    {
     "data": {
      "text/plain": [
       "DesignMatrix with shape (5, 4)\n",
       "  Intercept  center(x1)  standardize(x1)  scale(x2)\n",
       "          1    -0.01825         -0.19319   -0.07965\n",
       "          1     0.14813          1.56828   -0.97279\n",
       "          1     0.03570          0.37799    0.97458\n",
       "          1    -0.02218         -0.23480    1.28282\n",
       "          1    -0.14341         -1.51828   -1.20495\n",
       "  Terms:\n",
       "    'Intercept' (column 0)\n",
       "    'center(x1)' (column 1)\n",
       "    'standardize(x1)' (column 2)\n",
       "    'scale(x2)' (column 3)"
      ]
     },
     "execution_count": 26,
     "metadata": {},
     "output_type": "execute_result"
    }
   ],
   "source": [
    "dmatrix('center(x1) + standardize(x1) + scale(x2)', df)"
   ]
  },
  {
   "cell_type": "markdown",
   "metadata": {},
   "source": [
    "### 변수보호\n",
    "- 함수를 사용한 변수 변환 이외에도 모형 정의 문자열 자체내에 연산기호를 넣어 연산한 값을 만드는 것도 가능하다. 이 때에는 모형정의 연산자와 혼동되지 않도록 I() 연산자를 추가해야 한다."
   ]
  },
  {
   "cell_type": "code",
   "execution_count": 30,
   "metadata": {},
   "outputs": [
    {
     "data": {
      "text/plain": [
       "DesignMatrix with shape (5, 2)\n",
       "  Intercept  I(x1 + x2)\n",
       "          1    17.00775\n",
       "          1    15.09106\n",
       "          1    19.52049\n",
       "          1    20.18151\n",
       "          1    14.25807\n",
       "  Terms:\n",
       "    'Intercept' (column 0)\n",
       "    'I(x1 + x2)' (column 1)"
      ]
     },
     "execution_count": 30,
     "metadata": {},
     "output_type": "execute_result"
    }
   ],
   "source": [
    "dmatrix('I(x1 + x2)', df)"
   ]
  },
  {
   "cell_type": "code",
   "execution_count": 28,
   "metadata": {},
   "outputs": [
    {
     "data": {
      "text/plain": [
       "DesignMatrix with shape (5, 3)\n",
       "  Intercept        x1       x2\n",
       "          1  10.54881  6.45894\n",
       "          1  10.71519  4.37587\n",
       "          1  10.60276  8.91773\n",
       "          1  10.54488  9.63663\n",
       "          1  10.42365  3.83442\n",
       "  Terms:\n",
       "    'Intercept' (column 0)\n",
       "    'x1' (column 1)\n",
       "    'x2' (column 2)"
      ]
     },
     "execution_count": 28,
     "metadata": {},
     "output_type": "execute_result"
    }
   ],
   "source": [
    "dmatrix('x1 + x2', df)"
   ]
  },
  {
   "cell_type": "markdown",
   "metadata": {},
   "source": [
    "### 다항선형회귀\n",
    "- I() 연산자를 활용하면 다항선형회귀(polynomial regression)도 할 수 있다."
   ]
  },
  {
   "cell_type": "code",
   "execution_count": 31,
   "metadata": {},
   "outputs": [
    {
     "data": {
      "text/plain": [
       "DesignMatrix with shape (5, 5)\n",
       "  Intercept        x1  I(x1 ** 2)  I(x1 ** 3)   I(x1 ** 4)\n",
       "          1  10.54881   111.27747  1173.84524  12382.67452\n",
       "          1  10.71519   114.81528  1230.26750  13182.54925\n",
       "          1  10.60276   112.41859  1191.94772  12637.93965\n",
       "          1  10.54488   111.19456  1172.53366  12364.23047\n",
       "          1  10.42365   108.65258  1132.55698  11805.38301\n",
       "  Terms:\n",
       "    'Intercept' (column 0)\n",
       "    'x1' (column 1)\n",
       "    'I(x1 ** 2)' (column 2)\n",
       "    'I(x1 ** 3)' (column 3)\n",
       "    'I(x1 ** 4)' (column 4)"
      ]
     },
     "execution_count": 31,
     "metadata": {},
     "output_type": "execute_result"
    }
   ],
   "source": [
    "dmatrix('x1 + I(x1 ** 2) + I(x1 ** 3) + I(x1 ** 4)', df)"
   ]
  },
  {
   "cell_type": "markdown",
   "metadata": {},
   "source": [
    "### 카테고리 변수 인코딩\n",
    "- 데이터로 문자열이 오는 경우에는 카테고리 값으로 취급한다.\n",
    "- 회귀 분석에서 카테고리값을 사용하려면 실수값으로 바꾸어야 한다. 이 때 두가지 방식을 사용 할 수 있다.\n",
    "    - 1. Full-Rank 인코딩\n",
    "    - 2. Reduced-Rank 인코딩\n",
    "- Full-Rank 인코딩은 One-Hot-Encoding 방식의 인코딩이다. 즉 특정 카테고리에 속해 있다는 것을 나타내는 실수 변수만 1, 나머지 실수 변수는 0으로 인코딩한다. 즉 'A', 'B', 'C' 세가지의 카테고리를 가지는 1차원 변수가 존재한다면 이를 x1, x2, x3의 3차원 실수 변수로 확장한다. 이렇게 0 또는 1의 값만 가지는 확장된 실수 변수를 더미 변수이라고 한다. Patsy에서 Full-Rank 인코딩을 사용하려면 formula에 '-1' 또는 ' + 0'을 붙여야 한다.\n",
    "    - x = ' A' -> x = (1, 0, 0)\n",
    "    - x = ' B' -> x = (0, 1, 0)\n",
    "    - x = ' C' -> x = (0, 0, 1)\n",
    "\n",
    "- Reduced-Rank 인코딩은 특정한 카테고리를 reference 카테고리로 지정한다. 카테고리의 갯수 만큼의 차원으로 더미 변수 확장하는 것은 마찬가지이나 reference 카테고리에 해당하는 더미 변수의 값은 항상 1이다. 즉 bias(intercept)의 역할을 한다. 나머지 카테고리에 대해서는 Full-Rank 인코딩과 마찬가지로 그 카테고리에 속한다는 것을 나타내는 실수 변수를 추가한다. 따라서 만약 'A\" 카테고리를 reference 카테고리로 지정한다면 인코딩 결과는 다음과 같다.\n",
    "    - x = ' A' -> x = (1, 0, 0)\n",
    "    - x = ' B' -> x = (1, 1, 0)\n",
    "    - x = ' C' -> x = (1, 0, 1)"
   ]
  },
  {
   "cell_type": "code",
   "execution_count": 32,
   "metadata": {},
   "outputs": [
    {
     "data": {
      "text/html": [
       "<div>\n",
       "<style scoped>\n",
       "    .dataframe tbody tr th:only-of-type {\n",
       "        vertical-align: middle;\n",
       "    }\n",
       "\n",
       "    .dataframe tbody tr th {\n",
       "        vertical-align: top;\n",
       "    }\n",
       "\n",
       "    .dataframe thead th {\n",
       "        text-align: right;\n",
       "    }\n",
       "</style>\n",
       "<table border=\"1\" class=\"dataframe\">\n",
       "  <thead>\n",
       "    <tr style=\"text-align: right;\">\n",
       "      <th></th>\n",
       "      <th>x3</th>\n",
       "    </tr>\n",
       "  </thead>\n",
       "  <tbody>\n",
       "    <tr>\n",
       "      <th>0</th>\n",
       "      <td>A</td>\n",
       "    </tr>\n",
       "    <tr>\n",
       "      <th>1</th>\n",
       "      <td>B</td>\n",
       "    </tr>\n",
       "    <tr>\n",
       "      <th>2</th>\n",
       "      <td>C</td>\n",
       "    </tr>\n",
       "    <tr>\n",
       "      <th>3</th>\n",
       "      <td>D</td>\n",
       "    </tr>\n",
       "  </tbody>\n",
       "</table>\n",
       "</div>"
      ],
      "text/plain": [
       "  x3\n",
       "0  A\n",
       "1  B\n",
       "2  C\n",
       "3  D"
      ]
     },
     "execution_count": 32,
     "metadata": {},
     "output_type": "execute_result"
    }
   ],
   "source": [
    "df2 = pd.DataFrame(['A', 'B', 'C', 'D'], columns = ['x3'])\n",
    "df2"
   ]
  },
  {
   "cell_type": "code",
   "execution_count": 33,
   "metadata": {},
   "outputs": [
    {
     "data": {
      "text/plain": [
       "DesignMatrix with shape (4, 4)\n",
       "  x3[A]  x3[B]  x3[C]  x3[D]\n",
       "      1      0      0      0\n",
       "      0      1      0      0\n",
       "      0      0      1      0\n",
       "      0      0      0      1\n",
       "  Terms:\n",
       "    'x3' (columns 0:4)"
      ]
     },
     "execution_count": 33,
     "metadata": {},
     "output_type": "execute_result"
    }
   ],
   "source": [
    "# 다음은 Full-Rank 인코딩 결과이다.\n",
    "dmatrix('x3 - 1', df2)"
   ]
  },
  {
   "cell_type": "code",
   "execution_count": 34,
   "metadata": {},
   "outputs": [
    {
     "data": {
      "text/plain": [
       "DesignMatrix with shape (4, 4)\n",
       "  Intercept  x3[T.B]  x3[T.C]  x3[T.D]\n",
       "          1        0        0        0\n",
       "          1        1        0        0\n",
       "          1        0        1        0\n",
       "          1        0        0        1\n",
       "  Terms:\n",
       "    'Intercept' (column 0)\n",
       "    'x3' (columns 1:4)"
      ]
     },
     "execution_count": 34,
     "metadata": {},
     "output_type": "execute_result"
    }
   ],
   "source": [
    "# 만약 ' - 1 ' 또는 ' + 0 ' 을 붙이지 않으면 Reduced-Rank 인코딩을 한다.\n",
    "dmatrix('x3', df2) # 'A'가 기준이 된다."
   ]
  },
  {
   "cell_type": "code",
   "execution_count": 35,
   "metadata": {},
   "outputs": [
    {
     "data": {
      "text/html": [
       "<div>\n",
       "<style scoped>\n",
       "    .dataframe tbody tr th:only-of-type {\n",
       "        vertical-align: middle;\n",
       "    }\n",
       "\n",
       "    .dataframe tbody tr th {\n",
       "        vertical-align: top;\n",
       "    }\n",
       "\n",
       "    .dataframe thead th {\n",
       "        text-align: right;\n",
       "    }\n",
       "</style>\n",
       "<table border=\"1\" class=\"dataframe\">\n",
       "  <thead>\n",
       "    <tr style=\"text-align: right;\">\n",
       "      <th></th>\n",
       "      <th>x4</th>\n",
       "    </tr>\n",
       "  </thead>\n",
       "  <tbody>\n",
       "    <tr>\n",
       "      <th>0</th>\n",
       "      <td>1</td>\n",
       "    </tr>\n",
       "    <tr>\n",
       "      <th>1</th>\n",
       "      <td>2</td>\n",
       "    </tr>\n",
       "    <tr>\n",
       "      <th>2</th>\n",
       "      <td>3</td>\n",
       "    </tr>\n",
       "    <tr>\n",
       "      <th>3</th>\n",
       "      <td>4</td>\n",
       "    </tr>\n",
       "  </tbody>\n",
       "</table>\n",
       "</div>"
      ],
      "text/plain": [
       "   x4\n",
       "0   1\n",
       "1   2\n",
       "2   3\n",
       "3   4"
      ]
     },
     "execution_count": 35,
     "metadata": {},
     "output_type": "execute_result"
    }
   ],
   "source": [
    "# 카테고리 값이지만 정수 등으로 표시된 경우에는 c() 연산자를 이용하여 \n",
    "# 카테고리 값임을 지정할 수 있다. \n",
    "df3 = pd.DataFrame([1, 2, 3, 4], columns = ['x4'])\n",
    "df3"
   ]
  },
  {
   "cell_type": "code",
   "execution_count": 36,
   "metadata": {},
   "outputs": [
    {
     "data": {
      "text/plain": [
       "DesignMatrix with shape (4, 4)\n",
       "  C(x4)[1]  C(x4)[2]  C(x4)[3]  C(x4)[4]\n",
       "         1         0         0         0\n",
       "         0         1         0         0\n",
       "         0         0         1         0\n",
       "         0         0         0         1\n",
       "  Terms:\n",
       "    'C(x4)' (columns 0:4)"
      ]
     },
     "execution_count": 36,
     "metadata": {},
     "output_type": "execute_result"
    }
   ],
   "source": [
    "dmatrix('C(x4) + 0', df3)"
   ]
  },
  {
   "cell_type": "code",
   "execution_count": 39,
   "metadata": {},
   "outputs": [
    {
     "data": {
      "text/plain": [
       "DesignMatrix with shape (4, 2)\n",
       "  C(x4, contrast):1  C(x4, contrast):2\n",
       "                  0                  0\n",
       "                  0                  1\n",
       "                  1                  0\n",
       "                  1                  1\n",
       "  Terms:\n",
       "    'C(x4, contrast)' (columns 0:2)"
      ]
     },
     "execution_count": 39,
     "metadata": {},
     "output_type": "execute_result"
    }
   ],
   "source": [
    "# 만일 특정한 값으로 인코딩을 하고 싶다면 ContrastMatrix를 사용한다.\n",
    "# 이 행렬은 각 클래스가 인코딩 될 결과 벡터를 미리 정의한 행렬이다.\n",
    "from patsy import ContrastMatrix\n",
    "contrast = ContrastMatrix([[0, 0], [0,1], [1,0], [1,1]], [\":1\", \":2\"])\n",
    "dmatrix('C(x4, contrast) + 0', df3)"
   ]
  },
  {
   "cell_type": "markdown",
   "metadata": {},
   "source": [
    "#### OLS.from_formula 메서드\n",
    "- 선형회귀분석을 위한 OLS 클래스에는 모형 정의 문자열을 사용 할 수 있는 from_formula라는 메서드가 있다. 이 메서드를 쓰면 사용자가 데이터 행렬을 직접 정의하지 않고 모형 정의 문자열만으로 선형회귀모형을 만드는 것이 가능하다. "
   ]
  },
  {
   "cell_type": "code",
   "execution_count": 40,
   "metadata": {},
   "outputs": [],
   "source": [
    "np.random.seed(0)\n",
    "x1 = np.random.rand(20) + 10\n",
    "x2 = np.random.rand(20) * 10\n",
    "y = x1 + 2 * x2 + np.random.randn(20)\n",
    "df4 = pd.DataFrame(np.array([x1, x2, y]).T, columns = ['x1', 'x2', 'y'])"
   ]
  },
  {
   "cell_type": "code",
   "execution_count": 41,
   "metadata": {},
   "outputs": [
    {
     "name": "stdout",
     "output_type": "stream",
     "text": [
      "                            OLS Regression Results                            \n",
      "==============================================================================\n",
      "Dep. Variable:                      y   R-squared:                       0.967\n",
      "Model:                            OLS   Adj. R-squared:                  0.963\n",
      "Method:                 Least Squares   F-statistic:                     246.8\n",
      "Date:                Sat, 30 Jun 2018   Prob (F-statistic):           2.75e-13\n",
      "Time:                        13:52:49   Log-Likelihood:                -29.000\n",
      "No. Observations:                  20   AIC:                             64.00\n",
      "Df Residuals:                      17   BIC:                             66.99\n",
      "Df Model:                           2                                         \n",
      "Covariance Type:            nonrobust                                         \n",
      "==============================================================================\n",
      "                 coef    std err          t      P>|t|      [0.025      0.975]\n",
      "------------------------------------------------------------------------------\n",
      "const          1.4226     10.140      0.140      0.890     -19.971      22.816\n",
      "x1             0.8114      0.977      0.831      0.418      -1.249       2.872\n",
      "x2             2.0367      0.100     20.305      0.000       1.825       2.248\n",
      "==============================================================================\n",
      "Omnibus:                        1.081   Durbin-Watson:                   1.896\n",
      "Prob(Omnibus):                  0.583   Jarque-Bera (JB):                0.949\n",
      "Skew:                           0.470   Prob(JB):                        0.622\n",
      "Kurtosis:                       2.494   Cond. No.                         494.\n",
      "==============================================================================\n",
      "\n",
      "Warnings:\n",
      "[1] Standard Errors assume that the covariance matrix of the errors is correctly specified.\n"
     ]
    }
   ],
   "source": [
    "# 직접 데이터 행렬을 만드는 경우\n",
    "dfy = df4.iloc[:, -1]\n",
    "dfX = sm.add_constant(df4.iloc[:, :-1])\n",
    "model1 = sm.OLS(dfy, dfX)\n",
    "print(model1.fit().summary())"
   ]
  },
  {
   "cell_type": "code",
   "execution_count": 42,
   "metadata": {},
   "outputs": [
    {
     "name": "stdout",
     "output_type": "stream",
     "text": [
      "                            OLS Regression Results                            \n",
      "==============================================================================\n",
      "Dep. Variable:                      y   R-squared:                       0.967\n",
      "Model:                            OLS   Adj. R-squared:                  0.963\n",
      "Method:                 Least Squares   F-statistic:                     246.8\n",
      "Date:                Sat, 30 Jun 2018   Prob (F-statistic):           2.75e-13\n",
      "Time:                        13:53:27   Log-Likelihood:                -29.000\n",
      "No. Observations:                  20   AIC:                             64.00\n",
      "Df Residuals:                      17   BIC:                             66.99\n",
      "Df Model:                           2                                         \n",
      "Covariance Type:            nonrobust                                         \n",
      "==============================================================================\n",
      "                 coef    std err          t      P>|t|      [0.025      0.975]\n",
      "------------------------------------------------------------------------------\n",
      "Intercept      1.4226     10.140      0.140      0.890     -19.971      22.816\n",
      "x1             0.8114      0.977      0.831      0.418      -1.249       2.872\n",
      "x2             2.0367      0.100     20.305      0.000       1.825       2.248\n",
      "==============================================================================\n",
      "Omnibus:                        1.081   Durbin-Watson:                   1.896\n",
      "Prob(Omnibus):                  0.583   Jarque-Bera (JB):                0.949\n",
      "Skew:                           0.470   Prob(JB):                        0.622\n",
      "Kurtosis:                       2.494   Cond. No.                         494.\n",
      "==============================================================================\n",
      "\n",
      "Warnings:\n",
      "[1] Standard Errors assume that the covariance matrix of the errors is correctly specified.\n"
     ]
    }
   ],
   "source": [
    "# 모형 정의 문자열을 사용하는 경우\n",
    "model2 = sm.OLS.from_formula('y ~ x1 + x2', data= df4)\n",
    "print(model2.fit().summary())"
   ]
  },
  {
   "cell_type": "code",
   "execution_count": null,
   "metadata": {},
   "outputs": [],
   "source": []
  }
 ],
 "metadata": {
  "kernelspec": {
   "display_name": "Python 3",
   "language": "python",
   "name": "python3"
  },
  "language_info": {
   "codemirror_mode": {
    "name": "ipython",
    "version": 3
   },
   "file_extension": ".py",
   "mimetype": "text/x-python",
   "name": "python",
   "nbconvert_exporter": "python",
   "pygments_lexer": "ipython3",
   "version": "3.6.4"
  }
 },
 "nbformat": 4,
 "nbformat_minor": 2
}
