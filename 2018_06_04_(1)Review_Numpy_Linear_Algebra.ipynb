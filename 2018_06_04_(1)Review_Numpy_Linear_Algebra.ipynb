{
 "cells": [
  {
   "cell_type": "code",
   "execution_count": 26,
   "metadata": {},
   "outputs": [],
   "source": [
    "import pandas as pd\n",
    "import numpy as np\n",
    "import matplotlib.pyplot as plt\n",
    "%matplotlib inline\n",
    "import sympy\n",
    "\n",
    "x, y = sympy.symbols('x y')"
   ]
  },
  {
   "cell_type": "markdown",
   "metadata": {},
   "source": [
    "- $\\alpha$ (그리스 문자 알파), a (영어)\n",
    "- $\\beta$ (그리스 문자 베타), b (영어)\n",
    "- $\\gamma$ (그리스 문자 감마), r (영어)\n",
    "- $\\epsilon$ (그리스 문자 엡실론), e (영어)\n",
    "- $\\kappa$ (그리스 문자 카파), k (영어)\n",
    "- $\\nu$ (그리스 문자 뉴), v (영어)\n",
    "- $\\rho$ (그리스 문자 로), p (영어)\n",
    "- $\\sigma$ (그리스 문자 시그마), 6 (숫자)\n",
    "- $\\omega$ (그리스 문자 오메가), w (영어)"
   ]
  },
  {
   "cell_type": "markdown",
   "metadata": {},
   "source": [
    "## Numpy를 활용한 선형대수 입문 (김도형 박사님 블로그) - datascienceshool.net에 가면 엄청 도움됨!\n",
    "- 선형대수 (linear Algebra)는 데이터 분석에 필요한 각종 계산을 돕기 위한 학문이다. 데이터 분석을 하려면 수 많은 숫자로 이루어진 데이터를 다루어야 한다. 하나의 데이터가 수십 개에서 수만 개의 숫자로 이루어져 있을 수도 있고, 또 이러한 데이터 수만 개가 하나의 집합을 이루고 있을 수도 있다.\n",
    "- 선형대수를 사용하면 대량의 데이터를 포함하는 복잡한 계산 과정을 몇 글자 되지 않는 간단한 수식으로 서술할 수 있다. 따라서, 데이터를 다루는 과정을 정확하고 간단하게 서술할 수 있다. 이를 위해 우선 선형대수에서 사용되는 여러 가지 기호와 개념을 익혀보자."
   ]
  },
  {
   "cell_type": "markdown",
   "metadata": {},
   "source": [
    "## Data Type\n",
    "- 선형대수에서 다루는 데이터는 개수나 형태에 따라 크게 **스칼라(scalar), 벡터(vector), 행렬(matrix)**의 세 가지 유형으로 나누어진다. 간단하게 말하자면 스칼라는 숫자 하나로 이루어진 데이터이고, 벡터는 여러 개의 숫자로 이루어진 데이터 레코드(data record)이며, 행렬은 이러한 벡터, 즉 데이터 레코드가 여러 개 있는 데이터 집합이라고 볼 수 있다."
   ]
  },
  {
   "cell_type": "markdown",
   "metadata": {},
   "source": [
    "## 스칼라 (Scalar)\n",
    "- 스칼라는 하나의 숫자만으로 이루어진 데이터를 말한다. 예를 들어 어떤 붓꽃 한 송이의 꽃잎 길이를 측정하면 숫자가 하나 나올 것이다. 이 데이터는 스칼라이다. 스칼라는 보통 x와 같이 알파벳 소문자로 표기하며 실수(real number)인 숫자 중의 하나이므로 실수 집합 R의 원소라는 의미에서 다음처럼 표기한다.\n",
    "- x $\\in$ R"
   ]
  },
  {
   "cell_type": "markdown",
   "metadata": {},
   "source": [
    "## 벡터 (Vector)\n",
    "- 벡터는 여러 개의 숫자가 특정한 순서대로 모여 있는 것을 말한다. 사실 대부분의 데이터 레코드는 여러 개의 숫자로 이루어진 경우가 많다. 예를 들어 붓꽃의 종을 알아내기 위해 크기를 측정할 때, 꽃잎의 길이 x1뿐 아니라 꽃잎의 폭 x2, 꽃 받침의 길이 x3, 꽃받침의 폭 x4라는 4개의 숫자를 측정할 수도 있다. 이렇게 측정된 4개의 숫자는 한 송이의 붓 꽃에서 나온 데이터이므로 따로따로 다루기보다는 하나의 쌍으로 묶어 놓는 것이 좋다. 이때 숫자의 순서가 바뀌면 어떤 숫자가 꽃잎의 길이이고 어떤 숫자가 꽃받침의 폭인지 알 수 없으므로 숫자의 순서를 유지하는 것이 중요하다. 이런 데이터 묶음을 선형대수에서는 벡터라고 부른다.\n",
    "- 붓꽃의 예에서는 4개의 데이터(x1, x2, x3, x4)가 하나로 묶여 있는데, 이를 선형 대수 기호로는 다음 처럼 하나의 문자 x로 표기한다.\n",
    "- x = $[[x1],[\n",
    "      x2],\n",
    "      [x3],\n",
    "      [x4]]$\n",
    "- 이 때 벡터는 복수의 가로줄, 즉 행(row)을 가지고 하나의 세로줄, 즉 열(column)을 가지는 형태로 위에서 아래로 내려써서 표기해야 한다.\n",
    "- 하나의 벡터를 이루는 데이터의 개수를 차원(dimension)이라고 한다. 위에서 예로 든 x는 4개의 실수로 이루어져 있으므로 4차원 실수 벡터라고 한다."
   ]
  },
  {
   "cell_type": "markdown",
   "metadata": {},
   "source": [
    "- 벡터의 원소가 되는 스칼라 값음 1, 2 등의 자연수 아래 첨자(sub-script)를 붙여서 원소의 위치를 표시한다. 하지만, 자연수 아래 첨자가 되어 있다고 무조건 스칼라는 아니다. 마찬가지로 벡터가 여러 개 있으면 서로 다른 벡터를 구별하기 위해 벡터 이름에 아래 첨자를 붙일 수도 있다. 따라서 아래 첨자를 가진 알파벳 소문자 기호는 스칼라일 수도 있고 벡터일 수도 있다. 두 경우는 문맥에 따라 구별해야 한다. 때에 따라서는 스칼라가 아닌 벡터라는 점을 강조하기 위해 볼드체 기호 **x**를 사용하기도 한다."
   ]
  },
  {
   "cell_type": "markdown",
   "metadata": {},
   "source": [
    "- 예를 들어 어떤 붓꽃 표본 한 송이를 꺽어 측정하였더니, 꽃잎의 길이가 5.1cm, 꽃잎의 폭이 3.5cm, 꽃받침의 길이가 1.5cm, 꽃받침의 폭이 0.2cm 였다면 이 데이터 쌍을 x1이라고 이름 붙이고 다음처럼 나타낼 수도 있다.\n",
    "- x1 = [5.1\\n3.5\\n1.4\\n0.2]\n",
    "- x2 = [4.9\\n3.0\\n1.4\\n0.2]\n",
    "- 만약 이 데이터를 이용하여 붓꽃의 종을 결정하는 예측 문제를 풀고 있다면 이러한 데이터 벡터를 특징벡터(feature vector)이라고 한다. Numpy를 사용하여 벡터를 표현할 떄는 벡터를 열의 개수가 하나인 2차원 배열 객체로 표현하는 것이 올바르다. 예를들어 위의 벡터 x1을 numpy로 표기하면 다음과 같다."
   ]
  },
  {
   "cell_type": "code",
   "execution_count": 32,
   "metadata": {},
   "outputs": [
    {
     "data": {
      "text/plain": [
       "array([[ 5.1],\n",
       "       [ 3.5],\n",
       "       [ 1.4],\n",
       "       [ 0.2]])"
      ]
     },
     "execution_count": 32,
     "metadata": {},
     "output_type": "execute_result"
    }
   ],
   "source": [
    "x1 = np.array([[5.1], [3.5], [1.4], [0.2]])\n",
    "x1"
   ]
  },
  {
   "cell_type": "markdown",
   "metadata": {},
   "source": [
    "- 하지만 Numpy는 1차원 배열 객체도 대부분 벡터로 인정한다. 이 때는 벡터가 마치 하나의 행처럼 표시되어도 실제로는 열이라는 점에 주의한다."
   ]
  },
  {
   "cell_type": "code",
   "execution_count": 33,
   "metadata": {},
   "outputs": [
    {
     "data": {
      "text/plain": [
       "array([ 5.1,  3.5,  1.4,  0.2])"
      ]
     },
     "execution_count": 33,
     "metadata": {},
     "output_type": "execute_result"
    }
   ],
   "source": [
    "x1 = np.array([5.1, 3.5, 1.4, 0.2])\n",
    "x1"
   ]
  },
  {
   "cell_type": "markdown",
   "metadata": {},
   "source": [
    "- 그러나 벡터 데이터를 처리하는 프로그램에 따라서 두 가지 표현법 중 열 표기를 정확하게 요구하는 경우도 있으므로 주의해야 한다. 예를 들어 Scikit-learn 패키지에서 벡터를 요구하는 경우에는 반드시 열의 개수가 1개인 2차원 배열 객체를 넣어야 한다."
   ]
  },
  {
   "cell_type": "markdown",
   "metadata": {},
   "source": [
    "#### 연습 문제 1\n",
    "- Numpy를 사용해서 다음에 제시한 붓꽃 데이터 x2에 대한 벡터 변수 x2를 만든다.\n",
    "- x2 = [4.9\\n3.0\\n1.4\\n0.2]"
   ]
  },
  {
   "cell_type": "code",
   "execution_count": 34,
   "metadata": {},
   "outputs": [
    {
     "data": {
      "text/plain": [
       "array([[ 4.9],\n",
       "       [ 3. ],\n",
       "       [ 1.4],\n",
       "       [ 0.2]])"
      ]
     },
     "execution_count": 34,
     "metadata": {},
     "output_type": "execute_result"
    }
   ],
   "source": [
    "x2 = np.array([[4.9], [3.0], [1.4], [0.2]])\n",
    "x2"
   ]
  },
  {
   "cell_type": "markdown",
   "metadata": {},
   "source": [
    "- 예측 문제의 입력 데이터는 대부분 벡터로 표시한다. 예를 들어 숫자 이미지를 입력받아 어떤 숫자인지 분류하는 문제에서 이미지는 원래 2차원 데이터이지만 1차원 벡터로 변환할 수 있다. 다음은 8 x 8 차원의 숫자 0과 1 이미지 4개를 64차원의 벡터로 펼친 것이다. 같은 숫자에 대한 벡터가 서로 닮았다는 점에 주의하라."
   ]
  },
  {
   "cell_type": "code",
   "execution_count": 39,
   "metadata": {},
   "outputs": [
    {
     "data": {
      "image/png": "[encoded data removed]",
      "text/plain": [
       "<matplotlib.figure.Figure at 0xd59fb70>"
      ]
     },
     "metadata": {},
     "output_type": "display_data"
    }
   ],
   "source": [
    "from sklearn.datasets import load_digits\n",
    "\n",
    "digits = load_digits()\n",
    "d0 = digits.images[0]\n",
    "d1 = digits.images[10]\n",
    "d2 = digits.images[1]\n",
    "d3 = digits.images[11]\n",
    "\n",
    "f, ax = plt.subplots(1, 4)\n",
    "ax[0].imshow(d0, interpolation = 'nearest', cmap=plt.cm.Blues)\n",
    "ax[0].grid(False)\n",
    "ax[1].imshow(d1, interpolation = 'nearest', cmap=plt.cm.Blues_r)\n",
    "ax[1].grid(False)\n",
    "ax[2].imshow(d2, interpolation = 'nearest', cmap=plt.cm.Blues)\n",
    "ax[2].grid(False)\n",
    "ax[3].imshow(d3, interpolation = 'nearest', cmap=plt.cm.Blues_r)\n",
    "ax[3].grid(False)\n",
    "plt.show()"
   ]
  },
  {
   "cell_type": "code",
   "execution_count": 43,
   "metadata": {},
   "outputs": [
    {
     "data": {
      "image/png": "[encoded data removed]",
      "text/plain": [
       "<matplotlib.figure.Figure at 0xd3d72d0>"
      ]
     },
     "metadata": {},
     "output_type": "display_data"
    }
   ],
   "source": [
    "v0 = d0.reshape(64, 1)\n",
    "v1 = d1.reshape(64, 1)\n",
    "v2 = d2.reshape(64, 1)\n",
    "v3 = d3.reshape(64, 1)\n",
    "\n",
    "f, ax = plt.subplots(4, 1, figsize=(12,2))\n",
    "ax[0].imshow(v0.T, interpolation='nearest', cmap=plt.cm.Blues)\n",
    "ax[0].grid(False); ax[0].set_xticks([]); ax[0].set_yticks([])\n",
    "ax[1].imshow(v1.T, interpolation='nearest', cmap=plt.cm.Blues)\n",
    "ax[1].grid(False); ax[0].set_xticks([]); ax[0].set_yticks([])\n",
    "ax[2].imshow(v2.T, interpolation='nearest', cmap=plt.cm.Blues)\n",
    "ax[2].grid(False); ax[0].set_xticks([]); ax[0].set_yticks([])\n",
    "ax[3].imshow(v3.T, interpolation='nearest', cmap=plt.cm.Blues)\n",
    "ax[3].grid(False); ax[0].set_xticks([]); ax[0].set_yticks([])\n",
    "plt.tight_layout()\n",
    "plt.show()"
   ]
  },
  {
   "cell_type": "markdown",
   "metadata": {},
   "source": [
    "## 행렬 (Matrix)\n",
    "\n",
    "- 행렬은 복수의 차원을 가지는 데이터 레코드가 다시 여러 개 있는 경우의 데이터를 합쳐서 표기한 것이다. 예를 들어 앞서 말한 붓꽃 예에서 6개의 붓꽃에 대해 크기를 측정하였다면 4차원 붓꽃 데이터가 6개가 있다. 즉, 4 X 6 = 24개의 실수 숫자가 있는 것이다.\n",
    "\n",
    "- 행렬의 우너소 하나하나는x2,3처럼 두 개의 숫자 쌍을 아래첨자(sub-script)로 붙여서 표기한다. 첫 번째 숫자가 행을 뜻하고 두 번째 숫자가 열을 뜻한다. 예를 들어 x2,3는 두 번째 행(위에서 아래로 두번째), 세번째 열(왼쪽에서 오른쪽으로 세번째)의 숫자를 뜻한다. 행/열의 개수가 10보다 적을떄는 쉼표 없이 x23라고 표기할 때도 있다.\n",
    "- 벡터는 열의 수가 1인 행렬이라고 볼 수 있으므로 벡터를 다른 말로 **열 벡터(column vector)**라고도 한다.\n",
    "- 데이터를 행렬로 묶어서 표시할 때는 붓꽃 하나에 대한 데이터 레코드, 즉 하나의 벡터가 열이 아닌 행(row)으로 표시한다. 붓꽃의 예에서는 하의 데이터 레코드가 4차원 데이터 였다는 점을 기억하다.\n",
    "\n",
    "- **하나의 데이터 레코드를 단독으로 벡터로 나타낼 때는 하나의 열(column)** 나타내고 **복수의 데이터 레코드 집합을 행렬로 나타낼 때는 하나의 데이터 레코드가 하나의 행(row)**으로 표기하는 것은 얼핏 보기에는 일관서잉 없어 보이지만, 추후 다른 연산을 할 때 이런 모양이 필요하기 때문이다. 데이터 분석에서 쓰는 일반적인 관례이므로 외워두어야 한다.\n",
    "- 만약 이 데이터를 이용하여 붓꽃의 종을 결정하는 예측 문제를 풀고 있다면 이 행을 특징 행렬(feature matrix)이라고 하기도 한다. \n",
    "- 앞에서 예로 들었던 두 송이의 붓꽃 데이터를 하나의 행렬로 합친 Numpy는 아래와같다."
   ]
  },
  {
   "cell_type": "code",
   "execution_count": 44,
   "metadata": {},
   "outputs": [
    {
     "data": {
      "text/plain": [
       "array([[11, 12, 13],\n",
       "       [21, 22, 23]])"
      ]
     },
     "execution_count": 44,
     "metadata": {},
     "output_type": "execute_result"
    }
   ],
   "source": [
    "A = np.array([[11,12,13],[21,22,23]])\n",
    "A"
   ]
  },
  {
   "cell_type": "markdown",
   "metadata": {},
   "source": [
    "#### 연습 문제 2\n",
    "- Numpy를 사용해서 다음에 제시한 붓 꽃 데이터 X에 대한 행렬 변수 x를 만든다."
   ]
  },
  {
   "cell_type": "code",
   "execution_count": 45,
   "metadata": {},
   "outputs": [
    {
     "data": {
      "text/plain": [
       "array([[ 5.1,  3.5,  1.4,  0.2],\n",
       "       [ 4.9,  3. ,  1.4,  0.2]])"
      ]
     },
     "execution_count": 45,
     "metadata": {},
     "output_type": "execute_result"
    }
   ],
   "source": [
    "x = np.array([[5.1, 3.5, 1.4, 0.2], [4.9, 3.0, 1.4, 0.2]])\n",
    "x"
   ]
  },
  {
   "cell_type": "markdown",
   "metadata": {},
   "source": [
    "## 전치 연산 (Transpose)\n",
    "- 이번에는 이러한 스칼러, 벡터, 행렬 데이터를 변형시키는 방법 즉, 연산(operation)에 대해서 알아보자. **전치(Transpose)** 연산은 행렬에서 가장 기본이 되는 연산으로 행렬의 **행과 열을 바꾸는 연산**을 말한다. 전치 연산은 벡터나 행렬에 T라는 위첨자(super-script)를 붙여서 표기한다. 예를 들어 앞에서 보인 6 x 4 차원의 행렬을 전치 연산하면 4 x 6 차원의 행렬이 된다.\n",
    "- 전치 연산으로 만든 행렬을 원래 행렬에 대한 전치행렬이라고 한다. (열)벡터 x에 대해 전치 연산을 적용하여 만든 x transpose는 행의 수가 1인 행렬이므로 행 벡터(row vecotr)이라고 한다."
   ]
  },
  {
   "cell_type": "markdown",
   "metadata": {},
   "source": [
    "- Numpy에서는 ndarray 객체의 T라는 속성을 이용하여 전치 행렬을 구한다. 이 때 T 메서드(method)가 아닌 속성(attribute)이므로 소괄호 ()를 붙여서 호출하면 안된다."
   ]
  },
  {
   "cell_type": "code",
   "execution_count": 46,
   "metadata": {},
   "outputs": [
    {
     "data": {
      "text/plain": [
       "array([[11, 21],\n",
       "       [12, 22],\n",
       "       [13, 23]])"
      ]
     },
     "execution_count": 46,
     "metadata": {},
     "output_type": "execute_result"
    }
   ],
   "source": [
    "A.T"
   ]
  },
  {
   "cell_type": "markdown",
   "metadata": {},
   "source": [
    "- 다만 1차원 ndarray는 전치 연산이 정의되지 않는다."
   ]
  },
  {
   "cell_type": "code",
   "execution_count": 47,
   "metadata": {},
   "outputs": [
    {
     "data": {
      "text/plain": [
       "array([ 5.1,  3.5,  1.4,  0.2])"
      ]
     },
     "execution_count": 47,
     "metadata": {},
     "output_type": "execute_result"
    }
   ],
   "source": [
    "x1"
   ]
  },
  {
   "cell_type": "code",
   "execution_count": 48,
   "metadata": {},
   "outputs": [
    {
     "data": {
      "text/plain": [
       "array([ 5.1,  3.5,  1.4,  0.2])"
      ]
     },
     "execution_count": 48,
     "metadata": {},
     "output_type": "execute_result"
    }
   ],
   "source": [
    "x1.T"
   ]
  },
  {
   "cell_type": "markdown",
   "metadata": {},
   "source": [
    "#### 연습문제 3\n",
    "- 1. Numpy를 사용해서 다음에 제시한 붓꽃 데이터 X의 전치행렬 X Transpose를 구한다.\n",
    "- 2. 전치행렬을 다시 전치한 행렬 (X transpose) of transpose를 구한다. 이 행렬과 원래 행렬X를 비교한다."
   ]
  },
  {
   "cell_type": "code",
   "execution_count": 49,
   "metadata": {},
   "outputs": [
    {
     "data": {
      "text/plain": [
       "array([[ 5.1,  4.9],\n",
       "       [ 3.5,  3. ],\n",
       "       [ 1.4,  1.4],\n",
       "       [ 0.2,  0.2]])"
      ]
     },
     "execution_count": 49,
     "metadata": {},
     "output_type": "execute_result"
    }
   ],
   "source": [
    "X = np.array([[5.1, 3.5, 1.4, 0.2], [4.9, 3.0, 1.4, 0.2]])\n",
    "X.T"
   ]
  },
  {
   "cell_type": "code",
   "execution_count": 50,
   "metadata": {},
   "outputs": [
    {
     "data": {
      "text/plain": [
       "array([[ 5.1,  3.5,  1.4,  0.2],\n",
       "       [ 4.9,  3. ,  1.4,  0.2]])"
      ]
     },
     "execution_count": 50,
     "metadata": {},
     "output_type": "execute_result"
    }
   ],
   "source": [
    "X.T.T"
   ]
  },
  {
   "cell_type": "markdown",
   "metadata": {},
   "source": [
    "## 특수한 벡터와 행렬\n",
    "- 몇가지 특수한 벡터와 행렬은 별도의 기호나 이름이 붙는다.\n"
   ]
  },
  {
   "cell_type": "markdown",
   "metadata": {},
   "source": [
    "### 영 벡터\n",
    "- 모든 원소가 0인 N차원 벡터이다."
   ]
  },
  {
   "cell_type": "markdown",
   "metadata": {},
   "source": [
    "### 일 벡터\n",
    "- 모든 원소가 1인 N차원 벡터이다."
   ]
  },
  {
   "cell_type": "markdown",
   "metadata": {},
   "source": [
    "### 정방 행렬\n",
    "- 행의 개수와 열의 개수가 같은 행렬을 정방 행렬(square Matrix)이라고 한다."
   ]
  },
  {
   "cell_type": "markdown",
   "metadata": {},
   "source": [
    "### 대각 행렬\n",
    "- 행렬에서 행과 열이 같은 위치를 주 대각 또는 간단히 대각(diagonal)이라고 한다. 대각 위치에 있지 않는 것들은 비대각이라고 한다. 모든 비대각 요소가 0인 행렬을 대각 행렬이라고 한다.\n",
    "- 대각 행렬이 되려면 대각 성분이 0이기만 하면 된다. 반드시 정방행렬일 필요는 없다.\n",
    "- Numpy로 대각 정방 행렬을 생성하려면 diag 명령을 사용한다."
   ]
  },
  {
   "cell_type": "code",
   "execution_count": 51,
   "metadata": {},
   "outputs": [
    {
     "data": {
      "text/plain": [
       "array([[1, 0, 0],\n",
       "       [0, 2, 0],\n",
       "       [0, 0, 3]])"
      ]
     },
     "execution_count": 51,
     "metadata": {},
     "output_type": "execute_result"
    }
   ],
   "source": [
    "np.diag([1,2,3])"
   ]
  },
  {
   "cell_type": "markdown",
   "metadata": {},
   "source": [
    "### 단위행렬 (Identity Matrix)\n",
    "- 대각 행렬 중에서도 모든 대각 성분의 값이 1인 대각행렬을 단위 행렬이라고 한다. 단위 행렬은 보통 알파벳 대문자 I로 표기한다.\n",
    "- Numpy로 단위행렬을 생성하려면, identity or eye 명령을 사용한다."
   ]
  },
  {
   "cell_type": "code",
   "execution_count": 52,
   "metadata": {},
   "outputs": [
    {
     "data": {
      "text/plain": [
       "array([[ 1.,  0.,  0.,  0.,  0.],\n",
       "       [ 0.,  1.,  0.,  0.,  0.],\n",
       "       [ 0.,  0.,  1.,  0.,  0.],\n",
       "       [ 0.,  0.,  0.,  1.,  0.],\n",
       "       [ 0.,  0.,  0.,  0.,  1.]])"
      ]
     },
     "execution_count": 52,
     "metadata": {},
     "output_type": "execute_result"
    }
   ],
   "source": [
    "np.identity(5)"
   ]
  },
  {
   "cell_type": "code",
   "execution_count": 53,
   "metadata": {},
   "outputs": [
    {
     "data": {
      "text/plain": [
       "array([[ 1.,  0.,  0.,  0.,  0.,  0.,  0.,  0.,  0.,  0.],\n",
       "       [ 0.,  1.,  0.,  0.,  0.,  0.,  0.,  0.,  0.,  0.],\n",
       "       [ 0.,  0.,  1.,  0.,  0.,  0.,  0.,  0.,  0.,  0.],\n",
       "       [ 0.,  0.,  0.,  1.,  0.,  0.,  0.,  0.,  0.,  0.],\n",
       "       [ 0.,  0.,  0.,  0.,  1.,  0.,  0.,  0.,  0.,  0.],\n",
       "       [ 0.,  0.,  0.,  0.,  0.,  1.,  0.,  0.,  0.,  0.],\n",
       "       [ 0.,  0.,  0.,  0.,  0.,  0.,  1.,  0.,  0.,  0.],\n",
       "       [ 0.,  0.,  0.,  0.,  0.,  0.,  0.,  1.,  0.,  0.],\n",
       "       [ 0.,  0.,  0.,  0.,  0.,  0.,  0.,  0.,  1.,  0.],\n",
       "       [ 0.,  0.,  0.,  0.,  0.,  0.,  0.,  0.,  0.,  1.]])"
      ]
     },
     "execution_count": 53,
     "metadata": {},
     "output_type": "execute_result"
    }
   ],
   "source": [
    "np.eye(10)"
   ]
  },
  {
   "cell_type": "markdown",
   "metadata": {},
   "source": [
    "### 대칭행렬\n",
    "- 만약 전치 연산을 통해서 얻은 전치 행렬과 원래의 행렬이 같으면 대칭 행렬(symmetric matrix)이라고 한다. 정방 행렬만 대칭 행렬이 될 수 있다. "
   ]
  },
  {
   "cell_type": "markdown",
   "metadata": {},
   "source": [
    "#### 연습문제 4\n",
    "1. 영 벡터, 일벡터, 정방행렬, 대각행렬, 단위행렬, 대칭 행렬의 예를 하나씩 만들어 본다.\n",
    "2. 위의 벡터와 행렬을 Numpy로 나타내 본다."
   ]
  },
  {
   "cell_type": "code",
   "execution_count": 55,
   "metadata": {},
   "outputs": [
    {
     "data": {
      "text/plain": [
       "array([[0],\n",
       "       [0],\n",
       "       [0],\n",
       "       [0]])"
      ]
     },
     "execution_count": 55,
     "metadata": {},
     "output_type": "execute_result"
    }
   ],
   "source": [
    "# 영벡터\n",
    "zero = np.array([[0], [0], [0], [0]])\n",
    "zero"
   ]
  },
  {
   "cell_type": "code",
   "execution_count": 56,
   "metadata": {},
   "outputs": [
    {
     "data": {
      "text/plain": [
       "array([[1],\n",
       "       [1],\n",
       "       [1]])"
      ]
     },
     "execution_count": 56,
     "metadata": {},
     "output_type": "execute_result"
    }
   ],
   "source": [
    "# 일벡터\n",
    "one = np.array([[1], [1], [1]])\n",
    "one"
   ]
  },
  {
   "cell_type": "code",
   "execution_count": 58,
   "metadata": {},
   "outputs": [
    {
     "data": {
      "text/plain": [
       "array([[1, 4, 7],\n",
       "       [2, 5, 8],\n",
       "       [3, 6, 9]])"
      ]
     },
     "execution_count": 58,
     "metadata": {},
     "output_type": "execute_result"
    }
   ],
   "source": [
    "# 정방행렬\n",
    "X = np.array([[1,2,3],[4,5,6], [7,8,9]])\n",
    "X.T"
   ]
  },
  {
   "cell_type": "code",
   "execution_count": 63,
   "metadata": {},
   "outputs": [
    {
     "data": {
      "text/plain": [
       "array([[ 1,  0,  0],\n",
       "       [ 0,  3,  0],\n",
       "       [ 0,  0, 10]])"
      ]
     },
     "execution_count": 63,
     "metadata": {},
     "output_type": "execute_result"
    }
   ],
   "source": [
    "# 대각행렬\n",
    "Y = np.array([[1,0,0], [0,3,0], [0,0,10]])\n",
    "Y"
   ]
  },
  {
   "cell_type": "code",
   "execution_count": 69,
   "metadata": {},
   "outputs": [
    {
     "name": "stdout",
     "output_type": "stream",
     "text": [
      "[[1 0 0]\n",
      " [0 1 0]\n",
      " [0 0 1]] [[ 1.  0.  0.]\n",
      " [ 0.  1.  0.]\n",
      " [ 0.  0.  1.]]\n"
     ]
    }
   ],
   "source": [
    "# 단위행렬\n",
    "np.array([[1,0,0], [0,1,0], [0,0,1]]), np.eye(3)"
   ]
  },
  {
   "cell_type": "code",
   "execution_count": 66,
   "metadata": {},
   "outputs": [
    {
     "data": {
      "text/plain": [
       "array([[1, 2, 3],\n",
       "       [2, 1, 4],\n",
       "       [3, 4, 1]])"
      ]
     },
     "execution_count": 66,
     "metadata": {},
     "output_type": "execute_result"
    }
   ],
   "source": [
    "# 대칭 행렬\n",
    "np.array([[1,2,3], [2,1,4], [3,4,1]])"
   ]
  },
  {
   "cell_type": "code",
   "execution_count": null,
   "metadata": {
    "collapsed": true
   },
   "outputs": [],
   "source": []
  }
 ],
 "metadata": {
  "kernelspec": {
   "display_name": "Python 3",
   "language": "python",
   "name": "python3"
  },
  "language_info": {
   "codemirror_mode": {
    "name": "ipython",
    "version": 3
   },
   "file_extension": ".py",
   "mimetype": "text/x-python",
   "name": "python",
   "nbconvert_exporter": "python",
   "pygments_lexer": "ipython3",
   "version": "3.6.3"
  }
 },
 "nbformat": 4,
 "nbformat_minor": 2
}
