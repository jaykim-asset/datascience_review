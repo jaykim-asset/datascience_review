{
 "cells": [
  {
   "cell_type": "code",
   "execution_count": 5,
   "metadata": {},
   "outputs": [],
   "source": [
    "# $ pip install requests\n",
    "import requests"
   ]
  },
  {
   "cell_type": "code",
   "execution_count": 6,
   "metadata": {},
   "outputs": [],
   "source": [
    "# $ pip install bs4\n",
    "from bs4 import BeautifulSoup"
   ]
  },
  {
   "cell_type": "code",
   "execution_count": 7,
   "metadata": {},
   "outputs": [],
   "source": [
    "# pip install python-forecastio\n",
    "import forecastio"
   ]
  },
  {
   "cell_type": "markdown",
   "metadata": {},
   "source": [
    "- api json을 사용: 네이버 주식 데이터 크롤링 할 것임.\n",
    "- api json을 사용, forecastio: dark sky api로 날씨 데이터를 수집하겠습니다.\n",
    "- bs4 : 네이버 실시간 키워드, 다음 실시간 키워드 크롤링\n",
    "- web file url로 파일을 다운로드 받는 방법"
   ]
  },
  {
   "cell_type": "markdown",
   "metadata": {},
   "source": [
    "## 1. 네이버 주식 데이터 크롤링"
   ]
  },
  {
   "cell_type": "code",
   "execution_count": 8,
   "metadata": {},
   "outputs": [],
   "source": [
    "### 보통 모바일 페이지가 더 단순함\n",
    "## http://m.stock.naver.com/sise/siseList.nhn?menu=market_sum&sosok=0\n",
    "## Network -> XHR\n",
    "## Header:\n",
    "## Remote Address: 실제 찾아간 IP\n",
    "## Request header: 우리가 반대편에 Reqeust할 때, 보내는 정보 \n",
    "## 여기서 중요한 것은 Cookie:인데, \n",
    "## Referer: 이전 페이지 \n",
    "## Request Header를 수정 할 수 있다 -> 중요할 듯함. \n",
    "## Response는 문자열로 받음\n",
    "## http://m.stock.naver.com/api/json/sise/siseListJson.nhn?menu=market_sum&sosok=0&pageSize=20&page=1\n",
    "## http://m.stock.naver.com/api/json/sise/siseListJson.nhn?menu=market_sum&sosok=0&pageSize=20&page=1\n",
    "## http://m.stock.naver.com/api/json/sise/siseListJson.nhn?menu=market_sum&sosok=0&pageSize=1458&page=1 한페이지에 1458개 종목 다보기\n",
    "## 1은 코스피, 2는 코스닥 "
   ]
  },
  {
   "cell_type": "code",
   "execution_count": 13,
   "metadata": {},
   "outputs": [
    {
     "data": {
      "text/plain": [
       "'http://m.stock.naver.com/api/json/sise/siseListJson.nhn?menu=market_sum&sosok=0&pageSize=10&page=1'"
      ]
     },
     "execution_count": 13,
     "metadata": {},
     "output_type": "execute_result"
    }
   ],
   "source": [
    "def make_url(pageSize=10, page=1):\n",
    "    return 'http://m.stock.naver.com/api/json/sise/siseListJson.nhn?menu=market_sum&sosok=0&pageSize=' + str(pageSize) + '&page=' + str(page) ## 1458&page=1'\n",
    "\n",
    "make_url()"
   ]
  },
  {
   "cell_type": "code",
   "execution_count": 70,
   "metadata": {},
   "outputs": [],
   "source": [
    "from pandas.io.json import json_normalize # for문 안써도 되게 하는 패키지"
   ]
  },
  {
   "cell_type": "code",
   "execution_count": 71,
   "metadata": {},
   "outputs": [],
   "source": [
    "# 데이터를 가져와서 판다스의 데이타 프레임으로 만드는 함수\n",
    "def get_data(url):\n",
    "    response = requests.get(url)\n",
    "    json_info = response.json() # string 데이터를, json 으로 parsing 함\n",
    "    companys = json_info['result']['itemList']\n",
    "    return json_normalize(companys)\n",
    "#     df = pd.DataFrame(columns = ['종목', '시세', '전일비', '등락율', '시가총액', '거래량'])\n",
    "    \n",
    "#     for company in companys:\n",
    "#         df.loc[len(df)] = {\n",
    "#             '종목': company['nm'],\n",
    "#             '시세': company['nv'],\n",
    "#             '전일비': company['cv'],\n",
    "#             '등락율': company['cr'],\n",
    "#             '시가총액': company['mks'],\n",
    "#             '거래량': company['aq'],\n",
    "#         }\n",
    "        \n",
    "#     return df"
   ]
  },
  {
   "cell_type": "code",
   "execution_count": 73,
   "metadata": {},
   "outputs": [
    {
     "data": {
      "text/html": [
       "<div>\n",
       "<style scoped>\n",
       "    .dataframe tbody tr th:only-of-type {\n",
       "        vertical-align: middle;\n",
       "    }\n",
       "\n",
       "    .dataframe tbody tr th {\n",
       "        vertical-align: top;\n",
       "    }\n",
       "\n",
       "    .dataframe thead th {\n",
       "        text-align: right;\n",
       "    }\n",
       "</style>\n",
       "<table border=\"1\" class=\"dataframe\">\n",
       "  <thead>\n",
       "    <tr style=\"text-align: right;\">\n",
       "      <th></th>\n",
       "      <th>aa</th>\n",
       "      <th>aq</th>\n",
       "      <th>cd</th>\n",
       "      <th>cr</th>\n",
       "      <th>cv</th>\n",
       "      <th>mks</th>\n",
       "      <th>mt</th>\n",
       "      <th>nm</th>\n",
       "      <th>nv</th>\n",
       "      <th>pcv</th>\n",
       "      <th>rf</th>\n",
       "    </tr>\n",
       "  </thead>\n",
       "  <tbody>\n",
       "    <tr>\n",
       "      <th>1453</th>\n",
       "      <td>79</td>\n",
       "      <td>8033</td>\n",
       "      <td>284990</td>\n",
       "      <td>-0.10</td>\n",
       "      <td>-10</td>\n",
       "      <td>22</td>\n",
       "      <td>0</td>\n",
       "      <td>KBSTAR 200에너지화학</td>\n",
       "      <td>9875</td>\n",
       "      <td>9885</td>\n",
       "      <td>5</td>\n",
       "    </tr>\n",
       "    <tr>\n",
       "      <th>1454</th>\n",
       "      <td>2</td>\n",
       "      <td>225</td>\n",
       "      <td>284980</td>\n",
       "      <td>-1.78</td>\n",
       "      <td>-175</td>\n",
       "      <td>21</td>\n",
       "      <td>0</td>\n",
       "      <td>KBSTAR 200금융</td>\n",
       "      <td>9680</td>\n",
       "      <td>9855</td>\n",
       "      <td>5</td>\n",
       "    </tr>\n",
       "    <tr>\n",
       "      <th>1455</th>\n",
       "      <td>0</td>\n",
       "      <td>50</td>\n",
       "      <td>295820</td>\n",
       "      <td>-0.80</td>\n",
       "      <td>-80</td>\n",
       "      <td>15</td>\n",
       "      <td>0</td>\n",
       "      <td>ARIRANG 200동일가중</td>\n",
       "      <td>9940</td>\n",
       "      <td>10020</td>\n",
       "      <td>5</td>\n",
       "    </tr>\n",
       "    <tr>\n",
       "      <th>1456</th>\n",
       "      <td>280</td>\n",
       "      <td>28489</td>\n",
       "      <td>295860</td>\n",
       "      <td>-1.11</td>\n",
       "      <td>-110</td>\n",
       "      <td>15</td>\n",
       "      <td>0</td>\n",
       "      <td>ARIRANG 200모멘텀</td>\n",
       "      <td>9770</td>\n",
       "      <td>9880</td>\n",
       "      <td>5</td>\n",
       "    </tr>\n",
       "    <tr>\n",
       "      <th>1457</th>\n",
       "      <td>278</td>\n",
       "      <td>28667</td>\n",
       "      <td>295890</td>\n",
       "      <td>-1.23</td>\n",
       "      <td>-120</td>\n",
       "      <td>14</td>\n",
       "      <td>0</td>\n",
       "      <td>ARIRANG 200로우볼</td>\n",
       "      <td>9665</td>\n",
       "      <td>9785</td>\n",
       "      <td>5</td>\n",
       "    </tr>\n",
       "  </tbody>\n",
       "</table>\n",
       "</div>"
      ],
      "text/plain": [
       "       aa     aq      cd    cr   cv  mks mt               nm    nv    pcv rf\n",
       "1453   79   8033  284990 -0.10  -10   22  0  KBSTAR 200에너지화학  9875   9885  5\n",
       "1454    2    225  284980 -1.78 -175   21  0     KBSTAR 200금융  9680   9855  5\n",
       "1455    0     50  295820 -0.80  -80   15  0  ARIRANG 200동일가중  9940  10020  5\n",
       "1456  280  28489  295860 -1.11 -110   15  0   ARIRANG 200모멘텀  9770   9880  5\n",
       "1457  278  28667  295890 -1.23 -120   14  0   ARIRANG 200로우볼  9665   9785  5"
      ]
     },
     "execution_count": 73,
     "metadata": {},
     "output_type": "execute_result"
    }
   ],
   "source": [
    "url = make_url(1500, 1)\n",
    "df = get_data(url)\n",
    "df.tail()"
   ]
  },
  {
   "cell_type": "code",
   "execution_count": null,
   "metadata": {},
   "outputs": [],
   "source": []
  },
  {
   "cell_type": "code",
   "execution_count": null,
   "metadata": {},
   "outputs": [],
   "source": []
  },
  {
   "cell_type": "code",
   "execution_count": null,
   "metadata": {},
   "outputs": [],
   "source": []
  },
  {
   "cell_type": "code",
   "execution_count": null,
   "metadata": {},
   "outputs": [],
   "source": []
  },
  {
   "cell_type": "code",
   "execution_count": null,
   "metadata": {},
   "outputs": [],
   "source": []
  },
  {
   "cell_type": "code",
   "execution_count": null,
   "metadata": {},
   "outputs": [],
   "source": []
  },
  {
   "cell_type": "code",
   "execution_count": 29,
   "metadata": {},
   "outputs": [],
   "source": [
    "# 데이터를 가져와서 판다스의 데이타 프레임으로 만드는 함수\n",
    "def get_data(url):\n",
    "    response = requests.get(url)\n",
    "    json_info = response.json() # string 데이터를, json 으로 parsing 함\n",
    "    companys = json_info['result']['itemList']\n",
    "    \n",
    "    df = pd.DataFrame(columns = ['종목', '시세', '전일비', '등락율', '시가총액', '거래량'])\n",
    "    \n",
    "    for company in companys:\n",
    "        df.loc[len(df)] = {\n",
    "            '종목': company['nm'],\n",
    "            '시세': company['nv'],\n",
    "            '전일비': company['cv'],\n",
    "            '등락율': company['cr'],\n",
    "            '시가총액': company['mks'],\n",
    "            '거래량': company['aq'],\n",
    "        }\n",
    "        \n",
    "    return df"
   ]
  },
  {
   "cell_type": "code",
   "execution_count": 32,
   "metadata": {},
   "outputs": [
    {
     "data": {
      "text/html": [
       "<div>\n",
       "<style scoped>\n",
       "    .dataframe tbody tr th:only-of-type {\n",
       "        vertical-align: middle;\n",
       "    }\n",
       "\n",
       "    .dataframe tbody tr th {\n",
       "        vertical-align: top;\n",
       "    }\n",
       "\n",
       "    .dataframe thead th {\n",
       "        text-align: right;\n",
       "    }\n",
       "</style>\n",
       "<table border=\"1\" class=\"dataframe\">\n",
       "  <thead>\n",
       "    <tr style=\"text-align: right;\">\n",
       "      <th></th>\n",
       "      <th>종목</th>\n",
       "      <th>시세</th>\n",
       "      <th>전일비</th>\n",
       "      <th>등락율</th>\n",
       "      <th>시가총액</th>\n",
       "      <th>거래량</th>\n",
       "    </tr>\n",
       "  </thead>\n",
       "  <tbody>\n",
       "    <tr>\n",
       "      <th>1453</th>\n",
       "      <td>KBSTAR 200에너지화학</td>\n",
       "      <td>9875</td>\n",
       "      <td>-10</td>\n",
       "      <td>-0.10</td>\n",
       "      <td>22</td>\n",
       "      <td>8033</td>\n",
       "    </tr>\n",
       "    <tr>\n",
       "      <th>1454</th>\n",
       "      <td>KBSTAR 200금융</td>\n",
       "      <td>9680</td>\n",
       "      <td>-175</td>\n",
       "      <td>-1.78</td>\n",
       "      <td>21</td>\n",
       "      <td>225</td>\n",
       "    </tr>\n",
       "    <tr>\n",
       "      <th>1455</th>\n",
       "      <td>ARIRANG 200동일가중</td>\n",
       "      <td>9940</td>\n",
       "      <td>-80</td>\n",
       "      <td>-0.80</td>\n",
       "      <td>15</td>\n",
       "      <td>50</td>\n",
       "    </tr>\n",
       "    <tr>\n",
       "      <th>1456</th>\n",
       "      <td>ARIRANG 200모멘텀</td>\n",
       "      <td>9770</td>\n",
       "      <td>-110</td>\n",
       "      <td>-1.11</td>\n",
       "      <td>15</td>\n",
       "      <td>28489</td>\n",
       "    </tr>\n",
       "    <tr>\n",
       "      <th>1457</th>\n",
       "      <td>ARIRANG 200로우볼</td>\n",
       "      <td>9665</td>\n",
       "      <td>-120</td>\n",
       "      <td>-1.23</td>\n",
       "      <td>14</td>\n",
       "      <td>28667</td>\n",
       "    </tr>\n",
       "  </tbody>\n",
       "</table>\n",
       "</div>"
      ],
      "text/plain": [
       "                   종목    시세   전일비   등락율 시가총액    거래량\n",
       "1453  KBSTAR 200에너지화학  9875   -10 -0.10   22   8033\n",
       "1454     KBSTAR 200금융  9680  -175 -1.78   21    225\n",
       "1455  ARIRANG 200동일가중  9940   -80 -0.80   15     50\n",
       "1456   ARIRANG 200모멘텀  9770  -110 -1.11   15  28489\n",
       "1457   ARIRANG 200로우볼  9665  -120 -1.23   14  28667"
      ]
     },
     "execution_count": 32,
     "metadata": {},
     "output_type": "execute_result"
    }
   ],
   "source": [
    "url = make_url(1500, 1)\n",
    "df = get_data(url)\n",
    "df.tail()"
   ]
  },
  {
   "cell_type": "markdown",
   "metadata": {},
   "source": [
    "#### 공식적으로 제공해주는 API 데이터를 가져와 보겠습니다.\n",
    "##### Dark sky api\n",
    "- 위도와 경도를 입력하면 날씨 정보를 보내주는 api\n",
    "- https://darksky.net/dev"
   ]
  },
  {
   "cell_type": "code",
   "execution_count": 33,
   "metadata": {},
   "outputs": [],
   "source": [
    "FORECAST_TOKEN = '12b8cd89392777d5f1a9b56e91d172d5'"
   ]
  },
  {
   "cell_type": "code",
   "execution_count": 48,
   "metadata": {},
   "outputs": [],
   "source": [
    "def forecast(lat, lng): \n",
    "    url = 'https://api.darksky.net/forecast/{}/{},{}'.format(FORECAST_TOKEN, lat, lng)\n",
    "    response = requests.get(url)\n",
    "    json_info = response.json()\n",
    "    return json_info['timezone'], json_info['hourly']['summary']"
   ]
  },
  {
   "cell_type": "code",
   "execution_count": 49,
   "metadata": {},
   "outputs": [
    {
     "data": {
      "text/plain": [
       "('Asia/Seoul', 'Mostly cloudy throughout the day.')"
      ]
     },
     "execution_count": 49,
     "metadata": {},
     "output_type": "execute_result"
    }
   ],
   "source": [
    "lat = 37.512\n",
    "lng = 126.954 \n",
    "forecast(lat, lng)"
   ]
  },
  {
   "cell_type": "code",
   "execution_count": 50,
   "metadata": {},
   "outputs": [],
   "source": [
    "def forecast2(lat, lng):\n",
    "    forecast = forecastio.load_forecast(FORECAST_TOKEN, lat, lng)\n",
    "    byHourly = forecast.hourly()\n",
    "    return byHourly.summary"
   ]
  },
  {
   "cell_type": "code",
   "execution_count": 51,
   "metadata": {},
   "outputs": [
    {
     "data": {
      "text/plain": [
       "'Mostly cloudy throughout the day.'"
      ]
     },
     "execution_count": 51,
     "metadata": {},
     "output_type": "execute_result"
    }
   ],
   "source": [
    "lat = 37.512\n",
    "lng = 126.954\n",
    "forecast2(lat, lng)"
   ]
  },
  {
   "cell_type": "markdown",
   "metadata": {},
   "source": [
    "#### bs4\n",
    "- 네이버 키워드 랭킹 데이터 크롤링\n",
    "- 다음 키워드 랭킹 데이터 크롤링"
   ]
  },
  {
   "cell_type": "code",
   "execution_count": 104,
   "metadata": {},
   "outputs": [
    {
     "data": {
      "text/plain": [
       "0          이집트 우루과이\n",
       "1             포항 약국\n",
       "2              뮤직뱅크\n",
       "3              블랙핑크\n",
       "4              광주날씨\n",
       "5     러시아 사우디 하이라이트\n",
       "6               강혁민\n",
       "7            모로코 이란\n",
       "8               최원명\n",
       "9                살라\n",
       "10              박기량\n",
       "11               쌈디\n",
       "12              민갑룡\n",
       "13              이찬오\n",
       "14              심영은\n",
       "15         포르투갈 스페인\n",
       "16              배용제\n",
       "17           프로듀스48\n",
       "18              ksl\n",
       "19            국가장학금\n",
       "Name: keyword, dtype: object"
      ]
     },
     "execution_count": 104,
     "metadata": {},
     "output_type": "execute_result"
    }
   ],
   "source": [
    "##  언제 쓸 수 있을까? 네이버와 다음 둘다 랭킹의 올라가는 속도가 빠르면\n",
    "## hot issue이고 시장의 영향을 이미 주었거나, 주는중인 issue로 볼 수 있을듯.\n",
    "\n",
    "# dom.select - 여러개의 html 엘리먼트를 셀렉팅 할 때 사용, 결과로 리스트 데이터를 리턴.\n",
    "# dom.select_one - 하나의 html 엘리먼트를 셀렉팅 할 때 사용, 결과로 문자열 데이터를 리턴.\n",
    "\n",
    "def naver():\n",
    "    df = pd.DataFrame(columns = ['rank', 'keyword'])\n",
    "    \n",
    "    response = requests.get('https://www.naver.com/') ## html 코드 가져옴. # BS는 response.content이용\n",
    "    dom = BeautifulSoup(response.content, 'html.parser') # html 형태로 파싱 후, dom객체에 저장\n",
    "    \n",
    "    keywords = dom.select('.ah_roll_area > .ah_l > .ah_item') # css select를 어떻게 확인하냐면, \n",
    "#     print(len(keywords)) \n",
    "    \n",
    "    for keyword in keywords:\n",
    "        df.loc[len(df)] = {\n",
    "            'rank': keyword.select_one('.ah_r').text,\n",
    "            'keyword': keyword.select_one('.ah_k').text,\n",
    "        }\n",
    "    \n",
    "    return df\n",
    "naver_df = naver()\n",
    "naver_df['keyword']"
   ]
  },
  {
   "cell_type": "code",
   "execution_count": 65,
   "metadata": {},
   "outputs": [
    {
     "name": "stdout",
     "output_type": "stream",
     "text": [
      "0\n",
      "1\n",
      "2\n"
     ]
    }
   ],
   "source": [
    "### 한시간에 한번 씩 돌리고 싶을 때\n",
    "import time\n",
    "\n",
    "ls = []\n",
    "for idx in range(3):\n",
    "    print(idx)\n",
    "    ls.append(naver())\n",
    "    time.sleep(5) ### 5초에 한번 씩\n"
   ]
  },
  {
   "cell_type": "markdown",
   "metadata": {},
   "source": [
    "#### Daum 실시간 검색어"
   ]
  },
  {
   "cell_type": "code",
   "execution_count": 105,
   "metadata": {},
   "outputs": [
    {
     "data": {
      "text/plain": [
       "0       민갑룡\n",
       "1      경찰청장\n",
       "2     국가장학금\n",
       "3    한국장학재단\n",
       "4       조현배\n",
       "5      블랙핑크\n",
       "6       안희정\n",
       "7       김무성\n",
       "8       심영은\n",
       "9       이찬오\n",
       "Name: keyword, dtype: object"
      ]
     },
     "execution_count": 105,
     "metadata": {},
     "output_type": "execute_result"
    }
   ],
   "source": [
    "def daum():\n",
    "    df = pd.DataFrame()\n",
    "    rank = []\n",
    "    keywords = []\n",
    "    \n",
    "    response = requests.get('https://www.daum.net/')\n",
    "    dom = BeautifulSoup(response.content, 'html.parser')\n",
    "    keywords = dom.select('.realtime_part > .list_hotissue.issue_row > li')\n",
    "    rank = [keyword.select_one('.ir_wa').text[:-1] for keyword in keywords ]\n",
    "    keyword = [keyword.select_one('.link_issue').text for keyword in keywords ]\n",
    "    df['rank'] = rank\n",
    "    df['keyword'] = keyword\n",
    "    return df\n",
    "\n",
    "daum_df = daum()\n",
    "daum_df['keyword']"
   ]
  },
  {
   "cell_type": "code",
   "execution_count": 106,
   "metadata": {},
   "outputs": [
    {
     "data": {
      "text/plain": [
       "['블랙핑크', '민갑룡', '이찬오', '심영은', '국가장학금']"
      ]
     },
     "execution_count": 106,
     "metadata": {},
     "output_type": "execute_result"
    }
   ],
   "source": [
    "# naver_df['keyword'] , daum_df['keyword']\n",
    "\n",
    "result = [\n",
    "    keyword\n",
    "    for keyword in naver_df['keyword']\n",
    "    if daum_df['keyword'].str.contains(keyword).any()\n",
    "]\n",
    "\n",
    "result"
   ]
  },
  {
   "cell_type": "code",
   "execution_count": 112,
   "metadata": {},
   "outputs": [
    {
     "data": {
      "text/plain": [
       "{'국가장학금', '민갑룡', '블랙핑크', '심영은', '이찬오'}"
      ]
     },
     "execution_count": 112,
     "metadata": {},
     "output_type": "execute_result"
    }
   ],
   "source": [
    "set(naver_df['keyword']) & set(daum_df['keyword'])"
   ]
  },
  {
   "cell_type": "markdown",
   "metadata": {},
   "source": [
    "#### File down load : requests\n",
    "- file의 url을 받아서 해당 url의 file을 다운로드 하는 방법"
   ]
  },
  {
   "cell_type": "code",
   "execution_count": 119,
   "metadata": {},
   "outputs": [],
   "source": [
    "def download(title, download_link):\n",
    "    response = requests.get(download_link, stream=True) # stream을 True로 해야 함. -> 파일을 다운 받는 것이기에\n",
    "    file_size = 0\n",
    "    with open(title, 'wb') as f: # Binary로 함\n",
    "        for chunk in response.iter_content(chunk_size=1024): # byte\n",
    "            if chunk:\n",
    "                file_size += 1024\n",
    "                f.write(chunk)\n",
    "        return file_size"
   ]
  },
  {
   "cell_type": "code",
   "execution_count": 121,
   "metadata": {},
   "outputs": [],
   "source": [
    "# url = 'https://r3---sn-pj2-2v1e.googlevideo.com/videoplayback?sparams=dur%2Cei%2Cid%2Cinitcwndbps%2Cip%2Cipbits%2Citag%2Clmt%2Cmime%2Cmm%2Cmn%2Cms%2Cmv%2Cpcm2cms%2Cpl%2Cratebypass%2Crequiressl%2Csource%2Cexpire&ipbits=0&signature=E206469B2D89166376D7525E05196CF56FF266D4.8BE8C02D86DBF48F5CCEE7008BC2582977DD194C&pl=17&itag=22&mime=video%2Fmp4&c=WEB&pcm2cms=yes&mn=sn-pj2-2v1e%2Csn-f5f7lnee&mm=31%2C29&ratebypass=yes&requiressl=yes&mv=m&mt=1529048870&ms=au%2Crdu&ei=qm8jW_THC5rK7QTkgISYDA&lmt=1529048830232204&key=yt6&ip=77.65.13.26&expire=1529070602&dur=208.399&id=o-AD0RhPvbWjOTimLTuGqwfMKjXnFIZW1BIL7ukuLEHDlr&initcwndbps=1205000&source=youtube&fvip=3&video_id=ZUWGAvcqOdg&title=%5B%ED%95%98%ED%8A%B8%EC%8B%9C%EA%B7%B8%EB%84%902+%EC%84%A0%EA%B3%B5%EA%B0%9C%5D+%EC%8F%98-%EC%8A%A4%EC%9C%97%ED%95%9C+%EB%8F%84%EA%B7%A0+%27%EB%81%9D%EC%9D%B4%EB%9D%BC%EA%B3%A0%EB%8A%94+%EC%83%9D%EA%B0%81+%EC%95%88+%ED%95%B4%27+-+%EC%B1%84%EB%84%90A+%ED%95%98%ED%8A%B8%EC%8B%9C%EA%B7%B8%EB%84%902+13%ED%9A%8C'\n",
    "download_link = 'https://bit.ly/2taHh9E'\n",
    "title = 'HeartSignal.mp4'\n",
    "file_size = download(title, download_link)"
   ]
  },
  {
   "cell_type": "code",
   "execution_count": 122,
   "metadata": {},
   "outputs": [
    {
     "data": {
      "text/plain": [
       "14526464"
      ]
     },
     "execution_count": 122,
     "metadata": {},
     "output_type": "execute_result"
    }
   ],
   "source": [
    "file_size"
   ]
  },
  {
   "cell_type": "code",
   "execution_count": 126,
   "metadata": {},
   "outputs": [
    {
     "data": {
      "text/plain": [
       "'13.85Mb'"
      ]
     },
     "execution_count": 126,
     "metadata": {},
     "output_type": "execute_result"
    }
   ],
   "source": [
    "str(round(file_size/1024/1024,2)) + \"Mb\""
   ]
  },
  {
   "cell_type": "markdown",
   "metadata": {},
   "source": [
    "- bit => 0 또는 1\n",
    "- byte => 8 bits\n",
    "- 1kbyte => 1024 bytes\n",
    "- 1Mbyte => 1024 kbytes"
   ]
  },
  {
   "cell_type": "code",
   "execution_count": null,
   "metadata": {},
   "outputs": [],
   "source": []
  }
 ],
 "metadata": {
  "kernelspec": {
   "display_name": "Python 3",
   "language": "python",
   "name": "python3"
  },
  "language_info": {
   "codemirror_mode": {
    "name": "ipython",
    "version": 3
   },
   "file_extension": ".py",
   "mimetype": "text/x-python",
   "name": "python",
   "nbconvert_exporter": "python",
   "pygments_lexer": "ipython3",
   "version": "3.6.4"
  }
 },
 "nbformat": 4,
 "nbformat_minor": 2
}
