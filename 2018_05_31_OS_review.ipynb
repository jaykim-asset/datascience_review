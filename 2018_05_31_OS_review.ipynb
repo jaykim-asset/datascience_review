{
 "cells": [
  {
   "cell_type": "markdown",
   "metadata": {},
   "source": [
    "### OS\n",
    "- 파이썬에서는 os package를 이용하여 파일 시스템을 컨트롤 할 수 있습니다."
   ]
  },
  {
   "cell_type": "markdown",
   "metadata": {},
   "source": [
    "#### 1. Directory 만들기 - makedirs"
   ]
  },
  {
   "cell_type": "code",
   "execution_count": 2,
   "metadata": {},
   "outputs": [],
   "source": [
    "import os\n",
    "os.makedirs('jaydir')"
   ]
  },
  {
   "cell_type": "code",
   "execution_count": 3,
   "metadata": {},
   "outputs": [
    {
     "name": "stdout",
     "output_type": "stream",
     "text": [
      " C 드라이브의 볼륨에는 이름이 없습니다.\n",
      " 볼륨 일련 번호: 4400-3734\n",
      "\n",
      " C:\\Users\\JongJae\\datascience_review 디렉터리\n",
      "\n",
      "2018-05-31  오후 11:59    <DIR>          .\n",
      "2018-05-31  오후 11:59    <DIR>          ..\n",
      "2018-05-26  오후 04:55             1,307 .gitignore\n",
      "2018-05-31  오후 11:58    <DIR>          .ipynb_checkpoints\n",
      "2018-05-29  오후 09:58           204,973 2018_05_26_Function_review.ipynb\n",
      "2018-05-29  오후 09:58            36,671 2018_05_26_Integral_review.ipynb\n",
      "2018-05-29  오후 09:58           147,499 2018_05_26_Sympy_Differentiation_review.ipynb\n",
      "2018-05-29  오후 09:58           178,071 2018_05_27_Pandas_review.ipynb\n",
      "2018-05-29  오후 09:58             8,820 2018_05_28_Leaflet_review.ipynb\n",
      "2018-05-29  오후 09:58           189,964 2018_05_28_matplotlib_2_review.ipynb\n",
      "2018-05-29  오후 09:58         1,076,474 2018_05_28_matplotlib_review.ipynb\n",
      "2018-05-29  오후 09:58            61,003 2018_05_28_Pandas_Pivot_review.ipynb\n",
      "2018-05-29  오후 09:58             8,304 2018_05_28_Pandas_problem_solving.ipynb\n",
      "2018-05-29  오후 09:58            75,253 2018_05_28_Pandas_problem_solving2.ipynb\n",
      "2018-05-29  오후 09:58         2,982,341 2018_05_28_Seaborn_review.ipynb\n",
      "2018-05-18  오후 08:31           355,328 2018_05_29_Commodity_Futures_UDP(8M)_1.570_2018051808.xls\n",
      "2018-05-29  오후 09:46             7,478 2018_05_29_KTB10_MarketData_Practice(readline_pandas).ipynb\n",
      "2018-05-28  오후 07:47             8,029 2018_05_29_pandas_problemsolving_1_김종재.ipynb\n",
      "2018-05-28  오후 09:53            73,782 2018_05_29_pandas_problemsolving_2_김종재.ipynb\n",
      "2018-05-29  오후 09:47         2,958,640 2018_05_29_sise2local.ALL_CMDT_0219_readline.csv\n",
      "2018-05-29  오후 12:29           257,206 2018_05_29_선형대수_역행렬_전치행렬_Gauss.pdf\n",
      "2018-05-30  오후 06:12           172,688 2018_05_30_행열미분_예습.ipynb\n",
      "2018-05-31  오후 04:05            33,561 2018_05_31_os.ipynb\n",
      "2018-05-31  오후 11:58                72 2018_05_31_OS_review.ipynb\n",
      "2018-05-31  오후 03:25            37,551 2018_05_31_regex(정규표현식).ipynb\n",
      "2018-05-31  오후 11:47            26,043 2018_05_31_Regex_review.ipynb\n",
      "2018-05-31  오후 05:48             6,460 2018_05_31_Web_Crawling.ipynb\n",
      "2018-05-31  오후 11:59    <DIR>          jaydir\n",
      "2018-05-26  오후 08:28             1,090 LICENSE\n",
      "              25개 파일           8,908,608 바이트\n",
      "               4개 디렉터리  161,421,139,968 바이트 남음\n"
     ]
    }
   ],
   "source": [
    "%ls"
   ]
  },
  {
   "cell_type": "code",
   "execution_count": 4,
   "metadata": {},
   "outputs": [],
   "source": [
    "s = 'data science'\n",
    "with open('jaydir/test.txt', 'wt') as f:\n",
    "    f.write(s)\n",
    "s1 = 'data science'\n",
    "with open('jaydir/test1.txt', 'wt') as f:\n",
    "    f.write(s)\n",
    "s2 = 'data science'\n",
    "with open('jaydir/test2.txt', 'wt') as f:\n",
    "    f.write(s)"
   ]
  },
  {
   "cell_type": "markdown",
   "metadata": {},
   "source": [
    "#### 파일 리스트 읽기 - listdir\n",
    "- directory 내의 파일 읽기"
   ]
  },
  {
   "cell_type": "code",
   "execution_count": 5,
   "metadata": {},
   "outputs": [
    {
     "data": {
      "text/plain": [
       "['test.txt', 'test1.txt', 'test2.txt']"
      ]
     },
     "execution_count": 5,
     "metadata": {},
     "output_type": "execute_result"
    }
   ],
   "source": [
    "file_list = os.listdir('jaydir')\n",
    "file_list"
   ]
  },
  {
   "cell_type": "markdown",
   "metadata": {},
   "source": [
    "#### txt파일 리스트만 출력"
   ]
  },
  {
   "cell_type": "code",
   "execution_count": 6,
   "metadata": {},
   "outputs": [
    {
     "data": {
      "text/plain": [
       "['test.txt', 'test1.txt', 'test2.txt']"
      ]
     },
     "execution_count": 6,
     "metadata": {},
     "output_type": "execute_result"
    }
   ],
   "source": [
    "result_1 = [file_name for file_name in file_list if file_name.endswith('.txt')]\n",
    "result_1"
   ]
  },
  {
   "cell_type": "code",
   "execution_count": 9,
   "metadata": {},
   "outputs": [
    {
     "data": {
      "text/plain": [
       "['test.txt', 'test1.txt', 'test2.txt']"
      ]
     },
     "execution_count": 9,
     "metadata": {},
     "output_type": "execute_result"
    }
   ],
   "source": [
    "file_list = os.listdir('jaydir')\n",
    "\n",
    "[i for i in file_list if i.endswith('.txt')]"
   ]
  },
  {
   "cell_type": "markdown",
   "metadata": {},
   "source": [
    "####  txt 파일이 아닌 파일 리스트만 출력]"
   ]
  },
  {
   "cell_type": "code",
   "execution_count": 10,
   "metadata": {},
   "outputs": [
    {
     "data": {
      "text/plain": [
       "[]"
      ]
     },
     "execution_count": 10,
     "metadata": {},
     "output_type": "execute_result"
    }
   ],
   "source": [
    "[i for i in file_list if not i.endswith('.txt')]"
   ]
  },
  {
   "cell_type": "markdown",
   "metadata": {},
   "source": [
    "#### File Removal"
   ]
  },
  {
   "cell_type": "code",
   "execution_count": 11,
   "metadata": {},
   "outputs": [
    {
     "data": {
      "text/plain": [
       "['test.txt', 'test1.txt', 'test2.txt']"
      ]
     },
     "execution_count": 11,
     "metadata": {},
     "output_type": "execute_result"
    }
   ],
   "source": [
    "os.listdir('jaydir')"
   ]
  },
  {
   "cell_type": "code",
   "execution_count": 12,
   "metadata": {},
   "outputs": [],
   "source": [
    "os.remove('jaydir/' + 'test.txt')"
   ]
  },
  {
   "cell_type": "code",
   "execution_count": 13,
   "metadata": {},
   "outputs": [
    {
     "data": {
      "text/plain": [
       "['test1.txt', 'test2.txt']"
      ]
     },
     "execution_count": 13,
     "metadata": {},
     "output_type": "execute_result"
    }
   ],
   "source": [
    "os.listdir('jaydir')"
   ]
  },
  {
   "cell_type": "code",
   "execution_count": 14,
   "metadata": {},
   "outputs": [],
   "source": [
    "os.remove('jaydir/' + 'test2.txt')"
   ]
  },
  {
   "cell_type": "code",
   "execution_count": 15,
   "metadata": {},
   "outputs": [
    {
     "data": {
      "text/plain": [
       "['test1.txt']"
      ]
     },
     "execution_count": 15,
     "metadata": {},
     "output_type": "execute_result"
    }
   ],
   "source": [
    "os.listdir('jaydir')"
   ]
  },
  {
   "cell_type": "markdown",
   "metadata": {},
   "source": [
    "####  Directory 삭제"
   ]
  },
  {
   "cell_type": "code",
   "execution_count": 16,
   "metadata": {},
   "outputs": [
    {
     "ename": "PermissionError",
     "evalue": "[WinError 5] 액세스가 거부되었습니다: 'jaydir/'",
     "output_type": "error",
     "traceback": [
      "\u001b[1;31m---------------------------------------------------------------------------\u001b[0m",
      "\u001b[1;31mPermissionError\u001b[0m                           Traceback (most recent call last)",
      "\u001b[1;32m<ipython-input-16-d9de9cbde020>\u001b[0m in \u001b[0;36m<module>\u001b[1;34m()\u001b[0m\n\u001b[0;32m      1\u001b[0m \u001b[1;31m# 디렉토리 내에 파일이 있으면 삭제되지 않습니다.\u001b[0m\u001b[1;33m\u001b[0m\u001b[1;33m\u001b[0m\u001b[0m\n\u001b[1;32m----> 2\u001b[1;33m \u001b[0mos\u001b[0m\u001b[1;33m.\u001b[0m\u001b[0mremove\u001b[0m\u001b[1;33m(\u001b[0m\u001b[1;34m'jaydir/'\u001b[0m\u001b[1;33m)\u001b[0m\u001b[1;33m\u001b[0m\u001b[0m\n\u001b[0m",
      "\u001b[1;31mPermissionError\u001b[0m: [WinError 5] 액세스가 거부되었습니다: 'jaydir/'"
     ]
    }
   ],
   "source": [
    "# 디렉토리 내에 파일이 있으면 삭제되지 않습니다.\n",
    "os.remove('jaydir/')"
   ]
  },
  {
   "cell_type": "markdown",
   "metadata": {},
   "source": [
    "#### 파일과 디렉토리 모두 삭제 -rmtree"
   ]
  },
  {
   "cell_type": "code",
   "execution_count": 17,
   "metadata": {},
   "outputs": [],
   "source": [
    "import shutil\n",
    "shutil.rmtree('jaydir') # 강제삭제"
   ]
  },
  {
   "cell_type": "markdown",
   "metadata": {},
   "source": []
  },
  {
   "cell_type": "markdown",
   "metadata": {},
   "source": [
    "#### 파일 타입 확인 - isdir"
   ]
  },
  {
   "cell_type": "code",
   "execution_count": 20,
   "metadata": {},
   "outputs": [],
   "source": [
    "import os\n",
    "os.mkdir('jaydir')"
   ]
  },
  {
   "cell_type": "code",
   "execution_count": 23,
   "metadata": {},
   "outputs": [],
   "source": [
    "s = 'jay kim You are the One'\n",
    "with open('jaydir/test.txt', 'wt') as f:\n",
    "    f.write(s)\n",
    "s = 'jay kim You are the One'\n",
    "with open('jaydir/test.txt1', 'wt') as f:\n",
    "    f.write(s)\n",
    "s = 'jay kim You are the One'\n",
    "with open('jaydir/test.txt2', 'wt') as f:\n",
    "    f.write(s)\n",
    "    "
   ]
  },
  {
   "cell_type": "code",
   "execution_count": 26,
   "metadata": {},
   "outputs": [
    {
     "data": {
      "text/plain": [
       "['test.txt', 'test.txt1', 'test.txt2']"
      ]
     },
     "execution_count": 26,
     "metadata": {},
     "output_type": "execute_result"
    }
   ],
   "source": [
    "file_list = os.listdir('jaydir')\n",
    "file_list"
   ]
  },
  {
   "cell_type": "code",
   "execution_count": 27,
   "metadata": {},
   "outputs": [
    {
     "data": {
      "text/plain": [
       "['test.txt']"
      ]
     },
     "execution_count": 27,
     "metadata": {},
     "output_type": "execute_result"
    }
   ],
   "source": [
    "[i for i in file_list if i.endswith('.txt')]"
   ]
  },
  {
   "cell_type": "code",
   "execution_count": 29,
   "metadata": {},
   "outputs": [],
   "source": [
    "# 파일 타입 확인\n",
    "result1 = os.path.isfile('jaydir/test.txt')\n",
    "result2 = os.path.isfile('jaydir/')"
   ]
  },
  {
   "cell_type": "code",
   "execution_count": 30,
   "metadata": {},
   "outputs": [
    {
     "data": {
      "text/plain": [
       "(True, False)"
      ]
     },
     "execution_count": 30,
     "metadata": {},
     "output_type": "execute_result"
    }
   ],
   "source": [
    "result1, result2"
   ]
  },
  {
   "cell_type": "markdown",
   "metadata": {},
   "source": [
    "#### 복사하기 - copy"
   ]
  },
  {
   "cell_type": "code",
   "execution_count": 32,
   "metadata": {},
   "outputs": [
    {
     "data": {
      "text/plain": [
       "True"
      ]
     },
     "execution_count": 32,
     "metadata": {},
     "output_type": "execute_result"
    }
   ],
   "source": [
    "import shutil\n",
    "shutil.copy('jaydir/test.txt', 'jaydir/copy.txt')\n",
    "os.path.isfile('jaydir/copy.txt')"
   ]
  },
  {
   "cell_type": "markdown",
   "metadata": {},
   "source": [
    "#### 이름 바꾸기 - rename"
   ]
  },
  {
   "cell_type": "code",
   "execution_count": 33,
   "metadata": {},
   "outputs": [],
   "source": [
    "os.rename('jaydir/test.txt1', 'jaydir/test1.txt')"
   ]
  },
  {
   "cell_type": "code",
   "execution_count": 34,
   "metadata": {},
   "outputs": [
    {
     "data": {
      "text/plain": [
       "True"
      ]
     },
     "execution_count": 34,
     "metadata": {},
     "output_type": "execute_result"
    }
   ],
   "source": [
    "os.path.isfile('jaydir/test1.txt')"
   ]
  },
  {
   "cell_type": "code",
   "execution_count": 35,
   "metadata": {},
   "outputs": [
    {
     "data": {
      "text/plain": [
       "['copy.txt', 'test.txt', 'test.txt2', 'test1.txt']"
      ]
     },
     "execution_count": 35,
     "metadata": {},
     "output_type": "execute_result"
    }
   ],
   "source": [
    "os.listdir('jaydir')"
   ]
  },
  {
   "cell_type": "code",
   "execution_count": 36,
   "metadata": {},
   "outputs": [],
   "source": [
    "os.remove('jaydir/copy.txt')"
   ]
  },
  {
   "cell_type": "code",
   "execution_count": 40,
   "metadata": {},
   "outputs": [],
   "source": [
    "#강제 디렉토리 지우기\n",
    "import shutil\n",
    "shutil.rmtree('jaydir')"
   ]
  },
  {
   "cell_type": "markdown",
   "metadata": {},
   "source": [
    "#### 권한 설정 - chmod"
   ]
  },
  {
   "cell_type": "markdown",
   "metadata": {},
   "source": [
    "#### 타입[:1], 소유자[1:4], 그룹[4:7], 공개[7:]\n",
    "- r(read), w(write), x(execute)\n",
    "- 8진수 octet: 7(8) -> 111 (2), 4(8) -> 100 (2)"
   ]
  },
  {
   "cell_type": "markdown",
   "metadata": {},
   "source": [
    "#### 모든 사용자 read 권한만 갖도록 (-r--r--r--)"
   ]
  },
  {
   "cell_type": "code",
   "execution_count": null,
   "metadata": {},
   "outputs": [],
   "source": [
    "os.chmod('jaydir', 0o444)"
   ]
  }
 ],
 "metadata": {
  "kernelspec": {
   "display_name": "Python 3",
   "language": "python",
   "name": "python3"
  },
  "language_info": {
   "codemirror_mode": {
    "name": "ipython",
    "version": 3
   },
   "file_extension": ".py",
   "mimetype": "text/x-python",
   "name": "python",
   "nbconvert_exporter": "python",
   "pygments_lexer": "ipython3",
   "version": "3.6.4"
  }
 },
 "nbformat": 4,
 "nbformat_minor": 2
}
