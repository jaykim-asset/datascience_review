{
 "cells": [
  {
   "cell_type": "code",
   "execution_count": 62,
   "metadata": {},
   "outputs": [],
   "source": [
    "from selenium import webdriver\n",
    "driver = webdriver.Chrome() # Web 드라이버"
   ]
  },
  {
   "cell_type": "markdown",
   "metadata": {},
   "source": [
    "#### Selenium\n",
    "- https://www.seleniumhq.org\n",
    "- 파일 업로드 다운로드\n",
    "    - google vision api 웹페이지에서 실습\n",
    "- 스크래핑\n",
    "    - Gmarket 베스트 셀러 200 제품 Item 수집\n",
    "    - 네이버 메일(본인계정) 데이터 수집\n",
    "- 자동화\n",
    "    - 워드프레스 블로그에 자동으로 댓글을 작성\n",
    "- 이미지 스크린샷\n",
    "    - Youtube 페이지로 실습\n",
    "    - Pillow: python 이미지 처리 패키지\n"
   ]
  },
  {
   "cell_type": "markdown",
   "metadata": {},
   "source": [
    "#### 기본 사용법"
   ]
  },
  {
   "cell_type": "code",
   "execution_count": 63,
   "metadata": {},
   "outputs": [],
   "source": [
    "# 브라우저 열기\n",
    "# driver = Browser 객체\n",
    "driver = webdriver.Chrome()"
   ]
  },
  {
   "cell_type": "code",
   "execution_count": 64,
   "metadata": {},
   "outputs": [],
   "source": [
    "# 페이지 이동\n",
    "driver.get('http://naver.com')"
   ]
  },
  {
   "cell_type": "code",
   "execution_count": 65,
   "metadata": {},
   "outputs": [],
   "source": [
    "# 브라우져의 윈도우 사이즈 조절\n",
    "driver.set_window_size(800, 600) # (가로, 세로)"
   ]
  },
  {
   "cell_type": "code",
   "execution_count": 66,
   "metadata": {},
   "outputs": [],
   "source": [
    "# 스크롤 조절은 아쉽게도 driver 에 없음\n",
    "# Java script 코드를 사용할 것임\n",
    "script = 'window.scrollTo(500,300);' # (가로, 세로)\n",
    "driver.execute_script(script)"
   ]
  },
  {
   "cell_type": "code",
   "execution_count": 14,
   "metadata": {},
   "outputs": [
    {
     "data": {
      "text/plain": [
       "'CDwindow-BF82FFD17FBF1C1C8FF32517F84BD925'"
      ]
     },
     "execution_count": 14,
     "metadata": {},
     "output_type": "execute_result"
    }
   ],
   "source": [
    "# 현재 윈도우 객체를 저장 할 것입니다.\n",
    "main_window = driver.current_window_handle\n",
    "main_window "
   ]
  },
  {
   "cell_type": "code",
   "execution_count": 67,
   "metadata": {},
   "outputs": [],
   "source": [
    "# 새로운 윈도우 \"탭\" 열기\n",
    "script = \"window.open('http://google.com');\"\n",
    "driver.execute_script(script)"
   ]
  },
  {
   "cell_type": "code",
   "execution_count": 68,
   "metadata": {},
   "outputs": [
    {
     "data": {
      "text/plain": [
       "'CDwindow-2EA7EE6958E854CBAD2B4993AB28382F'"
      ]
     },
     "execution_count": 68,
     "metadata": {},
     "output_type": "execute_result"
    }
   ],
   "source": [
    "driver.current_window_handle # 위와 같다. 현재 Current window는 Naver로 Focusing 되어 있음 "
   ]
  },
  {
   "cell_type": "code",
   "execution_count": 69,
   "metadata": {},
   "outputs": [
    {
     "data": {
      "text/plain": [
       "['CDwindow-2EA7EE6958E854CBAD2B4993AB28382F',\n",
       " 'CDwindow-1C9501BD26CD0218036C290A4F138A62']"
      ]
     },
     "execution_count": 69,
     "metadata": {},
     "output_type": "execute_result"
    }
   ],
   "source": [
    "# 따라서, current window를 새롭게 연 google로 바꿔줘야 함. \n",
    "# window tap 객체 확인\n",
    "windows = driver.window_handles\n",
    "windows"
   ]
  },
  {
   "cell_type": "code",
   "execution_count": 76,
   "metadata": {},
   "outputs": [],
   "source": [
    "# current window tab 설정을 하기 위해서는\n",
    "driver.switch_to_window(windows[0])\n",
    "#current window tab을 google로 설정 완료"
   ]
  },
  {
   "cell_type": "code",
   "execution_count": 71,
   "metadata": {},
   "outputs": [],
   "source": [
    "# Page Refresh 하는 방법 -> JAVA Script\n",
    "script = 'location.reload();'\n",
    "driver.execute_script(script)"
   ]
  },
  {
   "cell_type": "code",
   "execution_count": 72,
   "metadata": {},
   "outputs": [],
   "source": [
    "# alert(1):\n",
    "script = \"alert('data science');\"\n",
    "driver.execute_script(script)"
   ]
  },
  {
   "cell_type": "code",
   "execution_count": 73,
   "metadata": {},
   "outputs": [
    {
     "data": {
      "text/plain": [
       "'data science'"
      ]
     },
     "execution_count": 73,
     "metadata": {},
     "output_type": "execute_result"
    }
   ],
   "source": [
    "alert = driver.switch_to_alert()\n",
    "alert.text\n",
    "\n",
    "# alert 메세지를 가져와서 alert를 없애려고 함."
   ]
  },
  {
   "cell_type": "code",
   "execution_count": 74,
   "metadata": {},
   "outputs": [],
   "source": [
    "alert.accept() # alert가 생기면 없앨 수 있음 accept로"
   ]
  },
  {
   "cell_type": "code",
   "execution_count": 35,
   "metadata": {},
   "outputs": [],
   "source": [
    "# confirm # 취소 버튼과 확인 버튼을 누르는 것을 골라서 선택이 가능 함.\n",
    "script = \"confirm('test selenium');\"\n",
    "driver.execute_script(script)\n",
    "# 이걸 쓰면, 확인 or 취소 버튼이 뜹니다."
   ]
  },
  {
   "cell_type": "code",
   "execution_count": 36,
   "metadata": {},
   "outputs": [
    {
     "data": {
      "text/plain": [
       "'test selenium'"
      ]
     },
     "execution_count": 36,
     "metadata": {},
     "output_type": "execute_result"
    }
   ],
   "source": [
    "confirm = driver.switch_to_alert()\n",
    "confirm.text"
   ]
  },
  {
   "cell_type": "code",
   "execution_count": 37,
   "metadata": {},
   "outputs": [],
   "source": [
    "confirm.dismiss() # 취소\n",
    "# confirm.accept() # 확인버튼임"
   ]
  },
  {
   "cell_type": "code",
   "execution_count": null,
   "metadata": {},
   "outputs": [],
   "source": []
  },
  {
   "cell_type": "code",
   "execution_count": 77,
   "metadata": {},
   "outputs": [],
   "source": [
    "# input 엘리먼트에 문자열 입력하기\n",
    "driver.find_element_by_css_selector(\"#query\").send_keys(\"패스트 캠퍼스\")"
   ]
  },
  {
   "cell_type": "code",
   "execution_count": 78,
   "metadata": {},
   "outputs": [],
   "source": [
    "# driver.find_element_by_css_selector(\"#search_btn\").click()\n",
    "driver.find_element_by_css_selector(\"#search_btn\").click()"
   ]
  },
  {
   "cell_type": "code",
   "execution_count": null,
   "metadata": {},
   "outputs": [],
   "source": [
    "driver.close()"
   ]
  },
  {
   "cell_type": "code",
   "execution_count": 60,
   "metadata": {},
   "outputs": [],
   "source": [
    "driver.quit()"
   ]
  },
  {
   "cell_type": "code",
   "execution_count": null,
   "metadata": {},
   "outputs": [],
   "source": []
  }
 ],
 "metadata": {
  "kernelspec": {
   "display_name": "Python 3",
   "language": "python",
   "name": "python3"
  },
  "language_info": {
   "codemirror_mode": {
    "name": "ipython",
    "version": 3
   },
   "file_extension": ".py",
   "mimetype": "text/x-python",
   "name": "python",
   "nbconvert_exporter": "python",
   "pygments_lexer": "ipython3",
   "version": "3.6.4"
  }
 },
 "nbformat": 4,
 "nbformat_minor": 2
}
