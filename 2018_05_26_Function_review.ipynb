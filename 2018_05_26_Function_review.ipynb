{
 "cells": [
  {
   "cell_type": "markdown",
   "metadata": {},
   "source": [
    "## 함수"
   ]
  },
  {
   "cell_type": "markdown",
   "metadata": {},
   "source": [
    "#### 함수와 변수\n",
    "- 함수(function)는 입력 값을 출력 값으로 바꾸어 출력하는 관계(relationship)을 말함.\n",
    "- 맵(map) 또는 맵핑(mapping)이라는 용어를 사용하기도 한다. \n",
    "- 예를 들어 1,2,3, ... 이라는 숫자를 입력받아서, 두배가 되는 2, 4, 6,...을 출력하는 것은 함수라고 할 수 있다.\n",
    "- 1,2,3,... ----> 함수(function) ----> 2,4,6,...\n",
    "- 어떤 입력 값과 출력 값이 함수 관계를 이루기 위해서는 같은 입력 값에 대해서 항상 같은 출력 값이 나와야 한다. 예를 들어 똑같이 3을 입력했는데 어떤 경우에는 4가 나오고, 어떤 경우에는 5가 나온다면 함수라고 할 수 없다.\n",
    "- 함수에서 입력 변수가 가질 수 있는 값의 집합을 정의역(domain)이라고 한다.\n",
    "- 함수에서 출력 변수가 가질 수 있는 값의 집합을 공역  (range)라고 한다. \n",
    "- 정의역은 실수 전체인 경우가 많다. 하지만, 함수에 따라서는 일부 숫자만 정의역으로 가질 수 있다. \n",
    "\n",
    "- 변수(variable)이란 어떤 숫자를 대표하는 기호이다. \n",
    "- 함수에서 입력 값이나 출력 값을 기호 즉 변수로 나타내기도 한다.\n",
    "- 입력 값을 대표하는 변수를 입력 변수(input variable)라 한다.\n",
    "- 출력 값을 대표하는 변수를 출력 변수(output variable)라 한다.\n",
    "- 변수는 보통 x,y,z등의 알파벳 소문자로 표시한다. \n",
    "- 함수에서 기호를 사용하는 이유는 입력 값과 출력 값의 관계를 수식으로 표현하기 위해서 이다. \n",
    "- 예를 들어, 어떤 숫자를 입력으로 받아, 그 값의 2배가 되는 값을 출력으로 한다면, 다음처럼 표현 할 수 있다. x -> 2x 또는 y = 2x\n",
    "- 함수를 여러개 사용할 때는 이름을 붙여 구별한다. 변수와 마찬가지로 함수 f,g,h와 같이 알파벳 소문자로 표시한다. 함수 f에 특정한 입력 값 x를 넣어서 나오는 출력 값을 표기할 때는, f(x)라고 한다. 이 기호는 \"f of x\"라고 읽는다. 출력 기호 y 대신 f(x)를 사용하여 함수 관계를 표시할 수 도 있다. \n",
    "- f(x) = 2x\n",
    "- 파이썬의 함수는 이러한 수학 함수의 개념을 구현한 것으로 볼 수 있다. 예를 들어 다음 파이썬 함수 f는 입력 변수의 값을 2배하여 출력한다."
   ]
  },
  {
   "cell_type": "code",
   "execution_count": 1,
   "metadata": {},
   "outputs": [
    {
     "name": "stdout",
     "output_type": "stream",
     "text": [
      "10 20\n"
     ]
    }
   ],
   "source": [
    "def f(x):\n",
    "    return 2 * x\n",
    "\n",
    "x = 10 \n",
    "y = f(x)\n",
    "print(x, y)"
   ]
  },
  {
   "cell_type": "markdown",
   "metadata": {},
   "source": [
    "#### 함수의 응용\n",
    "- 서로 관계를 가지며 맺어지는 모든 숫자의 쌍은 함수라고 생각할 수 있다. 예를 들어, \n",
    "    - 앰프의 조절 나사 (knob)을 돌린 각도 x와 소리의 크기 (volume) y\n",
    "    - 등산을 할 때 출발점에서 간 거리 x와 그 위치의 해발 고도 y\n",
    "- 예측(prediction)문제도 독립 변수 x를 입력으로 가지고, 종속 변수 y hat이 원래의 출력 데이터 y와 가장 비슷한 함수 y hat = f(x)를 ㅊ자는 문제라고 할 수 있다."
   ]
  },
  {
   "cell_type": "markdown",
   "metadata": {},
   "source": [
    "#### 역함수\n",
    "- 어떤 함수의 입력/출력 관계와 정반대의 입출력 관계를 가지는 함수를 **역함수(inverse function)**이라고 한다.\n",
    "- 예를 들어 어떤 함수 f가 1,2,3,... 를 입력받아서 1,4,9,...을 출력하고 다른 함수 g는 반대로 1,4,9,...를 입력받아서 1,2,3,...을 출력하면 두 함수 f,g는 서로 역함수이다.\n",
    "- 함수 f의 역함수 f^-1기호로 표시한다.\n",
    "- y = f(x), -> x = f^-1(y)\n",
    "- 함수의 \"역함수\"와 함수의\"역수\"는 다르다는 점에 주의한다.\n",
    "- f^-1(x) = f(x) -1 = 1 / f(x)\n",
    "- 함수가 존재한다고 해서 항상 역함수가 존재할 수 있는 것은 아니다. 에를 들어 두 개의 서로 다른 x1, x2 값에 대해 y의 값이 y*로 같다고 하자. \n",
    "- f(x1) = y*\n",
    "- f(x2) = y*\n",
    "- 그러면, 반대로 y*에 대응하는 x값을 선택할 수 없기 때문에 역함수가 존재하지 않는다.\n",
    "- 예를 들어 다음 함수는 역함수가 존재하지 않는다.\n",
    "- f(x) = y^2\n",
    "- 이 함수의 역함수가 존재하려면 정의역을 양수로 제한해야 한다(x > 0)이 때는 다음과 같이 역함수가 존재한다.\n",
    "- f^-1(x) = square root of x"
   ]
  },
  {
   "cell_type": "markdown",
   "metadata": {},
   "source": [
    "#### 연습 문제 1\n",
    "- 1. 함수와 역함수의 또 다른 예를 생각해 보자.\n",
    "- 2. 원래의 함수 f에 들어갈 입력값 3개 x1,x2,x3와 그에 해당하는 출력값 3개 y1, y2, y3를 생각한다.\n",
    "- 3. 역함수에 y1,y2,y3를 입력해서 진짜로 x1,x2,x3이 나오는지 확인한다"
   ]
  },
  {
   "cell_type": "markdown",
   "metadata": {},
   "source": [
    "#### 함수의 그래프\n",
    "- 함수의 형상을 직관적으로 파악하기 위해 그래프(graph) 또는 플롯(plot)을 사용하기도 한다.\n",
    "- 파이썬에서는 matplotlib의 라인 플롯을 사용하여 그래프를 만들 수 있다.\n",
    "- 다만, matplotlib에서는 그래프를 작성할 영역을 작은 구간으로 나눈 독립 변수값 벡터 x를 생성하고, 이 위치에 대한 함수값 벡터 y를 하나하나 계산하여 이렇게 만들어진 점을 직선으로 연결하는 방식으로 플롯을 그린다. 따라서, 구간의 간격이 너무 크면 그래프가 부정확해지고 구간의 간격이 너무 작으면 계산 시간이 증가하여 메모리 등의 리소스가 낭비된다.\n",
    "matplotlib으로 다음과 같은 함수의 그래프를 그려보자\n",
    "- f(x) = x^3 - 3x^2 + x"
   ]
  },
  {
   "cell_type": "code",
   "execution_count": 6,
   "metadata": {},
   "outputs": [],
   "source": [
    "%matplotlib inline"
   ]
  },
  {
   "cell_type": "code",
   "execution_count": 6,
   "metadata": {},
   "outputs": [],
   "source": [
    "def f(x):\n",
    "    return x ** 3 - 3 * x ** 2 + x"
   ]
  },
  {
   "cell_type": "markdown",
   "metadata": {},
   "source": [
    "- 우선 x = -1부터 x = 3 까지, 0.5 간격으로 9개의 점을 찍는다."
   ]
  },
  {
   "cell_type": "code",
   "execution_count": 7,
   "metadata": {},
   "outputs": [
    {
     "data": {
      "text/plain": [
       "array([-1. , -0.5,  0. ,  0.5,  1. ,  1.5,  2. ,  2.5,  3. ])"
      ]
     },
     "execution_count": 7,
     "metadata": {},
     "output_type": "execute_result"
    }
   ],
   "source": [
    "x = np.linspace(-1, 3, 9)\n",
    "x"
   ]
  },
  {
   "cell_type": "markdown",
   "metadata": {},
   "source": [
    "- 그리고 이 위치에 대해 y = f(x) 값을 구한다"
   ]
  },
  {
   "cell_type": "code",
   "execution_count": 8,
   "metadata": {},
   "outputs": [],
   "source": [
    "y = f(x)"
   ]
  },
  {
   "cell_type": "code",
   "execution_count": 10,
   "metadata": {},
   "outputs": [
    {
     "data": {
      "text/plain": [
       "array([-1. , -0.5,  0. ,  0.5,  1. ,  1.5,  2. ,  2.5,  3. ])"
      ]
     },
     "execution_count": 10,
     "metadata": {},
     "output_type": "execute_result"
    }
   ],
   "source": [
    "x"
   ]
  },
  {
   "cell_type": "code",
   "execution_count": 11,
   "metadata": {},
   "outputs": [
    {
     "data": {
      "text/plain": [
       "array([-5.   , -1.375,  0.   , -0.125, -1.   , -1.875, -2.   , -0.625,\n",
       "        3.   ])"
      ]
     },
     "execution_count": 11,
     "metadata": {},
     "output_type": "execute_result"
    }
   ],
   "source": [
    "y"
   ]
  },
  {
   "cell_type": "markdown",
   "metadata": {},
   "source": [
    "- matplotlib가 그리는 그래프는 이 표에 나타난 x,y쌍을 직선으로 연결한 그림이다."
   ]
  },
  {
   "cell_type": "code",
   "execution_count": 12,
   "metadata": {},
   "outputs": [
    {
     "name": "stderr",
     "output_type": "stream",
     "text": [
      "C:\\ProgramData\\Anaconda3\\lib\\site-packages\\matplotlib\\font_manager.py:1320: UserWarning: findfont: Font family ['nanumgothic'] not found. Falling back to DejaVu Sans\n",
      "  (prop.get_family(), self.defaultFamily[fontext]))\n"
     ]
    },
    {
     "data": {
      "image/png": "[encoded data removed]",
      "text/plain": [
       "<matplotlib.figure.Figure at 0xbcec0f0>"
      ]
     },
     "metadata": {},
     "output_type": "display_data"
    }
   ],
   "source": [
    "plt.plot(x, y, 'ro-')\n",
    "plt.xlim(-2,4) # x축의 범위 제한\n",
    "plt.xticks(np.arange(-1, 4)) # x축\n",
    "plt.yticks(np.arange(-5, 4))\n",
    "plt.show()"
   ]
  },
  {
   "cell_type": "markdown",
   "metadata": {},
   "source": [
    "- 이 x,y벡터의 구간을 더 조밀하게 만들면, 그래프는 곡선으로 보이게 된다. 다음 그래프는 곡선으로 보이지만 실제로느느 약 400개의 직선이 연결된 것이다."
   ]
  },
  {
   "cell_type": "code",
   "execution_count": 13,
   "metadata": {},
   "outputs": [
    {
     "name": "stderr",
     "output_type": "stream",
     "text": [
      "C:\\ProgramData\\Anaconda3\\lib\\site-packages\\matplotlib\\font_manager.py:1320: UserWarning: findfont: Font family ['nanumgothic'] not found. Falling back to DejaVu Sans\n",
      "  (prop.get_family(), self.defaultFamily[fontext]))\n"
     ]
    },
    {
     "data": {
      "image/png": "[encoded data removed]",
      "text/plain": [
       "<matplotlib.figure.Figure at 0xbcec320>"
      ]
     },
     "metadata": {},
     "output_type": "display_data"
    }
   ],
   "source": [
    "x = np.linspace(-1, 3, 400)\n",
    "y = f(x)\n",
    "plt.plot(x, y)\n",
    "\n",
    "plt.xlim(-2, 4)\n",
    "plt.xticks(np.arange(-1,4))\n",
    "plt.yticks(np.arange(-5,4))\n",
    "\n",
    "plt.show()"
   ]
  },
  {
   "cell_type": "markdown",
   "metadata": {},
   "source": [
    "#### 역함수의 그래프\n",
    "- 역함수의 그래프는 원래의 함수에서 x축과 y축과 봐뀐 것이므로 y = x가 나타내는 직선(원점을 통과하는 기울기 1인 직선)을 대칭축으로 대칭인 함수의 그래프와 같다. "
   ]
  },
  {
   "cell_type": "markdown",
   "metadata": {},
   "source": [
    "#### 데이터 분석에서 많이 사용되는 함수들\n",
    "- 데이터 분석에서 많이 사용되는 함수의 형태는 다항식(polynomial)함수, 지수(exponential)함수, 로그(log)함수 등이다."
   ]
  },
  {
   "cell_type": "markdown",
   "metadata": {},
   "source": [
    "#### 다항식 함수\n",
    "- 다항식(polynomial)함수는 상수항 c, 일차항 cx, 이차항 cx^2,--- 등의 거듭제곱 항의 선형 조합으로 이루어진 함수이다. 다음은 단변수(uni-variate) 다항식 함수의 전형적인 형태이다. \n",
    "- f(x) = c0 + c1x + c2x^2 + - - - + cnx^n"
   ]
  },
  {
   "cell_type": "markdown",
   "metadata": {},
   "source": [
    "#### 지수 함수\n",
    "- 정해진 어떤 값을 입력 값으로 거듭제곱하여 출력을 구하는 함수를 생각하자.\n",
    "- y = a^x\n",
    "- 거듭제곱을 할 때 아래에 있는 수를 밑(base)라고 한다. 밑을 오일러 수 e(약2.718)로 하여 거듭제곱을 하는 함수를 **지수 함수(exponential function)**라고 한다.\n",
    "- y = e^x\n",
    "- 지수 함수는 다음처럼 표시 할 수 도 있다.\n",
    "- y = exp(x) = expx\n",
    "- 지수 함수는 다음과 같은 특성을 가진다.\n",
    "    - 양수(e)를 거듭제곱한 값이므로 항상 양수이다.\n",
    "    - x = 0 일 때, 1이 된다.\n",
    "    - x가 양의 무한대로 가면 (x -> 무한대), 양의 무한대로 다가간다.\n",
    "    - x가 음의 무한대로 가면 (x -> -무한대), 0으로 다가간다.\n",
    "    - x1 > x2 이면, expx1 > expx2이다\n",
    "- NumPy에서는 e명령으로 오일러 수를, exp명령으로 지수 함수를 계산한다. 여러가지 값을 대입하여 지수 함수의 값을 구해 위 성질이 성립하는지 살펴보자."
   ]
  },
  {
   "cell_type": "code",
   "execution_count": 5,
   "metadata": {},
   "outputs": [],
   "source": [
    "import numpy as np\n",
    "import pandas as pd"
   ]
  },
  {
   "cell_type": "code",
   "execution_count": 15,
   "metadata": {},
   "outputs": [
    {
     "data": {
      "text/plain": [
       "2.718281828459045"
      ]
     },
     "execution_count": 15,
     "metadata": {},
     "output_type": "execute_result"
    }
   ],
   "source": [
    "np.e"
   ]
  },
  {
   "cell_type": "code",
   "execution_count": 16,
   "metadata": {},
   "outputs": [
    {
     "data": {
      "text/plain": [
       "(4.5399929762484854e-05,\n",
       " 0.36787944117144233,\n",
       " 0.9048374180359595,\n",
       " 1.0,\n",
       " 1.1051709180756477,\n",
       " 2.718281828459045,\n",
       " 22026.465794806718)"
      ]
     },
     "execution_count": 16,
     "metadata": {},
     "output_type": "execute_result"
    }
   ],
   "source": [
    "np.exp(-10), np.exp(-1), np.exp(-0.1), np.exp(0), np.exp(0.1), np.exp(1), np.exp(10)"
   ]
  },
  {
   "cell_type": "markdown",
   "metadata": {},
   "source": [
    "- 위 특성에 의해 지수 함수의 그래프는 다음처럼 그려진다."
   ]
  },
  {
   "cell_type": "code",
   "execution_count": 19,
   "metadata": {},
   "outputs": [
    {
     "name": "stderr",
     "output_type": "stream",
     "text": [
      "C:\\ProgramData\\Anaconda3\\lib\\site-packages\\matplotlib\\font_manager.py:1320: UserWarning: findfont: Font family ['nanumgothic'] not found. Falling back to DejaVu Sans\n",
      "  (prop.get_family(), self.defaultFamily[fontext]))\n"
     ]
    },
    {
     "data": {
      "image/png": "[encoded data removed]",
      "text/plain": [
       "<matplotlib.figure.Figure at 0xbc5be48>"
      ]
     },
     "metadata": {},
     "output_type": "display_data"
    }
   ],
   "source": [
    "xx = np.linspace(-2, 2, 100)\n",
    "yy = np.exp(xx)\n",
    "plt.plot(xx, yy)\n",
    "plt.axhline(1, c='r', ls='--')\n",
    "plt.axhline(0, c='r', ls='--')\n",
    "plt.axvline(0, c='r', ls='--')\n",
    "plt.show()"
   ]
  },
  {
   "cell_type": "markdown",
   "metadata": {},
   "source": [
    "- 두 지수 함수의 곱의 값은 입력 값의 합의 지수 함수 값과 같다. \n",
    "- e^x1*e^x2 = e^(x1+x2)"
   ]
  },
  {
   "cell_type": "code",
   "execution_count": 20,
   "metadata": {},
   "outputs": [
    {
     "data": {
      "text/plain": [
       "(148.4131591025766, 148.4131591025766)"
      ]
     },
     "execution_count": 20,
     "metadata": {},
     "output_type": "execute_result"
    }
   ],
   "source": [
    "np.exp(2 + 3), np.exp(2) * np.exp(3)"
   ]
  },
  {
   "cell_type": "markdown",
   "metadata": {},
   "source": [
    "#### 로그 함수\n",
    "- e를 거듭제곱하여 특정한 값이 되는 수를 찾아야 할 때가 있다. 예를 들어 e를 제곱하면 약 7.3이 되고 세제곱하면 약 20이 된다. 그렇다면 몇 제곱을 해야 10이라는 값이 될까?"
   ]
  },
  {
   "cell_type": "code",
   "execution_count": 21,
   "metadata": {},
   "outputs": [
    {
     "data": {
      "text/plain": [
       "(7.38905609893065, 20.085536923187668)"
      ]
     },
     "execution_count": 21,
     "metadata": {},
     "output_type": "execute_result"
    }
   ],
   "source": [
    "np.exp(2), np.exp(3)"
   ]
  },
  {
   "cell_type": "markdown",
   "metadata": {},
   "source": [
    "- 약 2.3025851 제곱을 하면 10이 되는 것을 확인 할 수 있다. 이렇게 e를 거듭제곱하여 특정한 a가 되도록 해주는 숫자를 log a라고 하고 log라고 읽는다."
   ]
  },
  {
   "cell_type": "code",
   "execution_count": 22,
   "metadata": {},
   "outputs": [
    {
     "data": {
      "text/plain": [
       "10.000000070059542"
      ]
     },
     "execution_count": 22,
     "metadata": {},
     "output_type": "execute_result"
    }
   ],
   "source": [
    "np.exp(2.3025851)"
   ]
  },
  {
   "cell_type": "markdown",
   "metadata": {},
   "source": [
    "- NumPy에서 로그 함수 명령은 log이다."
   ]
  },
  {
   "cell_type": "code",
   "execution_count": 23,
   "metadata": {},
   "outputs": [
    {
     "data": {
      "text/plain": [
       "2.302585092994046"
      ]
     },
     "execution_count": 23,
     "metadata": {},
     "output_type": "execute_result"
    }
   ],
   "source": [
    "np.log(10)"
   ]
  },
  {
   "cell_type": "markdown",
   "metadata": {},
   "source": [
    "- 지수함수에서 밑이 e가 아닌 경우에는 다음처럼 로그를 이용하여 계산할 수 있다.\n",
    "- y=a^x = (e^loga)^x = e ^ xloga\n",
    "- 로그는 지수함수의 출력이 특정한 값이 되게 하는 입력을 찾는 것이므로 지수함수의 역함수이다.\n",
    "y = log x\n",
    "- 로그 함수는 다음과 같은 특징을 가진다.\n",
    "    - x값, 즉 입력 변수값이 양수이어야 한다. 0이거나 음수이면 정의되지 않는다. \n",
    "    - x > 1이면 양수가 된다.\n",
    "    - x = 1일 때, y = 0이 된다. \n",
    "    - 0 < x < 1 이면, 음수가 된다.\n",
    "    - x1 > x2 이면, log x1 > log x2이다.\n",
    "- 로그 함수의 그래프는 다음과 같은 형태를 띈다."
   ]
  },
  {
   "cell_type": "code",
   "execution_count": 26,
   "metadata": {},
   "outputs": [
    {
     "name": "stderr",
     "output_type": "stream",
     "text": [
      "C:\\ProgramData\\Anaconda3\\lib\\site-packages\\matplotlib\\font_manager.py:1320: UserWarning: findfont: Font family ['nanumgothic'] not found. Falling back to DejaVu Sans\n",
      "  (prop.get_family(), self.defaultFamily[fontext]))\n"
     ]
    },
    {
     "data": {
      "image/png": "[encoded data removed]",
      "text/plain": [
       "<matplotlib.figure.Figure at 0xc0135f8>"
      ]
     },
     "metadata": {},
     "output_type": "display_data"
    }
   ],
   "source": [
    "xx = np.linspace(0.01, 8, 100)\n",
    "yy = np.log(xx)\n",
    "\n",
    "plt.plot(xx, yy)\n",
    "plt.axhline(0, c='r', ls='--')\n",
    "plt.axvline(0, c='r', ls='--')\n",
    "plt.axvline(1, c='r', ls='--')\n",
    "plt.show()\n"
   ]
  },
  {
   "cell_type": "markdown",
   "metadata": {},
   "source": [
    "- log 함수는 확률론에서 가장 많이 사용되는 함수이다. 그 이유는 로그 함수가 가지는 다음과 같은 특이한 성질때문이다."
   ]
  },
  {
   "cell_type": "markdown",
   "metadata": {},
   "source": [
    "### 로그 함수의 성질 1: 로그 함수는 곱하기를 더하기로 변환한다.\n",
    "- log(x1 * x2) = logx1 + logx2\n",
    "- log x^n = n*log x"
   ]
  },
  {
   "cell_type": "markdown",
   "metadata": {},
   "source": [
    "#### 연습문제 3\n",
    "- log2의 값은 약 0.69, log3의 값은 약 1.10이다. 이 때 log 12의 값을 구하라"
   ]
  },
  {
   "cell_type": "code",
   "execution_count": 27,
   "metadata": {},
   "outputs": [
    {
     "data": {
      "text/plain": [
       "2.48"
      ]
     },
     "execution_count": 27,
     "metadata": {},
     "output_type": "execute_result"
    }
   ],
   "source": [
    "0.69+0.69+1.10"
   ]
  },
  {
   "cell_type": "code",
   "execution_count": 28,
   "metadata": {},
   "outputs": [
    {
     "data": {
      "text/plain": [
       "2.4849066497880004"
      ]
     },
     "execution_count": 28,
     "metadata": {},
     "output_type": "execute_result"
    }
   ],
   "source": [
    "np.log(2) + np.log(2) + np.log(3)"
   ]
  },
  {
   "cell_type": "code",
   "execution_count": 29,
   "metadata": {},
   "outputs": [
    {
     "data": {
      "text/plain": [
       "2.4849066497880004"
      ]
     },
     "execution_count": 29,
     "metadata": {},
     "output_type": "execute_result"
    }
   ],
   "source": [
    "np.log(12)"
   ]
  },
  {
   "cell_type": "markdown",
   "metadata": {},
   "source": [
    "### 로그 함수의 성질 2: 어떤 함수에 로그를 적용해도 함수의 최고점, 최저점의 위치는 변하지 않는다."
   ]
  },
  {
   "cell_type": "markdown",
   "metadata": {},
   "source": [
    "- 만약 양수값만을 가지는 함수가 있을 때, 이 함수에 다시 로그함수를 적용하면 높낮이는 바뀌지만, 최고점이나 최저점의 위치는 바뀌지 않는다. 따라서, 최적화를 할 때, 원래의 함수가 아니라 로그를 취한 함수에 대해 최적화를 실시하는 경우가 많다.\n",
    "- argmaxf(x) = argmaxlogf(x)"
   ]
  },
  {
   "cell_type": "code",
   "execution_count": 30,
   "metadata": {
    "scrolled": true
   },
   "outputs": [
    {
     "name": "stderr",
     "output_type": "stream",
     "text": [
      "C:\\ProgramData\\Anaconda3\\lib\\site-packages\\matplotlib\\font_manager.py:1320: UserWarning: findfont: Font family ['nanumgothic'] not found. Falling back to DejaVu Sans\n",
      "  (prop.get_family(), self.defaultFamily[fontext]))\n"
     ]
    },
    {
     "data": {
      "image/png": "[encoded data removed]",
      "text/plain": [
       "<matplotlib.figure.Figure at 0xbe6fba8>"
      ]
     },
     "metadata": {},
     "output_type": "display_data"
    }
   ],
   "source": [
    "def ff(x):\n",
    "    return x**3 - 12*x + 20*np.sin(x) + 7\n",
    "\n",
    "xx = np.linspace(-4, 4, 300)\n",
    "yy = ff(xx)\n",
    "\n",
    "plt.subplot(211) # matrix size\n",
    "plt.plot(xx,yy)\n",
    "plt.axhline(1, c='r', ls='--')\n",
    "plt.title('f(x)')\n",
    "\n",
    "plt.subplot(212) # \n",
    "plt.plot(xx, np.log(yy))\n",
    "plt.axhline(0, c='r', ls='--')\n",
    "plt.title('log f(x)')\n",
    "\n",
    "plt.tight_layout()\n",
    "plt.show()"
   ]
  },
  {
   "cell_type": "markdown",
   "metadata": {},
   "source": [
    "### 로그 함수의 성질 3: 로그 함수는 0부터 1사이의 작은 값을 확대시켜 보여준다. \n",
    "- 로그함수는 0부터 1사이의 구간을 음의 무한대부터 0까지로 확장시켜주기 때문에, 확률값처럼 0과 1사이에는 있는 작은 값을 더 확실하게 비교할 수 있도록 한다."
   ]
  },
  {
   "cell_type": "code",
   "execution_count": 32,
   "metadata": {},
   "outputs": [
    {
     "name": "stderr",
     "output_type": "stream",
     "text": [
      "C:\\ProgramData\\Anaconda3\\lib\\site-packages\\matplotlib\\font_manager.py:1320: UserWarning: findfont: Font family ['nanumgothic'] not found. Falling back to DejaVu Sans\n",
      "  (prop.get_family(), self.defaultFamily[fontext]))\n"
     ]
    },
    {
     "data": {
      "image/png": "[encoded data removed]",
      "text/plain": [
       "<matplotlib.figure.Figure at 0xc556be0>"
      ]
     },
     "metadata": {},
     "output_type": "display_data"
    }
   ],
   "source": [
    "np.random.seed(0)\n",
    "x = np.random.rand(5)\n",
    "x = x / x.sum()\n",
    "\n",
    "plt.subplot(211)\n",
    "plt.bar(range(1, 6), x)\n",
    "plt.ylim(0,1)\n",
    "\n",
    "plt.subplot(212)\n",
    "plt.bar(range(1, 6), np.log(x))\n",
    "\n",
    "plt.show()"
   ]
  },
  {
   "cell_type": "markdown",
   "metadata": {},
   "source": [
    "#### 다변수 함수\n",
    "- 함수는 복수의 입력 변수를 가질 수도 있다. 이러한 함수를 **다변수 함수(multivariate function)**이라고 한다. 예를 들어 다음 수식은 함수 f가 2개의 입력 변수 x,y를 받아서 변수 z를 출력하는 다변수 함수라는 뜻이다. \n",
    "- z = f(x, y)\n",
    "- 다음은 다변수의 함수의 예이다.\n",
    "- f(x, y) = 2x^2 + 6xy +7y^2 - 26x - 54y + 107\n",
    "- 2개의 독립 변수를 가지는 함수 f(x,y)는 다음처럼 3차원 서피스 플롯(surface plot), 또는 컨투어 플롯(contour plot)으로 나타낼 수 있다."
   ]
  },
  {
   "cell_type": "code",
   "execution_count": 2,
   "metadata": {},
   "outputs": [],
   "source": [
    "def f(x,y):\n",
    "    return 2 * x ** 2 + 6 * x * y + 7 * y ** 2 - 26 * x - 54 * y + 107\n",
    "\n",
    "xx = np.linspace(-5, 5, 100)\n",
    "yy = np.linspace(-4, 4, 100)\n",
    "X, Y = np.meshgrid(xx, yy)\n",
    "Z = f(X, Y)"
   ]
  },
  {
   "cell_type": "code",
   "execution_count": 3,
   "metadata": {},
   "outputs": [],
   "source": [
    "from mpl_toolkits.mplot3d import Axes3D\n",
    "\n",
    "fig = plt.figure()\n",
    "fig.gca(projection='3d').plot_surface(X, Y, Z)\n",
    "plt.xlabel('x')\n",
    "plt.ylabel('y')\n",
    "plt.title('Surface Plot')\n",
    "plt.show()"
   ]
  },
  {
   "cell_type": "code",
   "execution_count": 4,
   "metadata": {},
   "outputs": [],
   "source": [
    "CS = plt.contour(X, Y, Z, levels=np.arange(0, 300, 20))\n",
    "plt.clabel(CS, fmt='%d')\n",
    "plt.title('Contour Plot')\n",
    "plt.show()"
   ]
  },
  {
   "cell_type": "markdown",
   "metadata": {},
   "source": [
    "- 다음 함수는 다변수 함수의 곱으로 표현 가능한 다변수 함수이다. 이러한 특수한 다변수 함수는 추후 확률변수에서 중요한 역할을 한다.\n",
    "- g(x, y) = exp(-x^2 - 16y^2) = exp(-x^2)exp(-16y^2) = g1(x)g2(y)"
   ]
  },
  {
   "cell_type": "code",
   "execution_count": 8,
   "metadata": {},
   "outputs": [],
   "source": [
    "def g1(x):\n",
    "    return np.exp(-x ** 2)\n",
    "\n",
    "def g2(y):\n",
    "    return np.exp(-16 * y ** 2)\n",
    "\n",
    "def g(x,y):\n",
    "    return g1(x) * g2(y)\n",
    "\n",
    "xx = np.linspace(-1, 1, 100)\n",
    "yy = np.linspace(-1, 1, 100)\n",
    "X, Y = np.meshgrid(xx, yy)\n",
    "Z = g(X, Y)"
   ]
  },
  {
   "cell_type": "code",
   "execution_count": 11,
   "metadata": {},
   "outputs": [
    {
     "name": "stderr",
     "output_type": "stream",
     "text": [
      "C:\\ProgramData\\Anaconda3\\lib\\site-packages\\matplotlib\\font_manager.py:1320: UserWarning: findfont: Font family ['nanumgothic'] not found. Falling back to DejaVu Sans\n",
      "  (prop.get_family(), self.defaultFamily[fontext]))\n"
     ]
    },
    {
     "data": {
      "image/png": "[encoded data removed]",
      "text/plain": [
       "<matplotlib.figure.Figure at 0xc578f98>"
      ]
     },
     "metadata": {},
     "output_type": "display_data"
    }
   ],
   "source": [
    "from matplotlib import transforms \n",
    "from matplotlib.ticker import NullFormatter\n",
    "\n",
    "left, width = 0.1, 0.65\n",
    "bottom, height = 0.1, 0.65\n",
    "bottom_h = left_h = left + width + 0.02\n",
    "rect = [left, bottom, width, height]\n",
    "rectx = [left, bottom_h, width, 0.2]\n",
    "recty = [left_h, bottom, 0.2, height]\n",
    "\n",
    "plt.figure(1, figsize=(8,8))\n",
    "ax = plt.axes(rect)\n",
    "axx = plt.axes(rectx)\n",
    "axy = plt.axes(recty)\n",
    "\n",
    "nullfmt = NullFormatter()\n",
    "axx.xaxis.set_major_formatter(nullfmt)\n",
    "axy.yaxis.set_major_formatter(nullfmt)\n",
    "\n",
    "ax.contour(X, Y, Z)\n",
    "ax.axhline(0, c='r', ls='--')\n",
    "ax.axhline(0.1, c= 'r', ls='--')\n",
    "ax.axhline(0.2, c='r', ls='--')\n",
    "ax.axhline(0.3, c='r', ls='--')\n",
    "ax.axhline(0.4, c='r', ls='--')\n",
    "ax.set_xlabel('x')\n",
    "ax.set_ylabel('y')\n",
    "\n",
    "axx.plot(xx, g1(xx))\n",
    "axx.plot(xx, g2(0.1) * g1(xx), c='lightgray')\n",
    "axx.plot(xx, g2(0.2) * g1(xx), c='lightgray')\n",
    "axx.plot(xx, g2(0.3) * g1(xx), c='lightgray')\n",
    "axx.plot(xx, g2(0.4) * g1(xx), c='lightgray')\n",
    "axx.set_title('g1(x)')\n",
    "\n",
    "base = axy.transData\n",
    "rot=transforms.Affine2D().rotate_deg(-90)\n",
    "axy.plot(yy, g2(yy), transform=rot + base)\n",
    "axy.set_title('g2(y)')\n",
    "axy.axhline(0, c='r', ls='--')\n",
    "axy.axhline(0.1, c='r', ls='--')\n",
    "axy.axhline(0.2, c='r', ls='--')\n",
    "axy.axhline(0.3, c='r', ls='--')\n",
    "axy.axhline(0.4, c='r', ls='--')\n",
    "\n",
    "axx.set_xlim(ax.get_xlim())\n",
    "axy.set_ylim(ax.get_ylim())\n",
    "\n",
    "plt.show()"
   ]
  },
  {
   "cell_type": "markdown",
   "metadata": {},
   "source": [
    "#### 다변수 다출력 함수\n",
    "- 어떤 함수는 입력 변수 뿐 아니라 출력 변수도 여러개일 수 있다. 이 경우에는 출력을 벡터나 행렬로 나타낼 수 있다.\n",
    "- 다음 함수는 3차원 softmax라는 함수이다. 이 함수는 3차원 벡터를 입력받아 3차원 벡터를 출력한다. 출력 벡터는 다음과 같은 특성을 가진다.\n",
    "    - 모든 원소는 0와 1사이의 값을 가진다.\n",
    "    - 모든 원소의 합은 1이다.\n",
    "    - 입력 원소들의 크기 순서와 출력 원소들의 크기 순서가 같다. \n",
    "    - 입력 원소들의 크기 순서와 출력 원소들의 크기 순서가 같다.\n",
    "    [y1                    [exp(w1x1) / exp(w1x1) + exp(w2x2) + exp(w3x3)\n",
    "     y2   = h(x1,x2,x3) =   exp(w2x2) / exp(w1x1) + exp(w2x2) + exp(w3x3)\n",
    "     y3]                    exp(w3x3) / exp(w1x1) + exp(w2x2) + exp(w3x3)]\n",
    "    "
   ]
  },
  {
   "cell_type": "code",
   "execution_count": 12,
   "metadata": {},
   "outputs": [
    {
     "data": {
      "text/plain": [
       "array([0.62853172, 0.2312239 , 0.14024438])"
      ]
     },
     "execution_count": 12,
     "metadata": {},
     "output_type": "execute_result"
    }
   ],
   "source": [
    "def softmax(x, w): # x는 1차원 배열, w는 가중치 벡터\n",
    "    e = np.exp(w * x)\n",
    "    return np. exp(w * x) / e.sum()\n",
    "\n",
    "x = [2.0, 1.0, 0.5]\n",
    "y = softmax(x, np.ones(3))\n",
    "y"
   ]
  },
  {
   "cell_type": "code",
   "execution_count": 13,
   "metadata": {},
   "outputs": [
    {
     "data": {
      "text/plain": [
       "1.0"
      ]
     },
     "execution_count": 13,
     "metadata": {},
     "output_type": "execute_result"
    }
   ],
   "source": [
    "np.sum(y)"
   ]
  },
  {
   "cell_type": "code",
   "execution_count": 14,
   "metadata": {},
   "outputs": [
    {
     "data": {
      "text/plain": [
       "array([0.97962921, 0.01794253, 0.00242826])"
      ]
     },
     "execution_count": 14,
     "metadata": {},
     "output_type": "execute_result"
    }
   ],
   "source": [
    "softmax(x, 4 * np.ones(3))"
   ]
  },
  {
   "cell_type": "code",
   "execution_count": null,
   "metadata": {},
   "outputs": [],
   "source": []
  }
 ],
 "metadata": {
  "kernelspec": {
   "display_name": "Python 3",
   "language": "python",
   "name": "python3"
  },
  "language_info": {
   "codemirror_mode": {
    "name": "ipython",
    "version": 3
   },
   "file_extension": ".py",
   "mimetype": "text/x-python",
   "name": "python",
   "nbconvert_exporter": "python",
   "pygments_lexer": "ipython3",
   "version": "3.6.4"
  }
 },
 "nbformat": 4,
 "nbformat_minor": 2
}
