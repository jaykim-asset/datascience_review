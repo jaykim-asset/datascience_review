{
 "cells": [
  {
   "cell_type": "markdown",
   "metadata": {},
   "source": [
    "#### Install scrapy\n",
    "   - windows\n",
    "       - conda install -c conda-forge scrapy"
   ]
  },
  {
   "cell_type": "markdown",
   "metadata": {},
   "source": [
    "#### xpath \n",
    "- xpath 기본 문법\n",
    "- xpath 실습\n",
    "    - scrapy shell(ipython), jupyter notebook\n",
    "    - 네이버 키워드 데이터 수집, 다음 키워드 데이터 수집, gmarket 베스트 상품 데이터 수집\n",
    "     - scrapy project\n",
    "         - scrapy 파일 디렉토리 구조 및 각 파일에 대한 설명\n",
    "         - crawler\n",
    "             - naver 현재 상영 영화 링크\n",
    "             - 각각의 영화 링크에서 영화 제목, 관객수를 크롤링\n",
    "             - csv 파일로 저장\n",
    "             - pipeline을 이용하여 csv 파일로 저장\n",
    "             "
   ]
  },
  {
   "cell_type": "code",
   "execution_count": 2,
   "metadata": {},
   "outputs": [],
   "source": [
    "import scrapy"
   ]
  },
  {
   "cell_type": "markdown",
   "metadata": {},
   "source": [
    "#### xpath 문법\n",
    "- 네이버 영화 제목 xpath - `//*[@id='content']/div[1]/div[2]/div[1]/h3/a[1]`\n",
    "- `//`: 가장 상위 엘리먼트\n",
    "- `*`: css selector 하위 엘리먼트를 선택할 때 'div a'과 같습니다. 모든 하위 엘리먼트를 검색\n",
    "- `[@<key>=<value>]`: @ 속성값 attribute를 의미\n",
    "    - `[@id='content']` : id가 content인 엘리먼트를 선택\n",
    "- `/`: css selector에서 ` > `와 같습니다. 1단계 아래 하위 엘리먼트를 검색\n",
    "- div : element 이름\n",
    "- `[<number>]`: number 번째의 엘리먼트를 선택 (0부터 시작이 아니라 1부터 시작함)\n",
    "- `not`: `not(조건)`, `not(@class='test')` - class test가 아닌 엘리먼트를 선택\n",
    "- `.`: 현재 엘리먼트를 의미"
   ]
  },
  {
   "cell_type": "markdown",
   "metadata": {},
   "source": [
    "#### Scrapy shell을 이용\n",
    "- `$ scrapy shell \"<url>\"`\n",
    "- 네이버 실시간 검색어\n",
    "- 다음 실시간 검색어\n",
    "- gmarket 베스트 아이템"
   ]
  },
  {
   "cell_type": "markdown",
   "metadata": {},
   "source": [
    "#### naver 실시간 검색어\n",
    "- `response.xpath('//*[@id=\"PM_ID_ct\"]/div[1]/div[2]/div[2]/div[1]/div/ul/li[1]/a/span[2]')`"
   ]
  },
  {
   "cell_type": "markdown",
   "metadata": {},
   "source": [
    "#### Jupyter notebook 사용\n",
    "#### naver 실시간 검색어\n"
   ]
  },
  {
   "cell_type": "code",
   "execution_count": 3,
   "metadata": {},
   "outputs": [],
   "source": [
    "import requests\n",
    "from scrapy.http import TextResponse"
   ]
  },
  {
   "cell_type": "code",
   "execution_count": 4,
   "metadata": {},
   "outputs": [],
   "source": [
    "req = requests.get('http://naver.com')\n",
    "response = TextResponse(req.url, body=req.text, encoding='utf-8')"
   ]
  },
  {
   "cell_type": "code",
   "execution_count": 9,
   "metadata": {},
   "outputs": [
    {
     "data": {
      "text/plain": [
       "[<Selector xpath='//*[@id=\"PM_ID_ct\"]/div[1]/div[2]/div[2]/div[1]/div/ul/li[1]/a/span[2]' data='<span class=\"ah_k\">대구 수돗물</span>'>]"
      ]
     },
     "execution_count": 9,
     "metadata": {},
     "output_type": "execute_result"
    }
   ],
   "source": [
    "# 네이버 실시간 검색어 1위 객체 선택\n",
    "response.xpath('//*[@id=\"PM_ID_ct\"]/div[1]/div[2]/div[2]/div[1]/div/ul/li[1]/a/span[2]')"
   ]
  },
  {
   "cell_type": "code",
   "execution_count": 10,
   "metadata": {},
   "outputs": [
    {
     "data": {
      "text/plain": [
       "[<Selector xpath='//*[@id=\"PM_ID_ct\"]/div[1]/div[2]/div[2]/div[1]/div/ul/li/a/span[2]' data='<span class=\"ah_k\">대구 수돗물</span>'>,\n",
       " <Selector xpath='//*[@id=\"PM_ID_ct\"]/div[1]/div[2]/div[2]/div[1]/div/ul/li/a/span[2]' data='<span class=\"ah_k\">조정석</span>'>,\n",
       " <Selector xpath='//*[@id=\"PM_ID_ct\"]/div[1]/div[2]/div[2]/div[1]/div/ul/li/a/span[2]' data='<span class=\"ah_k\">거미</span>'>,\n",
       " <Selector xpath='//*[@id=\"PM_ID_ct\"]/div[1]/div[2]/div[2]/div[1]/div/ul/li/a/span[2]' data='<span class=\"ah_k\">오나라</span>'>,\n",
       " <Selector xpath='//*[@id=\"PM_ID_ct\"]/div[1]/div[2]/div[2]/div[1]/div/ul/li/a/span[2]' data='<span class=\"ah_k\">진서연</span>'>,\n",
       " <Selector xpath='//*[@id=\"PM_ID_ct\"]/div[1]/div[2]/div[2]/div[1]/div/ul/li/a/span[2]' data='<span class=\"ah_k\">월드컵 조별순위</span>'>,\n",
       " <Selector xpath='//*[@id=\"PM_ID_ct\"]/div[1]/div[2]/div[2]/div[1]/div/ul/li/a/span[2]' data='<span class=\"ah_k\">아르헨티나 크로아티아</span>'>,\n",
       " <Selector xpath='//*[@id=\"PM_ID_ct\"]/div[1]/div[2]/div[2]/div[1]/div/ul/li/a/span[2]' data='<span class=\"ah_k\">밥블레스유</span>'>,\n",
       " <Selector xpath='//*[@id=\"PM_ID_ct\"]/div[1]/div[2]/div[2]/div[1]/div/ul/li/a/span[2]' data='<span class=\"ah_k\">아르헨티나 크로아티아 하이라이트</sp'>,\n",
       " <Selector xpath='//*[@id=\"PM_ID_ct\"]/div[1]/div[2]/div[2]/div[1]/div/ul/li/a/span[2]' data='<span class=\"ah_k\">아르헨티나</span>'>,\n",
       " <Selector xpath='//*[@id=\"PM_ID_ct\"]/div[1]/div[2]/div[2]/div[1]/div/ul/li/a/span[2]' data='<span class=\"ah_k\">진에어</span>'>,\n",
       " <Selector xpath='//*[@id=\"PM_ID_ct\"]/div[1]/div[2]/div[2]/div[1]/div/ul/li/a/span[2]' data='<span class=\"ah_k\">오나라 남자친구</span>'>,\n",
       " <Selector xpath='//*[@id=\"PM_ID_ct\"]/div[1]/div[2]/div[2]/div[1]/div/ul/li/a/span[2]' data='<span class=\"ah_k\">아이디어주방도구</span>'>,\n",
       " <Selector xpath='//*[@id=\"PM_ID_ct\"]/div[1]/div[2]/div[2]/div[1]/div/ul/li/a/span[2]' data='<span class=\"ah_k\">오나라 나이</span>'>,\n",
       " <Selector xpath='//*[@id=\"PM_ID_ct\"]/div[1]/div[2]/div[2]/div[1]/div/ul/li/a/span[2]' data='<span class=\"ah_k\">독전</span>'>,\n",
       " <Selector xpath='//*[@id=\"PM_ID_ct\"]/div[1]/div[2]/div[2]/div[1]/div/ul/li/a/span[2]' data='<span class=\"ah_k\">크로아티아</span>'>,\n",
       " <Selector xpath='//*[@id=\"PM_ID_ct\"]/div[1]/div[2]/div[2]/div[1]/div/ul/li/a/span[2]' data='<span class=\"ah_k\">와일드</span>'>,\n",
       " <Selector xpath='//*[@id=\"PM_ID_ct\"]/div[1]/div[2]/div[2]/div[1]/div/ul/li/a/span[2]' data='<span class=\"ah_k\">이장희</span>'>,\n",
       " <Selector xpath='//*[@id=\"PM_ID_ct\"]/div[1]/div[2]/div[2]/div[1]/div/ul/li/a/span[2]' data='<span class=\"ah_k\">라키티치</span>'>,\n",
       " <Selector xpath='//*[@id=\"PM_ID_ct\"]/div[1]/div[2]/div[2]/div[1]/div/ul/li/a/span[2]' data='<span class=\"ah_k\">mbc 기분좋은날</span>'>]"
      ]
     },
     "execution_count": 10,
     "metadata": {},
     "output_type": "execute_result"
    }
   ],
   "source": [
    "# 네이버 실시간 검색어 20개 객체 선택\n",
    "response.xpath('//*[@id=\"PM_ID_ct\"]/div[1]/div[2]/div[2]/div[1]/div/ul/li/a/span[2]')"
   ]
  },
  {
   "cell_type": "code",
   "execution_count": 12,
   "metadata": {},
   "outputs": [
    {
     "data": {
      "text/plain": [
       "['대구 수돗물',\n",
       " '조정석',\n",
       " '거미',\n",
       " '오나라',\n",
       " '진서연',\n",
       " '월드컵 조별순위',\n",
       " '아르헨티나 크로아티아',\n",
       " '밥블레스유',\n",
       " '아르헨티나 크로아티아 하이라이트',\n",
       " '아르헨티나',\n",
       " '진에어',\n",
       " '오나라 남자친구',\n",
       " '아이디어주방도구',\n",
       " '오나라 나이',\n",
       " '독전',\n",
       " '크로아티아',\n",
       " '와일드',\n",
       " '이장희',\n",
       " '라키티치',\n",
       " 'mbc 기분좋은날']"
      ]
     },
     "execution_count": 12,
     "metadata": {},
     "output_type": "execute_result"
    }
   ],
   "source": [
    "# 네이버 실시간 검색어 20개 객체에서 문자열 선택\n",
    "response.xpath('//*[@id=\"PM_ID_ct\"]/div[1]/div[2]/div[2]/div[1]/div/ul/li/a/span[2]/text()').extract()"
   ]
  },
  {
   "cell_type": "code",
   "execution_count": 13,
   "metadata": {},
   "outputs": [],
   "source": [
    "# 다음에 10개의 문자 키워드 출력\n",
    "req = requests.get('https://daum.net')\n",
    "response = TextResponse(req.url, body=req.text, encoding='utf-8')"
   ]
  },
  {
   "cell_type": "code",
   "execution_count": 29,
   "metadata": {},
   "outputs": [
    {
     "data": {
      "text/plain": [
       "['거미',\n",
       " '조정석',\n",
       " '대구 수돗물',\n",
       " '진에어',\n",
       " '개그 아이돌',\n",
       " '크로아티아',\n",
       " '릴리',\n",
       " '아르헨티나',\n",
       " '김동철',\n",
       " '경상남도 교육청']"
      ]
     },
     "execution_count": 29,
     "metadata": {},
     "output_type": "execute_result"
    }
   ],
   "source": [
    "response.xpath('//*[@id=\"mArticle\"]/div[2]/div[2]/div[3]/div[1]/ol/li/div/div[1]/span[2]/a/text()').extract()"
   ]
  },
  {
   "cell_type": "code",
   "execution_count": 30,
   "metadata": {},
   "outputs": [],
   "source": [
    "# gmarket 베스트 아이템\n",
    "req = requests.get('http://corners.gmarket.co.kr/Bestsellers')\n",
    "response = TextResponse(req.url, body=req.text, encoding='utf-8')"
   ]
  },
  {
   "cell_type": "code",
   "execution_count": 31,
   "metadata": {},
   "outputs": [
    {
     "data": {
      "text/plain": [
       "[<Selector xpath='//*[@id=\"1428416897\"]/a' data='<a class=\"itemname\" href=\"http://item.gm'>]"
      ]
     },
     "execution_count": 31,
     "metadata": {},
     "output_type": "execute_result"
    }
   ],
   "source": [
    "# 베스트 200 아이템의 제목\n",
    "response.xpath('//*[@id=\"1428416897\"]/a')"
   ]
  },
  {
   "cell_type": "code",
   "execution_count": 34,
   "metadata": {},
   "outputs": [
    {
     "data": {
      "text/plain": [
       "(50,\n",
       " ['[빕스](빕스) 평일 런치 샐러드바1인',\n",
       "  '+여름 반팔티+ 빅사이즈77-99 롱/루즈핏/스트라이프',\n",
       "  '1+1 여름 신상품 워싱스프레드(Q)',\n",
       "  '[앤디애플]아동복/상하복/반바지/원피스/치마/레깅스/반팔',\n",
       "  '[홈닥터]저주파마사지기 홈닥터 HD SYK-2018 저주파안마기'])"
      ]
     },
     "execution_count": 34,
     "metadata": {},
     "output_type": "execute_result"
    }
   ],
   "source": [
    "# li 엘리먼트에서 class가 first 인 값만 가져오기\n",
    "titles = response.xpath('//*[@id=\"gBestWrap\"]/div/div[3]/div[2]/ul/li[@class=\"first\"]/a/text()').extract()\n",
    "len(titles), titles[:5]"
   ]
  },
  {
   "cell_type": "code",
   "execution_count": 35,
   "metadata": {},
   "outputs": [
    {
     "data": {
      "text/plain": [
       "(150,\n",
       " ['[빕스](빕스) 평일 디너/주말 샐러드바1인',\n",
       "  '모스트맘 쿨하게가즈아~ 냉감 쿨세트/원피스/파자마',\n",
       "  '[크리넥스]크리넥스 마이비데리필 46매10팩/물티슈/화장지/휴지',\n",
       "  '사은품 여름모자/여름가방/아동/리본햇/라탄백',\n",
       "  '데일리콤마 디퓨저 본품 100ml 1+1+1+1 /신향 출시'])"
      ]
     },
     "execution_count": 35,
     "metadata": {},
     "output_type": "execute_result"
    }
   ],
   "source": [
    "# li 엘리먼트에서 class가 first인 데이터만 빼고 가져오기\n",
    "titles = response.xpath('//*[@id=\"gBestWrap\"]/div/div[3]/div[2]/ul/li[not(@class=\"first\")]/a/text()').extract()\n",
    "len(titles), titles[:5]"
   ]
  },
  {
   "cell_type": "markdown",
   "metadata": {},
   "source": [
    "#### Scrapy Project\n",
    "- 프로젝트 생성\n",
    "    - `$ scrapy startpoject <프로젝트명>`\n",
    "- 프로젝트 파일 설명\n",
    "- 네이버 영화에서 현재 상영중인 영화의 제목과 관객수 데이터를 크롤링 "
   ]
  },
  {
   "cell_type": "markdown",
   "metadata": {},
   "source": [
    "- crawler directory: 프로젝트 디렉토리\n",
    "- spiders directory: 크롤링 실행할 클래스와 함수가 모여있는 디렉토리\n",
    "- items.py: 크롤링을 할 때 가져오는 데이터를 정의하는 클래스 (MVC - Model)\n",
    "- pipeline.py: 여러개의 링크에서 데이터를 가져올 때, 실행하는 함수가 정의 되어 있는 클래스\n",
    "- settings.py: scraping을 할 때, 정책과 같은 설정을 할 수 있는 파일 입니다. \n",
    "    - 예를 들어 robots.txt 정책을 따를 것인지 안 따를 것인지를 결정 할 수 있습니다.\n",
    "\n",
    "- 네이버 영화에서 현재 상영중인 영화의 제목과 누적 관객수 데이터를 크롤링"
   ]
  },
  {
   "cell_type": "code",
   "execution_count": 42,
   "metadata": {},
   "outputs": [
    {
     "name": "stdout",
     "output_type": "stream",
     "text": [
      "https://movie.naver.com/movie/bi/mi/basic.nhn?code=159892\n",
      "https://movie.naver.com/movie/bi/mi/basic.nhn?code=154285\n",
      "https://movie.naver.com/movie/bi/mi/basic.nhn?code=153675\n",
      "https://movie.naver.com/movie/bi/mi/basic.nhn?code=158178\n",
      "https://movie.naver.com/movie/bi/mi/basic.nhn?code=168405\n",
      "https://movie.naver.com/movie/bi/mi/basic.nhn?code=168017\n",
      "https://movie.naver.com/movie/bi/mi/basic.nhn?code=143416\n",
      "https://movie.naver.com/movie/bi/mi/basic.nhn?code=150097\n",
      "https://movie.naver.com/movie/bi/mi/basic.nhn?code=172420\n",
      "https://movie.naver.com/movie/bi/mi/basic.nhn?code=162854\n"
     ]
    }
   ],
   "source": [
    "req = requests.get('https://movie.naver.com/movie/running/current.nhn')\n",
    "response = TextResponse(req.url, body=req.text, encoding='utf-8')\n",
    "links = response.xpath('//*[@id=\"content\"]/div[1]/div[1]/div[3]/ul/li/dl/dt/a/@href').extract()[:10]\n",
    "for link in links:\n",
    "    link = response.urljoin(link)\n",
    "    print(link)"
   ]
  },
  {
   "cell_type": "code",
   "execution_count": 48,
   "metadata": {},
   "outputs": [],
   "source": [
    "req = requests.get('https://movie.naver.com/movie/bi/mi/basic.nhn?code=159892')\n",
    "response = TextResponse(req.url, body=req.text, encoding='utf-8')"
   ]
  },
  {
   "cell_type": "code",
   "execution_count": 49,
   "metadata": {},
   "outputs": [
    {
     "data": {
      "text/plain": [
       "'탐정: 리턴즈'"
      ]
     },
     "execution_count": 49,
     "metadata": {},
     "output_type": "execute_result"
    }
   ],
   "source": [
    "response.xpath('//*[@id=\"content\"]/div[1]/div[2]/div[1]/h3/a[1]/text()').extract()[0]"
   ]
  },
  {
   "cell_type": "code",
   "execution_count": 53,
   "metadata": {},
   "outputs": [
    {
     "data": {
      "text/plain": [
       "'1,405,591명'"
      ]
     },
     "execution_count": 53,
     "metadata": {},
     "output_type": "execute_result"
    }
   ],
   "source": [
    "response.xpath('//*[@id=\"content\"]/div[1]/div[2]/div[1]/dl/dd[5]/div/p[2]/text()').extract()[0]"
   ]
  },
  {
   "cell_type": "code",
   "execution_count": 54,
   "metadata": {},
   "outputs": [],
   "source": [
    "# 프로젝트 디렉토리로 이동\n",
    "# scrapy crawl NaverMovie"
   ]
  },
  {
   "cell_type": "code",
   "execution_count": 55,
   "metadata": {},
   "outputs": [],
   "source": [
    "# csv 파일로 저장\n",
    "# scrapy crawl NaverMovie -o movie.csv"
   ]
  },
  {
   "cell_type": "code",
   "execution_count": 56,
   "metadata": {},
   "outputs": [],
   "source": [
    "# yield\n",
    "# Generator"
   ]
  },
  {
   "cell_type": "code",
   "execution_count": 60,
   "metadata": {},
   "outputs": [],
   "source": [
    "def numbers():\n",
    "    yield 0\n",
    "    yield 1\n",
    "    yield 2"
   ]
  },
  {
   "cell_type": "code",
   "execution_count": 61,
   "metadata": {},
   "outputs": [],
   "source": [
    "n = numbers()"
   ]
  },
  {
   "cell_type": "code",
   "execution_count": 62,
   "metadata": {},
   "outputs": [
    {
     "data": {
      "text/plain": [
       "<generator object numbers at 0x00000000088BAA40>"
      ]
     },
     "execution_count": 62,
     "metadata": {},
     "output_type": "execute_result"
    }
   ],
   "source": [
    "n"
   ]
  },
  {
   "cell_type": "code",
   "execution_count": 63,
   "metadata": {},
   "outputs": [
    {
     "data": {
      "text/plain": [
       "0"
      ]
     },
     "execution_count": 63,
     "metadata": {},
     "output_type": "execute_result"
    }
   ],
   "source": [
    "n.__next__()"
   ]
  },
  {
   "cell_type": "code",
   "execution_count": 64,
   "metadata": {},
   "outputs": [
    {
     "data": {
      "text/plain": [
       "1"
      ]
     },
     "execution_count": 64,
     "metadata": {},
     "output_type": "execute_result"
    }
   ],
   "source": [
    "n.__next__()"
   ]
  },
  {
   "cell_type": "code",
   "execution_count": 65,
   "metadata": {},
   "outputs": [
    {
     "data": {
      "text/plain": [
       "2"
      ]
     },
     "execution_count": 65,
     "metadata": {},
     "output_type": "execute_result"
    }
   ],
   "source": [
    "n.__next__()"
   ]
  },
  {
   "cell_type": "code",
   "execution_count": 66,
   "metadata": {},
   "outputs": [
    {
     "ename": "StopIteration",
     "evalue": "",
     "output_type": "error",
     "traceback": [
      "\u001b[1;31m---------------------------------------------------------------------------\u001b[0m",
      "\u001b[1;31mStopIteration\u001b[0m                             Traceback (most recent call last)",
      "\u001b[1;32m<ipython-input-66-8d5cb7b534a9>\u001b[0m in \u001b[0;36m<module>\u001b[1;34m()\u001b[0m\n\u001b[1;32m----> 1\u001b[1;33m \u001b[0mn\u001b[0m\u001b[1;33m.\u001b[0m\u001b[0m__next__\u001b[0m\u001b[1;33m(\u001b[0m\u001b[1;33m)\u001b[0m\u001b[1;33m\u001b[0m\u001b[0m\n\u001b[0m",
      "\u001b[1;31mStopIteration\u001b[0m: "
     ]
    }
   ],
   "source": [
    "n.__next__()"
   ]
  },
  {
   "cell_type": "code",
   "execution_count": 67,
   "metadata": {},
   "outputs": [],
   "source": [
    "import csv"
   ]
  },
  {
   "cell_type": "code",
   "execution_count": 68,
   "metadata": {},
   "outputs": [],
   "source": [
    "csvwrite = csv.writer(open('NaverMovie.csv', 'w'))"
   ]
  },
  {
   "cell_type": "code",
   "execution_count": 71,
   "metadata": {},
   "outputs": [
    {
     "ename": "AttributeError",
     "evalue": "module 'csv' has no attribute 'close'",
     "output_type": "error",
     "traceback": [
      "\u001b[1;31m---------------------------------------------------------------------------\u001b[0m",
      "\u001b[1;31mAttributeError\u001b[0m                            Traceback (most recent call last)",
      "\u001b[1;32m<ipython-input-71-710a8a1407f1>\u001b[0m in \u001b[0;36m<module>\u001b[1;34m()\u001b[0m\n\u001b[1;32m----> 1\u001b[1;33m \u001b[0mcsv\u001b[0m\u001b[1;33m.\u001b[0m\u001b[0mclose\u001b[0m\u001b[1;33m(\u001b[0m\u001b[1;33m)\u001b[0m\u001b[1;33m\u001b[0m\u001b[0m\n\u001b[0m",
      "\u001b[1;31mAttributeError\u001b[0m: module 'csv' has no attribute 'close'"
     ]
    }
   ],
   "source": [
    "csv.close()"
   ]
  },
  {
   "cell_type": "code",
   "execution_count": null,
   "metadata": {},
   "outputs": [],
   "source": []
  }
 ],
 "metadata": {
  "kernelspec": {
   "display_name": "Python 3",
   "language": "python",
   "name": "python3"
  },
  "language_info": {
   "codemirror_mode": {
    "name": "ipython",
    "version": 3
   },
   "file_extension": ".py",
   "mimetype": "text/x-python",
   "name": "python",
   "nbconvert_exporter": "python",
   "pygments_lexer": "ipython3",
   "version": "3.6.4"
  }
 },
 "nbformat": 4,
 "nbformat_minor": 2
}
