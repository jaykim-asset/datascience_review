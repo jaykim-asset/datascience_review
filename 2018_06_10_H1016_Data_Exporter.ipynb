{
 "cells": [
  {
   "cell_type": "code",
   "execution_count": 39,
   "metadata": {},
   "outputs": [
    {
     "name": "stdout",
     "output_type": "stream",
     "text": [
      "Wall time: 1.71 s\n"
     ]
    },
    {
     "name": "stderr",
     "output_type": "stream",
     "text": [
      "C:\\ProgramData\\Anaconda3\\lib\\site-packages\\ipykernel_launcher.py:40: DeprecationWarning: \n",
      ".ix is deprecated. Please use\n",
      ".loc for label based indexing or\n",
      ".iloc for positional indexing\n",
      "\n",
      "See the documentation here:\n",
      "http://pandas.pydata.org/pandas-docs/stable/indexing.html#ix-indexer-is-deprecated\n"
     ]
    }
   ],
   "source": [
    "%%time\n",
    "import numpy as np\n",
    "import pandas as pd\n",
    "import time\n",
    "\n",
    "f = open('C:\\\\Finance_team\\\\raw_data\\\\sise2local.ALL_CMDT.0213', 'r', encoding='ISO-8859-1') # Raw Data File Open\n",
    "\n",
    "Product_Code_H1016 = ' ' \n",
    "date = ' '\n",
    "\n",
    "while Product_Code_H1016:\n",
    "    line = f.readline()\n",
    "    if (line[17:22] == 'A0016') and (line[425:428] == 'BM3') and (line[471:474] == '001') == True:\n",
    "        Product_Code_H1016 = line[53:64] #### 'KRDRVFUBM3 '찾기\n",
    "        date = line[27:35] \n",
    "        break\n",
    "        \n",
    "        ## 3년 국채 선물 code: BM3\n",
    "        ## A0016: 상품선물_종목정보 데이터 Code\n",
    "        ## line[471:475] == 001 --> 최근월물 의미함. (Spec 참조)\n",
    "        ## line[53:64] ==> product_Code_H1016자리. \n",
    "        ## line[27:35] ==> date ## 20180213\n",
    "        \n",
    "f_1 = open('C:\\\\Finance_team\\\\transformed_data\\\\{0}_{1}.csv'.format(Product_Code_H1016, date), 'a', encoding='ISO-8859-1') # New File Open\n",
    "f_1.write('time,data_type,investor,long_quantity,short_quantity\\n')\n",
    "\n",
    "while True:\n",
    "    line = f.readline()\n",
    "    if not line:\n",
    "        break\n",
    "\n",
    "    if (line[17:19] == 'H1') and (line.count(Product_Code_H1016) == 1):\n",
    "        line = line[0:17] + ',' + line[36:38] + ',' + line[49:53] + ',' + line[53:62] + ',' + line[62:71] + '\\n'\n",
    "        f_1.write(line)\n",
    "\n",
    "\n",
    "f_1.close()\n",
    "f.close()\n",
    "\n",
    "data = pd.read_csv('C:\\\\Finance_team\\\\transformed_data\\\\{0}_{1}.csv'.format(Product_Code_H1016, date),index_col=None)\n",
    "data = data.ix[1:]     # row(1) 삭제 하기 위함 - Auction Period 체결량이지만, 지금 활용하고 싶지는 않음\n",
    "data.to_csv('C:\\\\Finance_team\\\\transformed_data\\\\{0}_{1}.csv'.format(Product_Code_H1016, date), index = False)"
   ]
  },
  {
   "cell_type": "code",
   "execution_count": null,
   "metadata": {},
   "outputs": [],
   "source": []
  }
 ],
 "metadata": {
  "kernelspec": {
   "display_name": "Python 3",
   "language": "python",
   "name": "python3"
  },
  "language_info": {
   "codemirror_mode": {
    "name": "ipython",
    "version": 3
   },
   "file_extension": ".py",
   "mimetype": "text/x-python",
   "name": "python",
   "nbconvert_exporter": "python",
   "pygments_lexer": "ipython3",
   "version": "3.6.4"
  }
 },
 "nbformat": 4,
 "nbformat_minor": 2
}
