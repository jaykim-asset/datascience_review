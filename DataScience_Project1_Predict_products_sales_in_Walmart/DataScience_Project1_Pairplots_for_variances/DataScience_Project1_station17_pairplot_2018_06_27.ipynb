{
 "cells": [
  {
   "cell_type": "code",
   "execution_count": 1,
   "metadata": {},
   "outputs": [],
   "source": [
    "import pandas as pd\n",
    "import numpy as np\n",
    "import matplotlib.pyplot as plt\n",
    "import seaborn as sns\n",
    "\n",
    "%matplotlib inline\n",
    "%config InlineBackend.figure_formats = {'png', 'retina'}\n",
    "\n",
    "pd.options.mode.chained_assignment = None  # default='warn'\n",
    "\n",
    "data_key = pd.read_csv('key.csv')\n",
    "data_key = data_key[data_key['station_nbr'] != 5]\n",
    "data_weather = pd.read_csv('weather.csv')\n",
    "data_weather = data_weather[data_weather['station_nbr'] != 5] ## Station 5번 제거한 나머지\n",
    "data_train = pd.read_csv('train.csv')\n",
    "\n",
    "df = pd.merge(data_weather, data_key)\n",
    "station_nbr = df['station_nbr']\n",
    "df.drop('station_nbr', axis=1, inplace=True)\n",
    "df['station_nbr'] = station_nbr\n",
    "df = pd.merge(df, data_train)\n",
    "# Station 5번을 뺀 나머지 Merge 완성\n",
    "# 'M'과 '-'을 np.nan으로 값을 변경하기 전에, '  T'값을 먼저 snowfall=0.05, preciptotal = 0.005로 변경하자 \n",
    "df['snowfall'][df['snowfall'] == '  T'] = 0.05\n",
    "df['preciptotal'][df['preciptotal'] == '  T'] = 0.005\n",
    "df['snowfall'][df['snowfall'] == '  T'], df['preciptotal'][df['preciptotal'] == '  T']\n",
    "# T 값 변경 완료. 이제, 19개 Station 별로 정리하기 (5번 Station 생략)\n",
    "df['snowfall'][df['snowfall'] == '  T'] = 0.05\n",
    "df['preciptotal'][df['preciptotal'] == '  T'] = 0.005\n",
    "# T 값 변경 완료. 이제, 19개 Station 별로 정리하기 (5번 Station 생략)\n",
    "df_s_1 = df[df['station_nbr'] == 1]; df_s_8 = df[df['station_nbr'] == 8]; df_s_15 = df[df['station_nbr'] == 15]\n",
    "df_s_2 = df[df['station_nbr'] == 2]; df_s_9 = df[df['station_nbr'] == 9]; df_s_16 = df[df['station_nbr'] == 16]\n",
    "df_s_3 = df[df['station_nbr'] == 3]; df_s_10 = df[df['station_nbr'] == 10]; df_s_17 = df[df['station_nbr'] == 17]\n",
    "df_s_4 = df[df['station_nbr'] == 4]; df_s_11 = df[df['station_nbr'] == 11]; df_s_18 = df[df['station_nbr'] == 18]\n",
    "df_s_5 = df[df['station_nbr'] == 5]; df_s_12 = df[df['station_nbr'] == 12]; df_s_19 = df[df['station_nbr'] == 19]\n",
    "df_s_6 = df[df['station_nbr'] == 6]; df_s_13 = df[df['station_nbr'] == 13]; df_s_20 = df[df['station_nbr'] == 20]\n",
    "df_s_7 = df[df['station_nbr'] == 7]; df_s_14 = df[df['station_nbr'] == 14]"
   ]
  },
  {
   "cell_type": "code",
   "execution_count": 2,
   "metadata": {},
   "outputs": [],
   "source": [
    "#station 17\n",
    "cols17 = df_s_17.columns.drop(['date', 'codesum'])\n",
    "df_s_17[cols17] = df_s_17[cols17].apply(pd.to_numeric, errors='coerce')\n",
    "\n",
    "df_s_17['tmax'][df_s_17['tmax'].isnull()] = df_s_17['tmax'].mean()\n",
    "df_s_17['tmin'][df_s_17['tmin'].isnull()] = df_s_17['tmax'].mean()\n",
    "df_s_17['tavg'][df_s_17['tavg'].isnull()] = df_s_17['tavg'].mean()\n",
    "df_s_17['depart'][df_s_17['depart'].isnull()] = df_s_17['depart'].mean()\n",
    "df_s_17['dewpoint'][df_s_17['dewpoint'].isnull()] = df_s_17['dewpoint'].mean()\n",
    "df_s_17['wetbulb'][df_s_17['wetbulb'].isnull()] = df_s_17['wetbulb'].mean()\n",
    "df_s_17['heat'][df_s_17['heat'].isnull()] = df_s_17['heat'].mean()\n",
    "df_s_17['cool'][df_s_17['cool'].isnull()] = df_s_17['cool'].mean()\n",
    "df_s_17['sunrise'][df_s_17['sunrise'].isnull()] = df_s_17['sunrise'].mean()\n",
    "df_s_17['sunset'][df_s_17['sunset'].isnull()] = df_s_17['sunset'].mean()\n",
    "df_s_17['snowfall'][df_s_17['snowfall'].isnull()] = df_s_17['snowfall'].mean()\n",
    "df_s_17['preciptotal'][df_s_17['preciptotal'].isnull()] = df_s_17['preciptotal'].mean()\n",
    "df_s_17['stnpressure'][df_s_17['stnpressure'].isnull()] = df_s_17['stnpressure'].mean()\n",
    "df_s_17['sealevel'][df_s_17['sealevel'].isnull()] = df_s_17['sealevel'].mean()\n",
    "df_s_17['resultspeed'][df_s_17['resultspeed'].isnull()] = df_s_17['resultspeed'].mean()\n",
    "df_s_17['resultdir'][df_s_17['resultdir'].isnull()] = df_s_17['resultdir'].mean()\n",
    "df_s_17['avgspeed'][df_s_17['avgspeed'].isnull()] = df_s_17['avgspeed'].mean()"
   ]
  },
  {
   "cell_type": "code",
   "execution_count": null,
   "metadata": {},
   "outputs": [],
   "source": [
    "df17_col = df_s_17.columns.drop(['date','depart', 'sunrise', 'sunset', 'store_nbr', 'station_nbr', 'item_nbr'])\n",
    "sns.pairplot(df_s_17[df17_col])\n",
    "plt.show()"
   ]
  },
  {
   "cell_type": "code",
   "execution_count": null,
   "metadata": {},
   "outputs": [],
   "source": []
  }
 ],
 "metadata": {
  "kernelspec": {
   "display_name": "Python 3",
   "language": "python",
   "name": "python3"
  },
  "language_info": {
   "codemirror_mode": {
    "name": "ipython",
    "version": 3
   },
   "file_extension": ".py",
   "mimetype": "text/x-python",
   "name": "python",
   "nbconvert_exporter": "python",
   "pygments_lexer": "ipython3",
   "version": "3.6.4"
  }
 },
 "nbformat": 4,
 "nbformat_minor": 2
}
