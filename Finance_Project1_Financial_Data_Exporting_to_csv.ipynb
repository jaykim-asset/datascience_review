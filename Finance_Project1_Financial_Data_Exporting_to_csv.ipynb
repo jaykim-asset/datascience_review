{
 "cells": [
  {
   "cell_type": "code",
   "execution_count": null,
   "metadata": {},
   "outputs": [],
   "source": [
    "%%time\n",
    "import numpy as np\n",
    "import pandas as pd\n",
    "import time\n",
    "\n",
    "f = open('D:\\\\Jay_test_sise\\\\sise2local.ALL_CMDT.0219', 'r', encoding='ISO-8859-1')\n",
    "f_1 = open('C:\\\\Users\\\\win\\\\sise2local.ALL_CMDT_0219_readline.csv', 'a', encoding='ISO-8859-1')\n",
    "f_1.write('time,cur_price,exe_quantity,short_lvl1_price,short_lvl1_quantity,long_lvl1_price,long_lvl1_quantity,long_or_short,All_short_quantity,All_long_quantity\\n')\n",
    "\n",
    "KTB_productID = ' '\n",
    "\n",
    "while KTB_productID:\n",
    "    line = f.readline()\n",
    "    if (line[17:22] == 'A0016') and (line[425:428] == 'BMA') and (line[471:474] == '001') == True: ## BMA: 10년 국채 Code\n",
    "        KTB_productID = line[35:47]\n",
    "        break\n",
    "\n",
    "while True:\n",
    "    line = f.readline()\n",
    "\n",
    "    if not line:\n",
    "        break\n",
    "\n",
    "    if (line[17:19] == 'A3') and (line.count(KTB_productID) == 1):\n",
    "        line = line[0:17] + ',' + line[40:48] + ',' + line[48:54] + ',,,,,' + line[152] + '\\n'\n",
    "        f_1.write(line)\n",
    "\n",
    "    elif line[17:19] == 'G7' and line.count(KTB_productID):\n",
    "        line = line[0:17] + ',' + line[40:48] + ',' + line[48:54] + ',' + line[243:251] + ',' + line[-135:-129] + ',' + line[161:169] + ',' + line[169:175] + ',' + line[152] + ',' + line[-151:-144] + ',' + line[153:160] + '\\n'\n",
    "        f_1.write(line)\n",
    "\n",
    "print(KTB_productID)\n",
    "\n",
    "f_1.close()\n",
    "f.close()\n",
    "\n",
    "data = pd.read_csv('C:\\\\Users\\\\win\\\\sise2local.ALL_CMDT_0219_readline.csv')\n",
    "data = data.ix[1:]     # row(1) 삭제 하기 위함 - Auction Period 체결량이지만, 지금 활용하고 싶지는 않음\n",
    "data.to_csv('C:\\\\Users\\\\win\\\\sise2local.ALL_CMDT_0219_readline.csv', index = False)"
   ]
  }
 ],
 "metadata": {
  "kernelspec": {
   "display_name": "Python 3",
   "language": "python",
   "name": "python3"
  },
  "language_info": {
   "codemirror_mode": {
    "name": "ipython",
    "version": 3
   },
   "file_extension": ".py",
   "mimetype": "text/x-python",
   "name": "python",
   "nbconvert_exporter": "python",
   "pygments_lexer": "ipython3",
   "version": "3.6.4"
  }
 },
 "nbformat": 4,
 "nbformat_minor": 2
}
